{
  "cells": [
    {
      "cell_type": "code",
      "execution_count": 1,
      "metadata": {
        "id": "6mEK7E56bn_U"
      },
      "outputs": [],
      "source": [
        "import tensorflow as tf\n",
        "import pandas as pd\n",
        "\n",
        "import numpy as np\n",
        "import matplotlib.pyplot as plt \n",
        "\n",
        "# para construir a arvore\n",
        "from sklearn.tree import DecisionTreeClassifier\n",
        "from sklearn.tree import plot_tree\n",
        "\n",
        "# para separar os dados e validar resultados\n",
        "from sklearn.model_selection import train_test_split\n",
        "from sklearn.model_selection import cross_val_score\n",
        "\n",
        "# para construir e plotar a matriz de confusao\n",
        "from sklearn.metrics import confusion_matrix\n",
        "from sklearn.metrics import ConfusionMatrixDisplay\n",
        "\n",
        "\n",
        "import warnings\n",
        "warnings.filterwarnings(\"ignore\")"
      ]
    },
    {
      "cell_type": "markdown",
      "metadata": {
        "id": "QzEWIp4C3jaT"
      },
      "source": [
        "# Pré-processamento dos dados\n",
        "\n",
        "\n",
        "\n",
        "\n"
      ]
    },
    {
      "cell_type": "markdown",
      "metadata": {
        "id": "9ejheQrb4Xd9"
      },
      "source": [
        "Lendo a base de dados e dispensando as colunas desnecessárias."
      ]
    },
    {
      "cell_type": "code",
      "execution_count": 27,
      "metadata": {
        "colab": {
          "base_uri": "https://localhost:8080/",
          "height": 250
        },
        "id": "0iqe9CT4jmmu",
        "outputId": "9d1652dc-a1ca-4525-e5bc-4dfddc6f62e4"
      },
      "outputs": [
        {
          "data": {
            "text/html": [
              "\n",
              "  <div id=\"df-7d87caab-a4a0-4320-952d-4bf25fe145a8\">\n",
              "    <div class=\"colab-df-container\">\n",
              "      <div>\n",
              "<style scoped>\n",
              "    .dataframe tbody tr th:only-of-type {\n",
              "        vertical-align: middle;\n",
              "    }\n",
              "\n",
              "    .dataframe tbody tr th {\n",
              "        vertical-align: top;\n",
              "    }\n",
              "\n",
              "    .dataframe thead th {\n",
              "        text-align: right;\n",
              "    }\n",
              "</style>\n",
              "<table border=\"1\" class=\"dataframe\">\n",
              "  <thead>\n",
              "    <tr style=\"text-align: right;\">\n",
              "      <th></th>\n",
              "      <th>nome_curso</th>\n",
              "      <th>carga_horaria</th>\n",
              "      <th>eixo_tec</th>\n",
              "      <th>fator_esforco</th>\n",
              "      <th>tipo_curso</th>\n",
              "      <th>turno</th>\n",
              "      <th>situacao</th>\n",
              "      <th>inicio_curso</th>\n",
              "      <th>final_esperado</th>\n",
              "      <th>renda</th>\n",
              "      <th>sexo</th>\n",
              "      <th>faixa_etaria</th>\n",
              "      <th>cor</th>\n",
              "    </tr>\n",
              "  </thead>\n",
              "  <tbody>\n",
              "    <tr>\n",
              "      <th>0</th>\n",
              "      <td>engenharia civil</td>\n",
              "      <td>3800</td>\n",
              "      <td>infraestrutura</td>\n",
              "      <td>1.14</td>\n",
              "      <td>bacharelado</td>\n",
              "      <td>integral</td>\n",
              "      <td>E</td>\n",
              "      <td>22/05/2017</td>\n",
              "      <td>28/04/2022</td>\n",
              "      <td>1,0&lt;RFP&lt;=1,5</td>\n",
              "      <td>M</td>\n",
              "      <td>15-19</td>\n",
              "      <td>branca</td>\n",
              "    </tr>\n",
              "    <tr>\n",
              "      <th>1</th>\n",
              "      <td>engenharia civil</td>\n",
              "      <td>3800</td>\n",
              "      <td>infraestrutura</td>\n",
              "      <td>1.14</td>\n",
              "      <td>bacharelado</td>\n",
              "      <td>integral</td>\n",
              "      <td>E</td>\n",
              "      <td>22/05/2017</td>\n",
              "      <td>28/04/2022</td>\n",
              "      <td>0&lt;RFP&lt;=0,5</td>\n",
              "      <td>M</td>\n",
              "      <td>25-29</td>\n",
              "      <td>parda</td>\n",
              "    </tr>\n",
              "    <tr>\n",
              "      <th>2</th>\n",
              "      <td>engenharia civil</td>\n",
              "      <td>3800</td>\n",
              "      <td>infraestrutura</td>\n",
              "      <td>1.14</td>\n",
              "      <td>bacharelado</td>\n",
              "      <td>integral</td>\n",
              "      <td>E</td>\n",
              "      <td>22/05/2017</td>\n",
              "      <td>28/04/2022</td>\n",
              "      <td>0,5&lt;RFP&lt;=1</td>\n",
              "      <td>M</td>\n",
              "      <td>20-24</td>\n",
              "      <td>branca</td>\n",
              "    </tr>\n",
              "    <tr>\n",
              "      <th>3</th>\n",
              "      <td>engenharia civil</td>\n",
              "      <td>3800</td>\n",
              "      <td>infraestrutura</td>\n",
              "      <td>1.14</td>\n",
              "      <td>bacharelado</td>\n",
              "      <td>integral</td>\n",
              "      <td>E</td>\n",
              "      <td>22/05/2017</td>\n",
              "      <td>28/04/2022</td>\n",
              "      <td>1,0&lt;RFP&lt;=1,5</td>\n",
              "      <td>M</td>\n",
              "      <td>20-24</td>\n",
              "      <td>branca</td>\n",
              "    </tr>\n",
              "    <tr>\n",
              "      <th>4</th>\n",
              "      <td>engenharia civil</td>\n",
              "      <td>3800</td>\n",
              "      <td>infraestrutura</td>\n",
              "      <td>1.14</td>\n",
              "      <td>bacharelado</td>\n",
              "      <td>integral</td>\n",
              "      <td>E</td>\n",
              "      <td>07/04/2014</td>\n",
              "      <td>31/12/2017</td>\n",
              "      <td>1,0&lt;RFP&lt;=1,5</td>\n",
              "      <td>M</td>\n",
              "      <td>30-34</td>\n",
              "      <td>branca</td>\n",
              "    </tr>\n",
              "  </tbody>\n",
              "</table>\n",
              "</div>\n",
              "      <button class=\"colab-df-convert\" onclick=\"convertToInteractive('df-7d87caab-a4a0-4320-952d-4bf25fe145a8')\"\n",
              "              title=\"Convert this dataframe to an interactive table.\"\n",
              "              style=\"display:none;\">\n",
              "        \n",
              "  <svg xmlns=\"http://www.w3.org/2000/svg\" height=\"24px\"viewBox=\"0 0 24 24\"\n",
              "       width=\"24px\">\n",
              "    <path d=\"M0 0h24v24H0V0z\" fill=\"none\"/>\n",
              "    <path d=\"M18.56 5.44l.94 2.06.94-2.06 2.06-.94-2.06-.94-.94-2.06-.94 2.06-2.06.94zm-11 1L8.5 8.5l.94-2.06 2.06-.94-2.06-.94L8.5 2.5l-.94 2.06-2.06.94zm10 10l.94 2.06.94-2.06 2.06-.94-2.06-.94-.94-2.06-.94 2.06-2.06.94z\"/><path d=\"M17.41 7.96l-1.37-1.37c-.4-.4-.92-.59-1.43-.59-.52 0-1.04.2-1.43.59L10.3 9.45l-7.72 7.72c-.78.78-.78 2.05 0 2.83L4 21.41c.39.39.9.59 1.41.59.51 0 1.02-.2 1.41-.59l7.78-7.78 2.81-2.81c.8-.78.8-2.07 0-2.86zM5.41 20L4 18.59l7.72-7.72 1.47 1.35L5.41 20z\"/>\n",
              "  </svg>\n",
              "      </button>\n",
              "      \n",
              "  <style>\n",
              "    .colab-df-container {\n",
              "      display:flex;\n",
              "      flex-wrap:wrap;\n",
              "      gap: 12px;\n",
              "    }\n",
              "\n",
              "    .colab-df-convert {\n",
              "      background-color: #E8F0FE;\n",
              "      border: none;\n",
              "      border-radius: 50%;\n",
              "      cursor: pointer;\n",
              "      display: none;\n",
              "      fill: #1967D2;\n",
              "      height: 32px;\n",
              "      padding: 0 0 0 0;\n",
              "      width: 32px;\n",
              "    }\n",
              "\n",
              "    .colab-df-convert:hover {\n",
              "      background-color: #E2EBFA;\n",
              "      box-shadow: 0px 1px 2px rgba(60, 64, 67, 0.3), 0px 1px 3px 1px rgba(60, 64, 67, 0.15);\n",
              "      fill: #174EA6;\n",
              "    }\n",
              "\n",
              "    [theme=dark] .colab-df-convert {\n",
              "      background-color: #3B4455;\n",
              "      fill: #D2E3FC;\n",
              "    }\n",
              "\n",
              "    [theme=dark] .colab-df-convert:hover {\n",
              "      background-color: #434B5C;\n",
              "      box-shadow: 0px 1px 3px 1px rgba(0, 0, 0, 0.15);\n",
              "      filter: drop-shadow(0px 1px 2px rgba(0, 0, 0, 0.3));\n",
              "      fill: #FFFFFF;\n",
              "    }\n",
              "  </style>\n",
              "\n",
              "      <script>\n",
              "        const buttonEl =\n",
              "          document.querySelector('#df-7d87caab-a4a0-4320-952d-4bf25fe145a8 button.colab-df-convert');\n",
              "        buttonEl.style.display =\n",
              "          google.colab.kernel.accessAllowed ? 'block' : 'none';\n",
              "\n",
              "        async function convertToInteractive(key) {\n",
              "          const element = document.querySelector('#df-7d87caab-a4a0-4320-952d-4bf25fe145a8');\n",
              "          const dataTable =\n",
              "            await google.colab.kernel.invokeFunction('convertToInteractive',\n",
              "                                                     [key], {});\n",
              "          if (!dataTable) return;\n",
              "\n",
              "          const docLinkHtml = 'Like what you see? Visit the ' +\n",
              "            '<a target=\"_blank\" href=https://colab.research.google.com/notebooks/data_table.ipynb>data table notebook</a>'\n",
              "            + ' to learn more about interactive tables.';\n",
              "          element.innerHTML = '';\n",
              "          dataTable['output_type'] = 'display_data';\n",
              "          await google.colab.output.renderOutput(dataTable, element);\n",
              "          const docLink = document.createElement('div');\n",
              "          docLink.innerHTML = docLinkHtml;\n",
              "          element.appendChild(docLink);\n",
              "        }\n",
              "      </script>\n",
              "    </div>\n",
              "  </div>\n",
              "  "
            ],
            "text/plain": [
              "         nome_curso  carga_horaria        eixo_tec  fator_esforco  \\\n",
              "0  engenharia civil           3800  infraestrutura           1.14   \n",
              "1  engenharia civil           3800  infraestrutura           1.14   \n",
              "2  engenharia civil           3800  infraestrutura           1.14   \n",
              "3  engenharia civil           3800  infraestrutura           1.14   \n",
              "4  engenharia civil           3800  infraestrutura           1.14   \n",
              "\n",
              "    tipo_curso     turno situacao inicio_curso final_esperado         renda  \\\n",
              "0  bacharelado  integral        E   22/05/2017     28/04/2022  1,0<RFP<=1,5   \n",
              "1  bacharelado  integral        E   22/05/2017     28/04/2022    0<RFP<=0,5   \n",
              "2  bacharelado  integral        E   22/05/2017     28/04/2022    0,5<RFP<=1   \n",
              "3  bacharelado  integral        E   22/05/2017     28/04/2022  1,0<RFP<=1,5   \n",
              "4  bacharelado  integral        E   07/04/2014     31/12/2017  1,0<RFP<=1,5   \n",
              "\n",
              "  sexo faixa_etaria        cor  \n",
              "0    M        15-19  branca     \n",
              "1    M        25-29  parda      \n",
              "2    M        20-24  branca     \n",
              "3    M        20-24  branca     \n",
              "4    M        30-34  branca     "
            ]
          },
          "execution_count": 27,
          "metadata": {},
          "output_type": "execute_result"
        }
      ],
      "source": [
        "data = pd.read_csv('data.csv',sep=',', usecols = lambda column:column not in ['Unnamed: 0','cod_curso','cod_matricula','cod_ciclo_matricula'])\n",
        "data.head()"
      ]
    },
    {
      "cell_type": "markdown",
      "metadata": {
        "id": "sK9stzk54m-S"
      },
      "source": [
        "Separando os dados. \n",
        "\n",
        "\n",
        "*   X = features de cada aluno na base\n",
        "*   y = variável preditora (coluna **situacao**)\n",
        "\n"
      ]
    },
    {
      "cell_type": "code",
      "execution_count": 28,
      "metadata": {
        "colab": {
          "base_uri": "https://localhost:8080/",
          "height": 143
        },
        "id": "N4SKZ7gWHWxE",
        "outputId": "36d8abc5-96a8-4fdf-af58-22aa876bc43c"
      },
      "outputs": [
        {
          "data": {
            "text/html": [
              "\n",
              "  <div id=\"df-ba6a123f-0a2e-40d0-85b9-8ce8224d6c4b\">\n",
              "    <div class=\"colab-df-container\">\n",
              "      <div>\n",
              "<style scoped>\n",
              "    .dataframe tbody tr th:only-of-type {\n",
              "        vertical-align: middle;\n",
              "    }\n",
              "\n",
              "    .dataframe tbody tr th {\n",
              "        vertical-align: top;\n",
              "    }\n",
              "\n",
              "    .dataframe thead th {\n",
              "        text-align: right;\n",
              "    }\n",
              "</style>\n",
              "<table border=\"1\" class=\"dataframe\">\n",
              "  <thead>\n",
              "    <tr style=\"text-align: right;\">\n",
              "      <th></th>\n",
              "      <th>nome_curso</th>\n",
              "      <th>carga_horaria</th>\n",
              "      <th>eixo_tec</th>\n",
              "      <th>fator_esforco</th>\n",
              "      <th>tipo_curso</th>\n",
              "      <th>turno</th>\n",
              "      <th>inicio_curso</th>\n",
              "      <th>final_esperado</th>\n",
              "      <th>renda</th>\n",
              "      <th>sexo</th>\n",
              "      <th>faixa_etaria</th>\n",
              "      <th>cor</th>\n",
              "    </tr>\n",
              "  </thead>\n",
              "  <tbody>\n",
              "    <tr>\n",
              "      <th>0</th>\n",
              "      <td>engenharia civil</td>\n",
              "      <td>3800</td>\n",
              "      <td>infraestrutura</td>\n",
              "      <td>1.14</td>\n",
              "      <td>bacharelado</td>\n",
              "      <td>integral</td>\n",
              "      <td>22/05/2017</td>\n",
              "      <td>28/04/2022</td>\n",
              "      <td>1,0&lt;RFP&lt;=1,5</td>\n",
              "      <td>M</td>\n",
              "      <td>15-19</td>\n",
              "      <td>branca</td>\n",
              "    </tr>\n",
              "    <tr>\n",
              "      <th>1</th>\n",
              "      <td>engenharia civil</td>\n",
              "      <td>3800</td>\n",
              "      <td>infraestrutura</td>\n",
              "      <td>1.14</td>\n",
              "      <td>bacharelado</td>\n",
              "      <td>integral</td>\n",
              "      <td>22/05/2017</td>\n",
              "      <td>28/04/2022</td>\n",
              "      <td>0&lt;RFP&lt;=0,5</td>\n",
              "      <td>M</td>\n",
              "      <td>25-29</td>\n",
              "      <td>parda</td>\n",
              "    </tr>\n",
              "    <tr>\n",
              "      <th>2</th>\n",
              "      <td>engenharia civil</td>\n",
              "      <td>3800</td>\n",
              "      <td>infraestrutura</td>\n",
              "      <td>1.14</td>\n",
              "      <td>bacharelado</td>\n",
              "      <td>integral</td>\n",
              "      <td>22/05/2017</td>\n",
              "      <td>28/04/2022</td>\n",
              "      <td>0,5&lt;RFP&lt;=1</td>\n",
              "      <td>M</td>\n",
              "      <td>20-24</td>\n",
              "      <td>branca</td>\n",
              "    </tr>\n",
              "  </tbody>\n",
              "</table>\n",
              "</div>\n",
              "      <button class=\"colab-df-convert\" onclick=\"convertToInteractive('df-ba6a123f-0a2e-40d0-85b9-8ce8224d6c4b')\"\n",
              "              title=\"Convert this dataframe to an interactive table.\"\n",
              "              style=\"display:none;\">\n",
              "        \n",
              "  <svg xmlns=\"http://www.w3.org/2000/svg\" height=\"24px\"viewBox=\"0 0 24 24\"\n",
              "       width=\"24px\">\n",
              "    <path d=\"M0 0h24v24H0V0z\" fill=\"none\"/>\n",
              "    <path d=\"M18.56 5.44l.94 2.06.94-2.06 2.06-.94-2.06-.94-.94-2.06-.94 2.06-2.06.94zm-11 1L8.5 8.5l.94-2.06 2.06-.94-2.06-.94L8.5 2.5l-.94 2.06-2.06.94zm10 10l.94 2.06.94-2.06 2.06-.94-2.06-.94-.94-2.06-.94 2.06-2.06.94z\"/><path d=\"M17.41 7.96l-1.37-1.37c-.4-.4-.92-.59-1.43-.59-.52 0-1.04.2-1.43.59L10.3 9.45l-7.72 7.72c-.78.78-.78 2.05 0 2.83L4 21.41c.39.39.9.59 1.41.59.51 0 1.02-.2 1.41-.59l7.78-7.78 2.81-2.81c.8-.78.8-2.07 0-2.86zM5.41 20L4 18.59l7.72-7.72 1.47 1.35L5.41 20z\"/>\n",
              "  </svg>\n",
              "      </button>\n",
              "      \n",
              "  <style>\n",
              "    .colab-df-container {\n",
              "      display:flex;\n",
              "      flex-wrap:wrap;\n",
              "      gap: 12px;\n",
              "    }\n",
              "\n",
              "    .colab-df-convert {\n",
              "      background-color: #E8F0FE;\n",
              "      border: none;\n",
              "      border-radius: 50%;\n",
              "      cursor: pointer;\n",
              "      display: none;\n",
              "      fill: #1967D2;\n",
              "      height: 32px;\n",
              "      padding: 0 0 0 0;\n",
              "      width: 32px;\n",
              "    }\n",
              "\n",
              "    .colab-df-convert:hover {\n",
              "      background-color: #E2EBFA;\n",
              "      box-shadow: 0px 1px 2px rgba(60, 64, 67, 0.3), 0px 1px 3px 1px rgba(60, 64, 67, 0.15);\n",
              "      fill: #174EA6;\n",
              "    }\n",
              "\n",
              "    [theme=dark] .colab-df-convert {\n",
              "      background-color: #3B4455;\n",
              "      fill: #D2E3FC;\n",
              "    }\n",
              "\n",
              "    [theme=dark] .colab-df-convert:hover {\n",
              "      background-color: #434B5C;\n",
              "      box-shadow: 0px 1px 3px 1px rgba(0, 0, 0, 0.15);\n",
              "      filter: drop-shadow(0px 1px 2px rgba(0, 0, 0, 0.3));\n",
              "      fill: #FFFFFF;\n",
              "    }\n",
              "  </style>\n",
              "\n",
              "      <script>\n",
              "        const buttonEl =\n",
              "          document.querySelector('#df-ba6a123f-0a2e-40d0-85b9-8ce8224d6c4b button.colab-df-convert');\n",
              "        buttonEl.style.display =\n",
              "          google.colab.kernel.accessAllowed ? 'block' : 'none';\n",
              "\n",
              "        async function convertToInteractive(key) {\n",
              "          const element = document.querySelector('#df-ba6a123f-0a2e-40d0-85b9-8ce8224d6c4b');\n",
              "          const dataTable =\n",
              "            await google.colab.kernel.invokeFunction('convertToInteractive',\n",
              "                                                     [key], {});\n",
              "          if (!dataTable) return;\n",
              "\n",
              "          const docLinkHtml = 'Like what you see? Visit the ' +\n",
              "            '<a target=\"_blank\" href=https://colab.research.google.com/notebooks/data_table.ipynb>data table notebook</a>'\n",
              "            + ' to learn more about interactive tables.';\n",
              "          element.innerHTML = '';\n",
              "          dataTable['output_type'] = 'display_data';\n",
              "          await google.colab.output.renderOutput(dataTable, element);\n",
              "          const docLink = document.createElement('div');\n",
              "          docLink.innerHTML = docLinkHtml;\n",
              "          element.appendChild(docLink);\n",
              "        }\n",
              "      </script>\n",
              "    </div>\n",
              "  </div>\n",
              "  "
            ],
            "text/plain": [
              "         nome_curso  carga_horaria        eixo_tec  fator_esforco  \\\n",
              "0  engenharia civil           3800  infraestrutura           1.14   \n",
              "1  engenharia civil           3800  infraestrutura           1.14   \n",
              "2  engenharia civil           3800  infraestrutura           1.14   \n",
              "\n",
              "    tipo_curso     turno inicio_curso final_esperado         renda sexo  \\\n",
              "0  bacharelado  integral   22/05/2017     28/04/2022  1,0<RFP<=1,5    M   \n",
              "1  bacharelado  integral   22/05/2017     28/04/2022    0<RFP<=0,5    M   \n",
              "2  bacharelado  integral   22/05/2017     28/04/2022    0,5<RFP<=1    M   \n",
              "\n",
              "  faixa_etaria        cor  \n",
              "0        15-19  branca     \n",
              "1        25-29  parda      \n",
              "2        20-24  branca     "
            ]
          },
          "execution_count": 28,
          "metadata": {},
          "output_type": "execute_result"
        }
      ],
      "source": [
        "X = data.loc[:,['nome_curso',\n",
        " 'carga_horaria',\n",
        " 'eixo_tec',\n",
        " 'fator_esforco',\n",
        " 'tipo_curso',\n",
        " 'turno',\n",
        " 'inicio_curso',\n",
        " 'final_esperado',\n",
        " 'renda',\n",
        " 'sexo',\n",
        " 'faixa_etaria',\n",
        " 'cor']]\n",
        "X.head(3)"
      ]
    },
    {
      "cell_type": "code",
      "execution_count": 29,
      "metadata": {
        "colab": {
          "base_uri": "https://localhost:8080/",
          "height": 143
        },
        "id": "O_MQqyLtJ9EN",
        "outputId": "f70ab89a-a3f1-4f95-df30-3922a7cb1b7e"
      },
      "outputs": [
        {
          "data": {
            "text/html": [
              "\n",
              "  <div id=\"df-bddaeac1-1590-4693-974d-1df870c7bf73\">\n",
              "    <div class=\"colab-df-container\">\n",
              "      <div>\n",
              "<style scoped>\n",
              "    .dataframe tbody tr th:only-of-type {\n",
              "        vertical-align: middle;\n",
              "    }\n",
              "\n",
              "    .dataframe tbody tr th {\n",
              "        vertical-align: top;\n",
              "    }\n",
              "\n",
              "    .dataframe thead th {\n",
              "        text-align: right;\n",
              "    }\n",
              "</style>\n",
              "<table border=\"1\" class=\"dataframe\">\n",
              "  <thead>\n",
              "    <tr style=\"text-align: right;\">\n",
              "      <th></th>\n",
              "      <th>situacao</th>\n",
              "    </tr>\n",
              "  </thead>\n",
              "  <tbody>\n",
              "    <tr>\n",
              "      <th>0</th>\n",
              "      <td>E</td>\n",
              "    </tr>\n",
              "    <tr>\n",
              "      <th>1</th>\n",
              "      <td>E</td>\n",
              "    </tr>\n",
              "    <tr>\n",
              "      <th>2</th>\n",
              "      <td>E</td>\n",
              "    </tr>\n",
              "  </tbody>\n",
              "</table>\n",
              "</div>\n",
              "      <button class=\"colab-df-convert\" onclick=\"convertToInteractive('df-bddaeac1-1590-4693-974d-1df870c7bf73')\"\n",
              "              title=\"Convert this dataframe to an interactive table.\"\n",
              "              style=\"display:none;\">\n",
              "        \n",
              "  <svg xmlns=\"http://www.w3.org/2000/svg\" height=\"24px\"viewBox=\"0 0 24 24\"\n",
              "       width=\"24px\">\n",
              "    <path d=\"M0 0h24v24H0V0z\" fill=\"none\"/>\n",
              "    <path d=\"M18.56 5.44l.94 2.06.94-2.06 2.06-.94-2.06-.94-.94-2.06-.94 2.06-2.06.94zm-11 1L8.5 8.5l.94-2.06 2.06-.94-2.06-.94L8.5 2.5l-.94 2.06-2.06.94zm10 10l.94 2.06.94-2.06 2.06-.94-2.06-.94-.94-2.06-.94 2.06-2.06.94z\"/><path d=\"M17.41 7.96l-1.37-1.37c-.4-.4-.92-.59-1.43-.59-.52 0-1.04.2-1.43.59L10.3 9.45l-7.72 7.72c-.78.78-.78 2.05 0 2.83L4 21.41c.39.39.9.59 1.41.59.51 0 1.02-.2 1.41-.59l7.78-7.78 2.81-2.81c.8-.78.8-2.07 0-2.86zM5.41 20L4 18.59l7.72-7.72 1.47 1.35L5.41 20z\"/>\n",
              "  </svg>\n",
              "      </button>\n",
              "      \n",
              "  <style>\n",
              "    .colab-df-container {\n",
              "      display:flex;\n",
              "      flex-wrap:wrap;\n",
              "      gap: 12px;\n",
              "    }\n",
              "\n",
              "    .colab-df-convert {\n",
              "      background-color: #E8F0FE;\n",
              "      border: none;\n",
              "      border-radius: 50%;\n",
              "      cursor: pointer;\n",
              "      display: none;\n",
              "      fill: #1967D2;\n",
              "      height: 32px;\n",
              "      padding: 0 0 0 0;\n",
              "      width: 32px;\n",
              "    }\n",
              "\n",
              "    .colab-df-convert:hover {\n",
              "      background-color: #E2EBFA;\n",
              "      box-shadow: 0px 1px 2px rgba(60, 64, 67, 0.3), 0px 1px 3px 1px rgba(60, 64, 67, 0.15);\n",
              "      fill: #174EA6;\n",
              "    }\n",
              "\n",
              "    [theme=dark] .colab-df-convert {\n",
              "      background-color: #3B4455;\n",
              "      fill: #D2E3FC;\n",
              "    }\n",
              "\n",
              "    [theme=dark] .colab-df-convert:hover {\n",
              "      background-color: #434B5C;\n",
              "      box-shadow: 0px 1px 3px 1px rgba(0, 0, 0, 0.15);\n",
              "      filter: drop-shadow(0px 1px 2px rgba(0, 0, 0, 0.3));\n",
              "      fill: #FFFFFF;\n",
              "    }\n",
              "  </style>\n",
              "\n",
              "      <script>\n",
              "        const buttonEl =\n",
              "          document.querySelector('#df-bddaeac1-1590-4693-974d-1df870c7bf73 button.colab-df-convert');\n",
              "        buttonEl.style.display =\n",
              "          google.colab.kernel.accessAllowed ? 'block' : 'none';\n",
              "\n",
              "        async function convertToInteractive(key) {\n",
              "          const element = document.querySelector('#df-bddaeac1-1590-4693-974d-1df870c7bf73');\n",
              "          const dataTable =\n",
              "            await google.colab.kernel.invokeFunction('convertToInteractive',\n",
              "                                                     [key], {});\n",
              "          if (!dataTable) return;\n",
              "\n",
              "          const docLinkHtml = 'Like what you see? Visit the ' +\n",
              "            '<a target=\"_blank\" href=https://colab.research.google.com/notebooks/data_table.ipynb>data table notebook</a>'\n",
              "            + ' to learn more about interactive tables.';\n",
              "          element.innerHTML = '';\n",
              "          dataTable['output_type'] = 'display_data';\n",
              "          await google.colab.output.renderOutput(dataTable, element);\n",
              "          const docLink = document.createElement('div');\n",
              "          docLink.innerHTML = docLinkHtml;\n",
              "          element.appendChild(docLink);\n",
              "        }\n",
              "      </script>\n",
              "    </div>\n",
              "  </div>\n",
              "  "
            ],
            "text/plain": [
              "  situacao\n",
              "0        E\n",
              "1        E\n",
              "2        E"
            ]
          },
          "execution_count": 29,
          "metadata": {},
          "output_type": "execute_result"
        }
      ],
      "source": [
        "y = data.loc[:,['situacao']]\n",
        "y.head(3)"
      ]
    },
    {
      "cell_type": "markdown",
      "metadata": {
        "id": "tQS4KSsQ6ZFw"
      },
      "source": [
        " <h2>\n",
        "    Variáveis dummy/fictícias.\n",
        "  </h2>\n",
        "Para trabalhar com os algortimos as variáveis categóricas serão transformadas em valores 0 ou 1. O número de variáveis fictícias criadas é de k-1, onde k são os valores possíveis que uma variável categórica pode assumir.\n",
        "\n",
        "Tendo na coluna **tipo_curso** os valores de:\n",
        "\n",
        "\n",
        "*   bacharelado\n",
        "*   tecnologia\n",
        "*   licenciatura\n",
        "\n",
        "então tem-se k = 3. E então duas variáveis fictícias são criadas para a coluna tipo_curso. Isso serve para evitar o problema de multicolinearidade que faz com que nossas variáveis fiquem altamente correlacionadas.\n",
        "\n",
        "Para realizar esse processo usaremos o método OneHotEncoder do sklearn com o parâmetro `drop = first` para criar k-1 variáveis em cada coluna especificada.\n"
      ]
    },
    {
      "cell_type": "code",
      "execution_count": 30,
      "metadata": {
        "id": "1hQGLqgmEGHE"
      },
      "outputs": [],
      "source": [
        "from sklearn.compose import ColumnTransformer\n",
        "from sklearn.preprocessing import OneHotEncoder"
      ]
    },
    {
      "cell_type": "code",
      "execution_count": 31,
      "metadata": {
        "id": "7_0xkeJmEuUt"
      },
      "outputs": [],
      "source": [
        "enc = OneHotEncoder(handle_unknown='ignore',drop='first')"
      ]
    },
    {
      "cell_type": "code",
      "execution_count": 32,
      "metadata": {
        "colab": {
          "base_uri": "https://localhost:8080/",
          "height": 424
        },
        "id": "EvOVG6LDHZ2i",
        "outputId": "dd2fbcff-f0be-42f9-a4f4-5625d39f1ca5"
      },
      "outputs": [
        {
          "data": {
            "text/html": [
              "\n",
              "  <div id=\"df-c445d78b-bf2c-4c4f-8b03-9eaa3fad8f03\">\n",
              "    <div class=\"colab-df-container\">\n",
              "      <div>\n",
              "<style scoped>\n",
              "    .dataframe tbody tr th:only-of-type {\n",
              "        vertical-align: middle;\n",
              "    }\n",
              "\n",
              "    .dataframe tbody tr th {\n",
              "        vertical-align: top;\n",
              "    }\n",
              "\n",
              "    .dataframe thead th {\n",
              "        text-align: right;\n",
              "    }\n",
              "</style>\n",
              "<table border=\"1\" class=\"dataframe\">\n",
              "  <thead>\n",
              "    <tr style=\"text-align: right;\">\n",
              "      <th></th>\n",
              "      <th>nome_curso</th>\n",
              "      <th>eixo_tec</th>\n",
              "      <th>tipo_curso</th>\n",
              "      <th>turno</th>\n",
              "      <th>inicio_curso</th>\n",
              "      <th>final_esperado</th>\n",
              "      <th>renda</th>\n",
              "      <th>sexo</th>\n",
              "      <th>faixa_etaria</th>\n",
              "      <th>cor</th>\n",
              "    </tr>\n",
              "  </thead>\n",
              "  <tbody>\n",
              "    <tr>\n",
              "      <th>0</th>\n",
              "      <td>engenharia civil</td>\n",
              "      <td>infraestrutura</td>\n",
              "      <td>bacharelado</td>\n",
              "      <td>integral</td>\n",
              "      <td>22/05/2017</td>\n",
              "      <td>28/04/2022</td>\n",
              "      <td>1,0&lt;RFP&lt;=1,5</td>\n",
              "      <td>M</td>\n",
              "      <td>15-19</td>\n",
              "      <td>branca</td>\n",
              "    </tr>\n",
              "    <tr>\n",
              "      <th>1</th>\n",
              "      <td>engenharia civil</td>\n",
              "      <td>infraestrutura</td>\n",
              "      <td>bacharelado</td>\n",
              "      <td>integral</td>\n",
              "      <td>22/05/2017</td>\n",
              "      <td>28/04/2022</td>\n",
              "      <td>0&lt;RFP&lt;=0,5</td>\n",
              "      <td>M</td>\n",
              "      <td>25-29</td>\n",
              "      <td>parda</td>\n",
              "    </tr>\n",
              "    <tr>\n",
              "      <th>2</th>\n",
              "      <td>engenharia civil</td>\n",
              "      <td>infraestrutura</td>\n",
              "      <td>bacharelado</td>\n",
              "      <td>integral</td>\n",
              "      <td>22/05/2017</td>\n",
              "      <td>28/04/2022</td>\n",
              "      <td>0,5&lt;RFP&lt;=1</td>\n",
              "      <td>M</td>\n",
              "      <td>20-24</td>\n",
              "      <td>branca</td>\n",
              "    </tr>\n",
              "    <tr>\n",
              "      <th>3</th>\n",
              "      <td>engenharia civil</td>\n",
              "      <td>infraestrutura</td>\n",
              "      <td>bacharelado</td>\n",
              "      <td>integral</td>\n",
              "      <td>22/05/2017</td>\n",
              "      <td>28/04/2022</td>\n",
              "      <td>1,0&lt;RFP&lt;=1,5</td>\n",
              "      <td>M</td>\n",
              "      <td>20-24</td>\n",
              "      <td>branca</td>\n",
              "    </tr>\n",
              "    <tr>\n",
              "      <th>4</th>\n",
              "      <td>engenharia civil</td>\n",
              "      <td>infraestrutura</td>\n",
              "      <td>bacharelado</td>\n",
              "      <td>integral</td>\n",
              "      <td>07/04/2014</td>\n",
              "      <td>31/12/2017</td>\n",
              "      <td>1,0&lt;RFP&lt;=1,5</td>\n",
              "      <td>M</td>\n",
              "      <td>30-34</td>\n",
              "      <td>branca</td>\n",
              "    </tr>\n",
              "    <tr>\n",
              "      <th>...</th>\n",
              "      <td>...</td>\n",
              "      <td>...</td>\n",
              "      <td>...</td>\n",
              "      <td>...</td>\n",
              "      <td>...</td>\n",
              "      <td>...</td>\n",
              "      <td>...</td>\n",
              "      <td>...</td>\n",
              "      <td>...</td>\n",
              "      <td>...</td>\n",
              "    </tr>\n",
              "    <tr>\n",
              "      <th>5504</th>\n",
              "      <td>engenharia de computacao</td>\n",
              "      <td>informacao e comunicacao</td>\n",
              "      <td>bacharelado</td>\n",
              "      <td>integral</td>\n",
              "      <td>25/01/2021</td>\n",
              "      <td>31/12/2025</td>\n",
              "      <td>1,5&lt;RFP&lt;=2,5</td>\n",
              "      <td>M</td>\n",
              "      <td>15-19</td>\n",
              "      <td>parda</td>\n",
              "    </tr>\n",
              "    <tr>\n",
              "      <th>5505</th>\n",
              "      <td>engenharia de computacao</td>\n",
              "      <td>informacao e comunicacao</td>\n",
              "      <td>bacharelado</td>\n",
              "      <td>integral</td>\n",
              "      <td>21/06/2021</td>\n",
              "      <td>31/12/2025</td>\n",
              "      <td>1,0&lt;RFP&lt;=1,5</td>\n",
              "      <td>M</td>\n",
              "      <td>25-29</td>\n",
              "      <td>branca</td>\n",
              "    </tr>\n",
              "    <tr>\n",
              "      <th>5506</th>\n",
              "      <td>engenharia de computacao</td>\n",
              "      <td>informacao e comunicacao</td>\n",
              "      <td>bacharelado</td>\n",
              "      <td>integral</td>\n",
              "      <td>21/06/2021</td>\n",
              "      <td>31/12/2025</td>\n",
              "      <td>0,5&lt;RFP&lt;=1</td>\n",
              "      <td>M</td>\n",
              "      <td>15-19</td>\n",
              "      <td>parda</td>\n",
              "    </tr>\n",
              "    <tr>\n",
              "      <th>5507</th>\n",
              "      <td>engenharia de computacao</td>\n",
              "      <td>informacao e comunicacao</td>\n",
              "      <td>bacharelado</td>\n",
              "      <td>integral</td>\n",
              "      <td>21/06/2021</td>\n",
              "      <td>31/12/2025</td>\n",
              "      <td>1,0&lt;RFP&lt;=1,5</td>\n",
              "      <td>M</td>\n",
              "      <td>15-19</td>\n",
              "      <td>branca</td>\n",
              "    </tr>\n",
              "    <tr>\n",
              "      <th>5508</th>\n",
              "      <td>engenharia de computacao</td>\n",
              "      <td>informacao e comunicacao</td>\n",
              "      <td>bacharelado</td>\n",
              "      <td>integral</td>\n",
              "      <td>21/06/2021</td>\n",
              "      <td>31/12/2025</td>\n",
              "      <td>1,5&lt;RFP&lt;=2,5</td>\n",
              "      <td>M</td>\n",
              "      <td>15-19</td>\n",
              "      <td>branca</td>\n",
              "    </tr>\n",
              "  </tbody>\n",
              "</table>\n",
              "<p>5509 rows × 10 columns</p>\n",
              "</div>\n",
              "      <button class=\"colab-df-convert\" onclick=\"convertToInteractive('df-c445d78b-bf2c-4c4f-8b03-9eaa3fad8f03')\"\n",
              "              title=\"Convert this dataframe to an interactive table.\"\n",
              "              style=\"display:none;\">\n",
              "        \n",
              "  <svg xmlns=\"http://www.w3.org/2000/svg\" height=\"24px\"viewBox=\"0 0 24 24\"\n",
              "       width=\"24px\">\n",
              "    <path d=\"M0 0h24v24H0V0z\" fill=\"none\"/>\n",
              "    <path d=\"M18.56 5.44l.94 2.06.94-2.06 2.06-.94-2.06-.94-.94-2.06-.94 2.06-2.06.94zm-11 1L8.5 8.5l.94-2.06 2.06-.94-2.06-.94L8.5 2.5l-.94 2.06-2.06.94zm10 10l.94 2.06.94-2.06 2.06-.94-2.06-.94-.94-2.06-.94 2.06-2.06.94z\"/><path d=\"M17.41 7.96l-1.37-1.37c-.4-.4-.92-.59-1.43-.59-.52 0-1.04.2-1.43.59L10.3 9.45l-7.72 7.72c-.78.78-.78 2.05 0 2.83L4 21.41c.39.39.9.59 1.41.59.51 0 1.02-.2 1.41-.59l7.78-7.78 2.81-2.81c.8-.78.8-2.07 0-2.86zM5.41 20L4 18.59l7.72-7.72 1.47 1.35L5.41 20z\"/>\n",
              "  </svg>\n",
              "      </button>\n",
              "      \n",
              "  <style>\n",
              "    .colab-df-container {\n",
              "      display:flex;\n",
              "      flex-wrap:wrap;\n",
              "      gap: 12px;\n",
              "    }\n",
              "\n",
              "    .colab-df-convert {\n",
              "      background-color: #E8F0FE;\n",
              "      border: none;\n",
              "      border-radius: 50%;\n",
              "      cursor: pointer;\n",
              "      display: none;\n",
              "      fill: #1967D2;\n",
              "      height: 32px;\n",
              "      padding: 0 0 0 0;\n",
              "      width: 32px;\n",
              "    }\n",
              "\n",
              "    .colab-df-convert:hover {\n",
              "      background-color: #E2EBFA;\n",
              "      box-shadow: 0px 1px 2px rgba(60, 64, 67, 0.3), 0px 1px 3px 1px rgba(60, 64, 67, 0.15);\n",
              "      fill: #174EA6;\n",
              "    }\n",
              "\n",
              "    [theme=dark] .colab-df-convert {\n",
              "      background-color: #3B4455;\n",
              "      fill: #D2E3FC;\n",
              "    }\n",
              "\n",
              "    [theme=dark] .colab-df-convert:hover {\n",
              "      background-color: #434B5C;\n",
              "      box-shadow: 0px 1px 3px 1px rgba(0, 0, 0, 0.15);\n",
              "      filter: drop-shadow(0px 1px 2px rgba(0, 0, 0, 0.3));\n",
              "      fill: #FFFFFF;\n",
              "    }\n",
              "  </style>\n",
              "\n",
              "      <script>\n",
              "        const buttonEl =\n",
              "          document.querySelector('#df-c445d78b-bf2c-4c4f-8b03-9eaa3fad8f03 button.colab-df-convert');\n",
              "        buttonEl.style.display =\n",
              "          google.colab.kernel.accessAllowed ? 'block' : 'none';\n",
              "\n",
              "        async function convertToInteractive(key) {\n",
              "          const element = document.querySelector('#df-c445d78b-bf2c-4c4f-8b03-9eaa3fad8f03');\n",
              "          const dataTable =\n",
              "            await google.colab.kernel.invokeFunction('convertToInteractive',\n",
              "                                                     [key], {});\n",
              "          if (!dataTable) return;\n",
              "\n",
              "          const docLinkHtml = 'Like what you see? Visit the ' +\n",
              "            '<a target=\"_blank\" href=https://colab.research.google.com/notebooks/data_table.ipynb>data table notebook</a>'\n",
              "            + ' to learn more about interactive tables.';\n",
              "          element.innerHTML = '';\n",
              "          dataTable['output_type'] = 'display_data';\n",
              "          await google.colab.output.renderOutput(dataTable, element);\n",
              "          const docLink = document.createElement('div');\n",
              "          docLink.innerHTML = docLinkHtml;\n",
              "          element.appendChild(docLink);\n",
              "        }\n",
              "      </script>\n",
              "    </div>\n",
              "  </div>\n",
              "  "
            ],
            "text/plain": [
              "                    nome_curso                  eixo_tec   tipo_curso  \\\n",
              "0             engenharia civil            infraestrutura  bacharelado   \n",
              "1             engenharia civil            infraestrutura  bacharelado   \n",
              "2             engenharia civil            infraestrutura  bacharelado   \n",
              "3             engenharia civil            infraestrutura  bacharelado   \n",
              "4             engenharia civil            infraestrutura  bacharelado   \n",
              "...                        ...                       ...          ...   \n",
              "5504  engenharia de computacao  informacao e comunicacao  bacharelado   \n",
              "5505  engenharia de computacao  informacao e comunicacao  bacharelado   \n",
              "5506  engenharia de computacao  informacao e comunicacao  bacharelado   \n",
              "5507  engenharia de computacao  informacao e comunicacao  bacharelado   \n",
              "5508  engenharia de computacao  informacao e comunicacao  bacharelado   \n",
              "\n",
              "         turno inicio_curso final_esperado         renda sexo faixa_etaria  \\\n",
              "0     integral   22/05/2017     28/04/2022  1,0<RFP<=1,5    M        15-19   \n",
              "1     integral   22/05/2017     28/04/2022    0<RFP<=0,5    M        25-29   \n",
              "2     integral   22/05/2017     28/04/2022    0,5<RFP<=1    M        20-24   \n",
              "3     integral   22/05/2017     28/04/2022  1,0<RFP<=1,5    M        20-24   \n",
              "4     integral   07/04/2014     31/12/2017  1,0<RFP<=1,5    M        30-34   \n",
              "...        ...          ...            ...           ...  ...          ...   \n",
              "5504  integral   25/01/2021     31/12/2025  1,5<RFP<=2,5    M        15-19   \n",
              "5505  integral   21/06/2021     31/12/2025  1,0<RFP<=1,5    M        25-29   \n",
              "5506  integral   21/06/2021     31/12/2025    0,5<RFP<=1    M        15-19   \n",
              "5507  integral   21/06/2021     31/12/2025  1,0<RFP<=1,5    M        15-19   \n",
              "5508  integral   21/06/2021     31/12/2025  1,5<RFP<=2,5    M        15-19   \n",
              "\n",
              "            cor  \n",
              "0     branca     \n",
              "1     parda      \n",
              "2     branca     \n",
              "3     branca     \n",
              "4     branca     \n",
              "...         ...  \n",
              "5504  parda      \n",
              "5505  branca     \n",
              "5506  parda      \n",
              "5507  branca     \n",
              "5508  branca     \n",
              "\n",
              "[5509 rows x 10 columns]"
            ]
          },
          "execution_count": 32,
          "metadata": {},
          "output_type": "execute_result"
        }
      ],
      "source": [
        "# guardando as varáveis categóricas\n",
        "X_cat = X[['nome_curso','eixo_tec','tipo_curso','turno','inicio_curso','final_esperado','renda','sexo','faixa_etaria','cor']]\n",
        "X_cat"
      ]
    },
    {
      "cell_type": "code",
      "execution_count": 33,
      "metadata": {
        "id": "6lkIvKHeTrJN"
      },
      "outputs": [],
      "source": [
        "X_encoded = enc.fit_transform(X_cat).toarray() # codificando as variáveis categóricas"
      ]
    },
    {
      "cell_type": "code",
      "execution_count": 34,
      "metadata": {
        "colab": {
          "base_uri": "https://localhost:8080/"
        },
        "id": "B7So91RmWYaX",
        "outputId": "7abfccca-fad3-46c0-dcd2-176437b2e660"
      },
      "outputs": [
        {
          "data": {
            "text/plain": [
              "[array(['administracao', 'agroecologia', 'alimentos',\n",
              "        'analise e desenvolvimento de sistemas', 'automacao industrial',\n",
              "        'ciencias biologicas', 'construcao de edificios',\n",
              "        'design de interiores', 'design grafico', 'educacao fisica',\n",
              "        'engenharia civil', 'engenharia de computacao',\n",
              "        'engenharia de controle e automacao', 'engenharia eletronica',\n",
              "        'engenharia mecanica', 'fisica', 'geoprocessamento',\n",
              "        'gestao ambiental', 'gestao comercial', 'matematica',\n",
              "        'medicina veterinaria', 'negocios imobiliarios', 'quimica',\n",
              "        'redes de computadores', 'seguranca no trabalho',\n",
              "        'sistemas de telecomunicacoes', 'sistemas para internet',\n",
              "        'telematica'], dtype=object),\n",
              " array(['ambiente e saude', 'controle e processos industriais',\n",
              "        'desenvolvimento educacional e social', 'gestao e negocios',\n",
              "        'informacao e comunicacao', 'infraestrutura',\n",
              "        'producao alimenticia', 'producao cultural e design',\n",
              "        'recursos naturais', 'seguranca'], dtype=object)]"
            ]
          },
          "execution_count": 34,
          "metadata": {},
          "output_type": "execute_result"
        }
      ],
      "source": [
        "enc.categories_[:2]"
      ]
    },
    {
      "cell_type": "code",
      "execution_count": 35,
      "metadata": {
        "id": "NXQ3jqYUWA7V"
      },
      "outputs": [],
      "source": [
        "X_encoded = pd.DataFrame(X_encoded) # transformando em DataFrame\n",
        "X_encoded.columns = enc.get_feature_names_out() # renomeando as colunas"
      ]
    },
    {
      "cell_type": "code",
      "execution_count": 36,
      "metadata": {
        "colab": {
          "base_uri": "https://localhost:8080/",
          "height": 334
        },
        "id": "EqccDFKeEnBL",
        "outputId": "09d118fa-00fd-4d34-b06c-50faa9c52984"
      },
      "outputs": [
        {
          "data": {
            "text/html": [
              "\n",
              "  <div id=\"df-9d6734ea-5ff0-41cf-b596-5771e7bee7ef\">\n",
              "    <div class=\"colab-df-container\">\n",
              "      <div>\n",
              "<style scoped>\n",
              "    .dataframe tbody tr th:only-of-type {\n",
              "        vertical-align: middle;\n",
              "    }\n",
              "\n",
              "    .dataframe tbody tr th {\n",
              "        vertical-align: top;\n",
              "    }\n",
              "\n",
              "    .dataframe thead th {\n",
              "        text-align: right;\n",
              "    }\n",
              "</style>\n",
              "<table border=\"1\" class=\"dataframe\">\n",
              "  <thead>\n",
              "    <tr style=\"text-align: right;\">\n",
              "      <th></th>\n",
              "      <th>nome_curso_agroecologia</th>\n",
              "      <th>nome_curso_alimentos</th>\n",
              "      <th>nome_curso_analise e desenvolvimento de sistemas</th>\n",
              "      <th>nome_curso_automacao industrial</th>\n",
              "      <th>nome_curso_ciencias biologicas</th>\n",
              "      <th>nome_curso_construcao de edificios</th>\n",
              "      <th>nome_curso_design de interiores</th>\n",
              "      <th>nome_curso_design grafico</th>\n",
              "      <th>nome_curso_educacao fisica</th>\n",
              "      <th>nome_curso_engenharia civil</th>\n",
              "      <th>...</th>\n",
              "      <th>faixa_etaria_35-39</th>\n",
              "      <th>faixa_etaria_40-44</th>\n",
              "      <th>faixa_etaria_45-49</th>\n",
              "      <th>faixa_etaria_50-54</th>\n",
              "      <th>faixa_etaria_55-59</th>\n",
              "      <th>faixa_etaria_Maior de 60 anos</th>\n",
              "      <th>cor_branca</th>\n",
              "      <th>cor_indigena</th>\n",
              "      <th>cor_parda</th>\n",
              "      <th>cor_preta</th>\n",
              "    </tr>\n",
              "  </thead>\n",
              "  <tbody>\n",
              "    <tr>\n",
              "      <th>0</th>\n",
              "      <td>0.0</td>\n",
              "      <td>0.0</td>\n",
              "      <td>0.0</td>\n",
              "      <td>0.0</td>\n",
              "      <td>0.0</td>\n",
              "      <td>0.0</td>\n",
              "      <td>0.0</td>\n",
              "      <td>0.0</td>\n",
              "      <td>0.0</td>\n",
              "      <td>1.0</td>\n",
              "      <td>...</td>\n",
              "      <td>0.0</td>\n",
              "      <td>0.0</td>\n",
              "      <td>0.0</td>\n",
              "      <td>0.0</td>\n",
              "      <td>0.0</td>\n",
              "      <td>0.0</td>\n",
              "      <td>1.0</td>\n",
              "      <td>0.0</td>\n",
              "      <td>0.0</td>\n",
              "      <td>0.0</td>\n",
              "    </tr>\n",
              "    <tr>\n",
              "      <th>1</th>\n",
              "      <td>0.0</td>\n",
              "      <td>0.0</td>\n",
              "      <td>0.0</td>\n",
              "      <td>0.0</td>\n",
              "      <td>0.0</td>\n",
              "      <td>0.0</td>\n",
              "      <td>0.0</td>\n",
              "      <td>0.0</td>\n",
              "      <td>0.0</td>\n",
              "      <td>1.0</td>\n",
              "      <td>...</td>\n",
              "      <td>0.0</td>\n",
              "      <td>0.0</td>\n",
              "      <td>0.0</td>\n",
              "      <td>0.0</td>\n",
              "      <td>0.0</td>\n",
              "      <td>0.0</td>\n",
              "      <td>0.0</td>\n",
              "      <td>0.0</td>\n",
              "      <td>1.0</td>\n",
              "      <td>0.0</td>\n",
              "    </tr>\n",
              "    <tr>\n",
              "      <th>2</th>\n",
              "      <td>0.0</td>\n",
              "      <td>0.0</td>\n",
              "      <td>0.0</td>\n",
              "      <td>0.0</td>\n",
              "      <td>0.0</td>\n",
              "      <td>0.0</td>\n",
              "      <td>0.0</td>\n",
              "      <td>0.0</td>\n",
              "      <td>0.0</td>\n",
              "      <td>1.0</td>\n",
              "      <td>...</td>\n",
              "      <td>0.0</td>\n",
              "      <td>0.0</td>\n",
              "      <td>0.0</td>\n",
              "      <td>0.0</td>\n",
              "      <td>0.0</td>\n",
              "      <td>0.0</td>\n",
              "      <td>1.0</td>\n",
              "      <td>0.0</td>\n",
              "      <td>0.0</td>\n",
              "      <td>0.0</td>\n",
              "    </tr>\n",
              "    <tr>\n",
              "      <th>3</th>\n",
              "      <td>0.0</td>\n",
              "      <td>0.0</td>\n",
              "      <td>0.0</td>\n",
              "      <td>0.0</td>\n",
              "      <td>0.0</td>\n",
              "      <td>0.0</td>\n",
              "      <td>0.0</td>\n",
              "      <td>0.0</td>\n",
              "      <td>0.0</td>\n",
              "      <td>1.0</td>\n",
              "      <td>...</td>\n",
              "      <td>0.0</td>\n",
              "      <td>0.0</td>\n",
              "      <td>0.0</td>\n",
              "      <td>0.0</td>\n",
              "      <td>0.0</td>\n",
              "      <td>0.0</td>\n",
              "      <td>1.0</td>\n",
              "      <td>0.0</td>\n",
              "      <td>0.0</td>\n",
              "      <td>0.0</td>\n",
              "    </tr>\n",
              "    <tr>\n",
              "      <th>4</th>\n",
              "      <td>0.0</td>\n",
              "      <td>0.0</td>\n",
              "      <td>0.0</td>\n",
              "      <td>0.0</td>\n",
              "      <td>0.0</td>\n",
              "      <td>0.0</td>\n",
              "      <td>0.0</td>\n",
              "      <td>0.0</td>\n",
              "      <td>0.0</td>\n",
              "      <td>1.0</td>\n",
              "      <td>...</td>\n",
              "      <td>0.0</td>\n",
              "      <td>0.0</td>\n",
              "      <td>0.0</td>\n",
              "      <td>0.0</td>\n",
              "      <td>0.0</td>\n",
              "      <td>0.0</td>\n",
              "      <td>1.0</td>\n",
              "      <td>0.0</td>\n",
              "      <td>0.0</td>\n",
              "      <td>0.0</td>\n",
              "    </tr>\n",
              "  </tbody>\n",
              "</table>\n",
              "<p>5 rows × 536 columns</p>\n",
              "</div>\n",
              "      <button class=\"colab-df-convert\" onclick=\"convertToInteractive('df-9d6734ea-5ff0-41cf-b596-5771e7bee7ef')\"\n",
              "              title=\"Convert this dataframe to an interactive table.\"\n",
              "              style=\"display:none;\">\n",
              "        \n",
              "  <svg xmlns=\"http://www.w3.org/2000/svg\" height=\"24px\"viewBox=\"0 0 24 24\"\n",
              "       width=\"24px\">\n",
              "    <path d=\"M0 0h24v24H0V0z\" fill=\"none\"/>\n",
              "    <path d=\"M18.56 5.44l.94 2.06.94-2.06 2.06-.94-2.06-.94-.94-2.06-.94 2.06-2.06.94zm-11 1L8.5 8.5l.94-2.06 2.06-.94-2.06-.94L8.5 2.5l-.94 2.06-2.06.94zm10 10l.94 2.06.94-2.06 2.06-.94-2.06-.94-.94-2.06-.94 2.06-2.06.94z\"/><path d=\"M17.41 7.96l-1.37-1.37c-.4-.4-.92-.59-1.43-.59-.52 0-1.04.2-1.43.59L10.3 9.45l-7.72 7.72c-.78.78-.78 2.05 0 2.83L4 21.41c.39.39.9.59 1.41.59.51 0 1.02-.2 1.41-.59l7.78-7.78 2.81-2.81c.8-.78.8-2.07 0-2.86zM5.41 20L4 18.59l7.72-7.72 1.47 1.35L5.41 20z\"/>\n",
              "  </svg>\n",
              "      </button>\n",
              "      \n",
              "  <style>\n",
              "    .colab-df-container {\n",
              "      display:flex;\n",
              "      flex-wrap:wrap;\n",
              "      gap: 12px;\n",
              "    }\n",
              "\n",
              "    .colab-df-convert {\n",
              "      background-color: #E8F0FE;\n",
              "      border: none;\n",
              "      border-radius: 50%;\n",
              "      cursor: pointer;\n",
              "      display: none;\n",
              "      fill: #1967D2;\n",
              "      height: 32px;\n",
              "      padding: 0 0 0 0;\n",
              "      width: 32px;\n",
              "    }\n",
              "\n",
              "    .colab-df-convert:hover {\n",
              "      background-color: #E2EBFA;\n",
              "      box-shadow: 0px 1px 2px rgba(60, 64, 67, 0.3), 0px 1px 3px 1px rgba(60, 64, 67, 0.15);\n",
              "      fill: #174EA6;\n",
              "    }\n",
              "\n",
              "    [theme=dark] .colab-df-convert {\n",
              "      background-color: #3B4455;\n",
              "      fill: #D2E3FC;\n",
              "    }\n",
              "\n",
              "    [theme=dark] .colab-df-convert:hover {\n",
              "      background-color: #434B5C;\n",
              "      box-shadow: 0px 1px 3px 1px rgba(0, 0, 0, 0.15);\n",
              "      filter: drop-shadow(0px 1px 2px rgba(0, 0, 0, 0.3));\n",
              "      fill: #FFFFFF;\n",
              "    }\n",
              "  </style>\n",
              "\n",
              "      <script>\n",
              "        const buttonEl =\n",
              "          document.querySelector('#df-9d6734ea-5ff0-41cf-b596-5771e7bee7ef button.colab-df-convert');\n",
              "        buttonEl.style.display =\n",
              "          google.colab.kernel.accessAllowed ? 'block' : 'none';\n",
              "\n",
              "        async function convertToInteractive(key) {\n",
              "          const element = document.querySelector('#df-9d6734ea-5ff0-41cf-b596-5771e7bee7ef');\n",
              "          const dataTable =\n",
              "            await google.colab.kernel.invokeFunction('convertToInteractive',\n",
              "                                                     [key], {});\n",
              "          if (!dataTable) return;\n",
              "\n",
              "          const docLinkHtml = 'Like what you see? Visit the ' +\n",
              "            '<a target=\"_blank\" href=https://colab.research.google.com/notebooks/data_table.ipynb>data table notebook</a>'\n",
              "            + ' to learn more about interactive tables.';\n",
              "          element.innerHTML = '';\n",
              "          dataTable['output_type'] = 'display_data';\n",
              "          await google.colab.output.renderOutput(dataTable, element);\n",
              "          const docLink = document.createElement('div');\n",
              "          docLink.innerHTML = docLinkHtml;\n",
              "          element.appendChild(docLink);\n",
              "        }\n",
              "      </script>\n",
              "    </div>\n",
              "  </div>\n",
              "  "
            ],
            "text/plain": [
              "   nome_curso_agroecologia  nome_curso_alimentos  \\\n",
              "0                      0.0                   0.0   \n",
              "1                      0.0                   0.0   \n",
              "2                      0.0                   0.0   \n",
              "3                      0.0                   0.0   \n",
              "4                      0.0                   0.0   \n",
              "\n",
              "   nome_curso_analise e desenvolvimento de sistemas  \\\n",
              "0                                               0.0   \n",
              "1                                               0.0   \n",
              "2                                               0.0   \n",
              "3                                               0.0   \n",
              "4                                               0.0   \n",
              "\n",
              "   nome_curso_automacao industrial  nome_curso_ciencias biologicas  \\\n",
              "0                              0.0                             0.0   \n",
              "1                              0.0                             0.0   \n",
              "2                              0.0                             0.0   \n",
              "3                              0.0                             0.0   \n",
              "4                              0.0                             0.0   \n",
              "\n",
              "   nome_curso_construcao de edificios  nome_curso_design de interiores  \\\n",
              "0                                 0.0                              0.0   \n",
              "1                                 0.0                              0.0   \n",
              "2                                 0.0                              0.0   \n",
              "3                                 0.0                              0.0   \n",
              "4                                 0.0                              0.0   \n",
              "\n",
              "   nome_curso_design grafico  nome_curso_educacao fisica  \\\n",
              "0                        0.0                         0.0   \n",
              "1                        0.0                         0.0   \n",
              "2                        0.0                         0.0   \n",
              "3                        0.0                         0.0   \n",
              "4                        0.0                         0.0   \n",
              "\n",
              "   nome_curso_engenharia civil  ...  faixa_etaria_35-39  faixa_etaria_40-44  \\\n",
              "0                          1.0  ...                 0.0                 0.0   \n",
              "1                          1.0  ...                 0.0                 0.0   \n",
              "2                          1.0  ...                 0.0                 0.0   \n",
              "3                          1.0  ...                 0.0                 0.0   \n",
              "4                          1.0  ...                 0.0                 0.0   \n",
              "\n",
              "   faixa_etaria_45-49  faixa_etaria_50-54  faixa_etaria_55-59  \\\n",
              "0                 0.0                 0.0                 0.0   \n",
              "1                 0.0                 0.0                 0.0   \n",
              "2                 0.0                 0.0                 0.0   \n",
              "3                 0.0                 0.0                 0.0   \n",
              "4                 0.0                 0.0                 0.0   \n",
              "\n",
              "   faixa_etaria_Maior de 60 anos  cor_branca     cor_indigena   cor_parda      \\\n",
              "0                            0.0            1.0            0.0            0.0   \n",
              "1                            0.0            0.0            0.0            1.0   \n",
              "2                            0.0            1.0            0.0            0.0   \n",
              "3                            0.0            1.0            0.0            0.0   \n",
              "4                            0.0            1.0            0.0            0.0   \n",
              "\n",
              "   cor_preta      \n",
              "0            0.0  \n",
              "1            0.0  \n",
              "2            0.0  \n",
              "3            0.0  \n",
              "4            0.0  \n",
              "\n",
              "[5 rows x 536 columns]"
            ]
          },
          "execution_count": 36,
          "metadata": {},
          "output_type": "execute_result"
        }
      ],
      "source": [
        "X_encoded.head()"
      ]
    },
    {
      "cell_type": "code",
      "execution_count": 37,
      "metadata": {
        "colab": {
          "base_uri": "https://localhost:8080/",
          "height": 143
        },
        "id": "F4FiY8xVkudY",
        "outputId": "28ff534a-910d-4a24-eede-a483e5361532"
      },
      "outputs": [
        {
          "data": {
            "text/html": [
              "\n",
              "  <div id=\"df-986ec0d7-c904-4550-b3bc-7187032e223d\">\n",
              "    <div class=\"colab-df-container\">\n",
              "      <div>\n",
              "<style scoped>\n",
              "    .dataframe tbody tr th:only-of-type {\n",
              "        vertical-align: middle;\n",
              "    }\n",
              "\n",
              "    .dataframe tbody tr th {\n",
              "        vertical-align: top;\n",
              "    }\n",
              "\n",
              "    .dataframe thead th {\n",
              "        text-align: right;\n",
              "    }\n",
              "</style>\n",
              "<table border=\"1\" class=\"dataframe\">\n",
              "  <thead>\n",
              "    <tr style=\"text-align: right;\">\n",
              "      <th></th>\n",
              "      <th>carga_horaria</th>\n",
              "      <th>fator_esforco</th>\n",
              "    </tr>\n",
              "  </thead>\n",
              "  <tbody>\n",
              "    <tr>\n",
              "      <th>0</th>\n",
              "      <td>3800</td>\n",
              "      <td>1.14</td>\n",
              "    </tr>\n",
              "    <tr>\n",
              "      <th>1</th>\n",
              "      <td>3800</td>\n",
              "      <td>1.14</td>\n",
              "    </tr>\n",
              "    <tr>\n",
              "      <th>2</th>\n",
              "      <td>3800</td>\n",
              "      <td>1.14</td>\n",
              "    </tr>\n",
              "  </tbody>\n",
              "</table>\n",
              "</div>\n",
              "      <button class=\"colab-df-convert\" onclick=\"convertToInteractive('df-986ec0d7-c904-4550-b3bc-7187032e223d')\"\n",
              "              title=\"Convert this dataframe to an interactive table.\"\n",
              "              style=\"display:none;\">\n",
              "        \n",
              "  <svg xmlns=\"http://www.w3.org/2000/svg\" height=\"24px\"viewBox=\"0 0 24 24\"\n",
              "       width=\"24px\">\n",
              "    <path d=\"M0 0h24v24H0V0z\" fill=\"none\"/>\n",
              "    <path d=\"M18.56 5.44l.94 2.06.94-2.06 2.06-.94-2.06-.94-.94-2.06-.94 2.06-2.06.94zm-11 1L8.5 8.5l.94-2.06 2.06-.94-2.06-.94L8.5 2.5l-.94 2.06-2.06.94zm10 10l.94 2.06.94-2.06 2.06-.94-2.06-.94-.94-2.06-.94 2.06-2.06.94z\"/><path d=\"M17.41 7.96l-1.37-1.37c-.4-.4-.92-.59-1.43-.59-.52 0-1.04.2-1.43.59L10.3 9.45l-7.72 7.72c-.78.78-.78 2.05 0 2.83L4 21.41c.39.39.9.59 1.41.59.51 0 1.02-.2 1.41-.59l7.78-7.78 2.81-2.81c.8-.78.8-2.07 0-2.86zM5.41 20L4 18.59l7.72-7.72 1.47 1.35L5.41 20z\"/>\n",
              "  </svg>\n",
              "      </button>\n",
              "      \n",
              "  <style>\n",
              "    .colab-df-container {\n",
              "      display:flex;\n",
              "      flex-wrap:wrap;\n",
              "      gap: 12px;\n",
              "    }\n",
              "\n",
              "    .colab-df-convert {\n",
              "      background-color: #E8F0FE;\n",
              "      border: none;\n",
              "      border-radius: 50%;\n",
              "      cursor: pointer;\n",
              "      display: none;\n",
              "      fill: #1967D2;\n",
              "      height: 32px;\n",
              "      padding: 0 0 0 0;\n",
              "      width: 32px;\n",
              "    }\n",
              "\n",
              "    .colab-df-convert:hover {\n",
              "      background-color: #E2EBFA;\n",
              "      box-shadow: 0px 1px 2px rgba(60, 64, 67, 0.3), 0px 1px 3px 1px rgba(60, 64, 67, 0.15);\n",
              "      fill: #174EA6;\n",
              "    }\n",
              "\n",
              "    [theme=dark] .colab-df-convert {\n",
              "      background-color: #3B4455;\n",
              "      fill: #D2E3FC;\n",
              "    }\n",
              "\n",
              "    [theme=dark] .colab-df-convert:hover {\n",
              "      background-color: #434B5C;\n",
              "      box-shadow: 0px 1px 3px 1px rgba(0, 0, 0, 0.15);\n",
              "      filter: drop-shadow(0px 1px 2px rgba(0, 0, 0, 0.3));\n",
              "      fill: #FFFFFF;\n",
              "    }\n",
              "  </style>\n",
              "\n",
              "      <script>\n",
              "        const buttonEl =\n",
              "          document.querySelector('#df-986ec0d7-c904-4550-b3bc-7187032e223d button.colab-df-convert');\n",
              "        buttonEl.style.display =\n",
              "          google.colab.kernel.accessAllowed ? 'block' : 'none';\n",
              "\n",
              "        async function convertToInteractive(key) {\n",
              "          const element = document.querySelector('#df-986ec0d7-c904-4550-b3bc-7187032e223d');\n",
              "          const dataTable =\n",
              "            await google.colab.kernel.invokeFunction('convertToInteractive',\n",
              "                                                     [key], {});\n",
              "          if (!dataTable) return;\n",
              "\n",
              "          const docLinkHtml = 'Like what you see? Visit the ' +\n",
              "            '<a target=\"_blank\" href=https://colab.research.google.com/notebooks/data_table.ipynb>data table notebook</a>'\n",
              "            + ' to learn more about interactive tables.';\n",
              "          element.innerHTML = '';\n",
              "          dataTable['output_type'] = 'display_data';\n",
              "          await google.colab.output.renderOutput(dataTable, element);\n",
              "          const docLink = document.createElement('div');\n",
              "          docLink.innerHTML = docLinkHtml;\n",
              "          element.appendChild(docLink);\n",
              "        }\n",
              "      </script>\n",
              "    </div>\n",
              "  </div>\n",
              "  "
            ],
            "text/plain": [
              "   carga_horaria  fator_esforco\n",
              "0           3800           1.14\n",
              "1           3800           1.14\n",
              "2           3800           1.14"
            ]
          },
          "execution_count": 37,
          "metadata": {},
          "output_type": "execute_result"
        }
      ],
      "source": [
        "X_numerical = data[['carga_horaria','fator_esforco']] # guardando as variáveis numéricas\n",
        "X_numerical.head(3)"
      ]
    },
    {
      "cell_type": "code",
      "execution_count": 38,
      "metadata": {
        "colab": {
          "base_uri": "https://localhost:8080/",
          "height": 334
        },
        "id": "b-vaTvpRk6yC",
        "outputId": "7db3ff8f-5e90-463b-fa92-f8dfb0accf41"
      },
      "outputs": [
        {
          "data": {
            "text/html": [
              "\n",
              "  <div id=\"df-b7af1d36-21fb-420d-bd4b-6cd29ff44910\">\n",
              "    <div class=\"colab-df-container\">\n",
              "      <div>\n",
              "<style scoped>\n",
              "    .dataframe tbody tr th:only-of-type {\n",
              "        vertical-align: middle;\n",
              "    }\n",
              "\n",
              "    .dataframe tbody tr th {\n",
              "        vertical-align: top;\n",
              "    }\n",
              "\n",
              "    .dataframe thead th {\n",
              "        text-align: right;\n",
              "    }\n",
              "</style>\n",
              "<table border=\"1\" class=\"dataframe\">\n",
              "  <thead>\n",
              "    <tr style=\"text-align: right;\">\n",
              "      <th></th>\n",
              "      <th>nome_curso_agroecologia</th>\n",
              "      <th>nome_curso_alimentos</th>\n",
              "      <th>nome_curso_analise e desenvolvimento de sistemas</th>\n",
              "      <th>nome_curso_automacao industrial</th>\n",
              "      <th>nome_curso_ciencias biologicas</th>\n",
              "      <th>nome_curso_construcao de edificios</th>\n",
              "      <th>nome_curso_design de interiores</th>\n",
              "      <th>nome_curso_design grafico</th>\n",
              "      <th>nome_curso_educacao fisica</th>\n",
              "      <th>nome_curso_engenharia civil</th>\n",
              "      <th>...</th>\n",
              "      <th>faixa_etaria_45-49</th>\n",
              "      <th>faixa_etaria_50-54</th>\n",
              "      <th>faixa_etaria_55-59</th>\n",
              "      <th>faixa_etaria_Maior de 60 anos</th>\n",
              "      <th>cor_branca</th>\n",
              "      <th>cor_indigena</th>\n",
              "      <th>cor_parda</th>\n",
              "      <th>cor_preta</th>\n",
              "      <th>carga_horaria</th>\n",
              "      <th>fator_esforco</th>\n",
              "    </tr>\n",
              "  </thead>\n",
              "  <tbody>\n",
              "    <tr>\n",
              "      <th>0</th>\n",
              "      <td>0.0</td>\n",
              "      <td>0.0</td>\n",
              "      <td>0.0</td>\n",
              "      <td>0.0</td>\n",
              "      <td>0.0</td>\n",
              "      <td>0.0</td>\n",
              "      <td>0.0</td>\n",
              "      <td>0.0</td>\n",
              "      <td>0.0</td>\n",
              "      <td>1.0</td>\n",
              "      <td>...</td>\n",
              "      <td>0.0</td>\n",
              "      <td>0.0</td>\n",
              "      <td>0.0</td>\n",
              "      <td>0.0</td>\n",
              "      <td>1.0</td>\n",
              "      <td>0.0</td>\n",
              "      <td>0.0</td>\n",
              "      <td>0.0</td>\n",
              "      <td>3800</td>\n",
              "      <td>1.14</td>\n",
              "    </tr>\n",
              "    <tr>\n",
              "      <th>1</th>\n",
              "      <td>0.0</td>\n",
              "      <td>0.0</td>\n",
              "      <td>0.0</td>\n",
              "      <td>0.0</td>\n",
              "      <td>0.0</td>\n",
              "      <td>0.0</td>\n",
              "      <td>0.0</td>\n",
              "      <td>0.0</td>\n",
              "      <td>0.0</td>\n",
              "      <td>1.0</td>\n",
              "      <td>...</td>\n",
              "      <td>0.0</td>\n",
              "      <td>0.0</td>\n",
              "      <td>0.0</td>\n",
              "      <td>0.0</td>\n",
              "      <td>0.0</td>\n",
              "      <td>0.0</td>\n",
              "      <td>1.0</td>\n",
              "      <td>0.0</td>\n",
              "      <td>3800</td>\n",
              "      <td>1.14</td>\n",
              "    </tr>\n",
              "    <tr>\n",
              "      <th>2</th>\n",
              "      <td>0.0</td>\n",
              "      <td>0.0</td>\n",
              "      <td>0.0</td>\n",
              "      <td>0.0</td>\n",
              "      <td>0.0</td>\n",
              "      <td>0.0</td>\n",
              "      <td>0.0</td>\n",
              "      <td>0.0</td>\n",
              "      <td>0.0</td>\n",
              "      <td>1.0</td>\n",
              "      <td>...</td>\n",
              "      <td>0.0</td>\n",
              "      <td>0.0</td>\n",
              "      <td>0.0</td>\n",
              "      <td>0.0</td>\n",
              "      <td>1.0</td>\n",
              "      <td>0.0</td>\n",
              "      <td>0.0</td>\n",
              "      <td>0.0</td>\n",
              "      <td>3800</td>\n",
              "      <td>1.14</td>\n",
              "    </tr>\n",
              "    <tr>\n",
              "      <th>3</th>\n",
              "      <td>0.0</td>\n",
              "      <td>0.0</td>\n",
              "      <td>0.0</td>\n",
              "      <td>0.0</td>\n",
              "      <td>0.0</td>\n",
              "      <td>0.0</td>\n",
              "      <td>0.0</td>\n",
              "      <td>0.0</td>\n",
              "      <td>0.0</td>\n",
              "      <td>1.0</td>\n",
              "      <td>...</td>\n",
              "      <td>0.0</td>\n",
              "      <td>0.0</td>\n",
              "      <td>0.0</td>\n",
              "      <td>0.0</td>\n",
              "      <td>1.0</td>\n",
              "      <td>0.0</td>\n",
              "      <td>0.0</td>\n",
              "      <td>0.0</td>\n",
              "      <td>3800</td>\n",
              "      <td>1.14</td>\n",
              "    </tr>\n",
              "    <tr>\n",
              "      <th>4</th>\n",
              "      <td>0.0</td>\n",
              "      <td>0.0</td>\n",
              "      <td>0.0</td>\n",
              "      <td>0.0</td>\n",
              "      <td>0.0</td>\n",
              "      <td>0.0</td>\n",
              "      <td>0.0</td>\n",
              "      <td>0.0</td>\n",
              "      <td>0.0</td>\n",
              "      <td>1.0</td>\n",
              "      <td>...</td>\n",
              "      <td>0.0</td>\n",
              "      <td>0.0</td>\n",
              "      <td>0.0</td>\n",
              "      <td>0.0</td>\n",
              "      <td>1.0</td>\n",
              "      <td>0.0</td>\n",
              "      <td>0.0</td>\n",
              "      <td>0.0</td>\n",
              "      <td>3800</td>\n",
              "      <td>1.14</td>\n",
              "    </tr>\n",
              "  </tbody>\n",
              "</table>\n",
              "<p>5 rows × 538 columns</p>\n",
              "</div>\n",
              "      <button class=\"colab-df-convert\" onclick=\"convertToInteractive('df-b7af1d36-21fb-420d-bd4b-6cd29ff44910')\"\n",
              "              title=\"Convert this dataframe to an interactive table.\"\n",
              "              style=\"display:none;\">\n",
              "        \n",
              "  <svg xmlns=\"http://www.w3.org/2000/svg\" height=\"24px\"viewBox=\"0 0 24 24\"\n",
              "       width=\"24px\">\n",
              "    <path d=\"M0 0h24v24H0V0z\" fill=\"none\"/>\n",
              "    <path d=\"M18.56 5.44l.94 2.06.94-2.06 2.06-.94-2.06-.94-.94-2.06-.94 2.06-2.06.94zm-11 1L8.5 8.5l.94-2.06 2.06-.94-2.06-.94L8.5 2.5l-.94 2.06-2.06.94zm10 10l.94 2.06.94-2.06 2.06-.94-2.06-.94-.94-2.06-.94 2.06-2.06.94z\"/><path d=\"M17.41 7.96l-1.37-1.37c-.4-.4-.92-.59-1.43-.59-.52 0-1.04.2-1.43.59L10.3 9.45l-7.72 7.72c-.78.78-.78 2.05 0 2.83L4 21.41c.39.39.9.59 1.41.59.51 0 1.02-.2 1.41-.59l7.78-7.78 2.81-2.81c.8-.78.8-2.07 0-2.86zM5.41 20L4 18.59l7.72-7.72 1.47 1.35L5.41 20z\"/>\n",
              "  </svg>\n",
              "      </button>\n",
              "      \n",
              "  <style>\n",
              "    .colab-df-container {\n",
              "      display:flex;\n",
              "      flex-wrap:wrap;\n",
              "      gap: 12px;\n",
              "    }\n",
              "\n",
              "    .colab-df-convert {\n",
              "      background-color: #E8F0FE;\n",
              "      border: none;\n",
              "      border-radius: 50%;\n",
              "      cursor: pointer;\n",
              "      display: none;\n",
              "      fill: #1967D2;\n",
              "      height: 32px;\n",
              "      padding: 0 0 0 0;\n",
              "      width: 32px;\n",
              "    }\n",
              "\n",
              "    .colab-df-convert:hover {\n",
              "      background-color: #E2EBFA;\n",
              "      box-shadow: 0px 1px 2px rgba(60, 64, 67, 0.3), 0px 1px 3px 1px rgba(60, 64, 67, 0.15);\n",
              "      fill: #174EA6;\n",
              "    }\n",
              "\n",
              "    [theme=dark] .colab-df-convert {\n",
              "      background-color: #3B4455;\n",
              "      fill: #D2E3FC;\n",
              "    }\n",
              "\n",
              "    [theme=dark] .colab-df-convert:hover {\n",
              "      background-color: #434B5C;\n",
              "      box-shadow: 0px 1px 3px 1px rgba(0, 0, 0, 0.15);\n",
              "      filter: drop-shadow(0px 1px 2px rgba(0, 0, 0, 0.3));\n",
              "      fill: #FFFFFF;\n",
              "    }\n",
              "  </style>\n",
              "\n",
              "      <script>\n",
              "        const buttonEl =\n",
              "          document.querySelector('#df-b7af1d36-21fb-420d-bd4b-6cd29ff44910 button.colab-df-convert');\n",
              "        buttonEl.style.display =\n",
              "          google.colab.kernel.accessAllowed ? 'block' : 'none';\n",
              "\n",
              "        async function convertToInteractive(key) {\n",
              "          const element = document.querySelector('#df-b7af1d36-21fb-420d-bd4b-6cd29ff44910');\n",
              "          const dataTable =\n",
              "            await google.colab.kernel.invokeFunction('convertToInteractive',\n",
              "                                                     [key], {});\n",
              "          if (!dataTable) return;\n",
              "\n",
              "          const docLinkHtml = 'Like what you see? Visit the ' +\n",
              "            '<a target=\"_blank\" href=https://colab.research.google.com/notebooks/data_table.ipynb>data table notebook</a>'\n",
              "            + ' to learn more about interactive tables.';\n",
              "          element.innerHTML = '';\n",
              "          dataTable['output_type'] = 'display_data';\n",
              "          await google.colab.output.renderOutput(dataTable, element);\n",
              "          const docLink = document.createElement('div');\n",
              "          docLink.innerHTML = docLinkHtml;\n",
              "          element.appendChild(docLink);\n",
              "        }\n",
              "      </script>\n",
              "    </div>\n",
              "  </div>\n",
              "  "
            ],
            "text/plain": [
              "   nome_curso_agroecologia  nome_curso_alimentos  \\\n",
              "0                      0.0                   0.0   \n",
              "1                      0.0                   0.0   \n",
              "2                      0.0                   0.0   \n",
              "3                      0.0                   0.0   \n",
              "4                      0.0                   0.0   \n",
              "\n",
              "   nome_curso_analise e desenvolvimento de sistemas  \\\n",
              "0                                               0.0   \n",
              "1                                               0.0   \n",
              "2                                               0.0   \n",
              "3                                               0.0   \n",
              "4                                               0.0   \n",
              "\n",
              "   nome_curso_automacao industrial  nome_curso_ciencias biologicas  \\\n",
              "0                              0.0                             0.0   \n",
              "1                              0.0                             0.0   \n",
              "2                              0.0                             0.0   \n",
              "3                              0.0                             0.0   \n",
              "4                              0.0                             0.0   \n",
              "\n",
              "   nome_curso_construcao de edificios  nome_curso_design de interiores  \\\n",
              "0                                 0.0                              0.0   \n",
              "1                                 0.0                              0.0   \n",
              "2                                 0.0                              0.0   \n",
              "3                                 0.0                              0.0   \n",
              "4                                 0.0                              0.0   \n",
              "\n",
              "   nome_curso_design grafico  nome_curso_educacao fisica  \\\n",
              "0                        0.0                         0.0   \n",
              "1                        0.0                         0.0   \n",
              "2                        0.0                         0.0   \n",
              "3                        0.0                         0.0   \n",
              "4                        0.0                         0.0   \n",
              "\n",
              "   nome_curso_engenharia civil  ...  faixa_etaria_45-49  faixa_etaria_50-54  \\\n",
              "0                          1.0  ...                 0.0                 0.0   \n",
              "1                          1.0  ...                 0.0                 0.0   \n",
              "2                          1.0  ...                 0.0                 0.0   \n",
              "3                          1.0  ...                 0.0                 0.0   \n",
              "4                          1.0  ...                 0.0                 0.0   \n",
              "\n",
              "   faixa_etaria_55-59  faixa_etaria_Maior de 60 anos  cor_branca     \\\n",
              "0                 0.0                            0.0            1.0   \n",
              "1                 0.0                            0.0            0.0   \n",
              "2                 0.0                            0.0            1.0   \n",
              "3                 0.0                            0.0            1.0   \n",
              "4                 0.0                            0.0            1.0   \n",
              "\n",
              "   cor_indigena   cor_parda      cor_preta      carga_horaria  fator_esforco  \n",
              "0            0.0            0.0            0.0           3800           1.14  \n",
              "1            0.0            1.0            0.0           3800           1.14  \n",
              "2            0.0            0.0            0.0           3800           1.14  \n",
              "3            0.0            0.0            0.0           3800           1.14  \n",
              "4            0.0            0.0            0.0           3800           1.14  \n",
              "\n",
              "[5 rows x 538 columns]"
            ]
          },
          "execution_count": 38,
          "metadata": {},
          "output_type": "execute_result"
        }
      ],
      "source": [
        "X_all = pd.concat([X_encoded, X_numerical],axis=1) # concatenando os dataframes\n",
        "X_all.head()"
      ]
    },
    {
      "cell_type": "markdown",
      "metadata": {
        "id": "eCZdn10hOsGw"
      },
      "source": [
        "<h1>Lidando com as diferenças nos valores</h1>\n",
        "\n",
        "Se observamos os valores a maioria deles está como 0 ou 1. Porém existem duas colunas numéricas na base que são **carga_horaria** e **fator_esforco** que diferem muito disso."
      ]
    },
    {
      "cell_type": "code",
      "execution_count": 39,
      "metadata": {
        "id": "3viAdGutlJL0"
      },
      "outputs": [],
      "source": [
        "from sklearn.preprocessing import MinMaxScaler\n",
        "sc = MinMaxScaler((0,1))\n",
        "X_scaled = sc.fit_transform(X_all)"
      ]
    },
    {
      "cell_type": "code",
      "execution_count": 26,
      "metadata": {
        "colab": {
          "base_uri": "https://localhost:8080/",
          "height": 394
        },
        "id": "yYz3WmKmliNv",
        "outputId": "27e3e37b-f116-47c1-ce1e-b0f3ea002774"
      },
      "outputs": [
        {
          "data": {
            "text/html": [
              "\n",
              "  <div id=\"df-e08371f4-6f79-4d70-b551-fe752092d386\">\n",
              "    <div class=\"colab-df-container\">\n",
              "      <div>\n",
              "<style scoped>\n",
              "    .dataframe tbody tr th:only-of-type {\n",
              "        vertical-align: middle;\n",
              "    }\n",
              "\n",
              "    .dataframe tbody tr th {\n",
              "        vertical-align: top;\n",
              "    }\n",
              "\n",
              "    .dataframe thead th {\n",
              "        text-align: right;\n",
              "    }\n",
              "</style>\n",
              "<table border=\"1\" class=\"dataframe\">\n",
              "  <thead>\n",
              "    <tr style=\"text-align: right;\">\n",
              "      <th></th>\n",
              "      <th>0</th>\n",
              "      <th>1</th>\n",
              "      <th>2</th>\n",
              "      <th>3</th>\n",
              "      <th>4</th>\n",
              "      <th>5</th>\n",
              "      <th>6</th>\n",
              "      <th>7</th>\n",
              "      <th>8</th>\n",
              "      <th>9</th>\n",
              "      <th>...</th>\n",
              "      <th>528</th>\n",
              "      <th>529</th>\n",
              "      <th>530</th>\n",
              "      <th>531</th>\n",
              "      <th>532</th>\n",
              "      <th>533</th>\n",
              "      <th>534</th>\n",
              "      <th>535</th>\n",
              "      <th>536</th>\n",
              "      <th>537</th>\n",
              "    </tr>\n",
              "  </thead>\n",
              "  <tbody>\n",
              "    <tr>\n",
              "      <th>count</th>\n",
              "      <td>5509.000000</td>\n",
              "      <td>5509.000000</td>\n",
              "      <td>5509.000000</td>\n",
              "      <td>5509.000000</td>\n",
              "      <td>5509.000000</td>\n",
              "      <td>5509.000000</td>\n",
              "      <td>5509.000000</td>\n",
              "      <td>5509.000000</td>\n",
              "      <td>5509.000000</td>\n",
              "      <td>5509.000000</td>\n",
              "      <td>...</td>\n",
              "      <td>5509.000000</td>\n",
              "      <td>5509.000000</td>\n",
              "      <td>5509.000000</td>\n",
              "      <td>5509.000000</td>\n",
              "      <td>5509.000000</td>\n",
              "      <td>5509.000000</td>\n",
              "      <td>5509.000000</td>\n",
              "      <td>5509.000000</td>\n",
              "      <td>5509.000000</td>\n",
              "      <td>5509.000000</td>\n",
              "    </tr>\n",
              "    <tr>\n",
              "      <th>mean</th>\n",
              "      <td>0.053186</td>\n",
              "      <td>0.010891</td>\n",
              "      <td>0.049918</td>\n",
              "      <td>0.054819</td>\n",
              "      <td>0.012343</td>\n",
              "      <td>0.083681</td>\n",
              "      <td>0.033944</td>\n",
              "      <td>0.027773</td>\n",
              "      <td>0.009984</td>\n",
              "      <td>0.041568</td>\n",
              "      <td>...</td>\n",
              "      <td>0.024142</td>\n",
              "      <td>0.015248</td>\n",
              "      <td>0.007261</td>\n",
              "      <td>0.002904</td>\n",
              "      <td>0.366491</td>\n",
              "      <td>0.002360</td>\n",
              "      <td>0.529316</td>\n",
              "      <td>0.086767</td>\n",
              "      <td>0.333987</td>\n",
              "      <td>0.378420</td>\n",
              "    </tr>\n",
              "    <tr>\n",
              "      <th>std</th>\n",
              "      <td>0.224424</td>\n",
              "      <td>0.103801</td>\n",
              "      <td>0.217796</td>\n",
              "      <td>0.227648</td>\n",
              "      <td>0.110423</td>\n",
              "      <td>0.276934</td>\n",
              "      <td>0.181103</td>\n",
              "      <td>0.164336</td>\n",
              "      <td>0.099427</td>\n",
              "      <td>0.199619</td>\n",
              "      <td>...</td>\n",
              "      <td>0.153505</td>\n",
              "      <td>0.122548</td>\n",
              "      <td>0.084908</td>\n",
              "      <td>0.053818</td>\n",
              "      <td>0.481890</td>\n",
              "      <td>0.048525</td>\n",
              "      <td>0.499185</td>\n",
              "      <td>0.281519</td>\n",
              "      <td>0.230515</td>\n",
              "      <td>0.296871</td>\n",
              "    </tr>\n",
              "    <tr>\n",
              "      <th>min</th>\n",
              "      <td>0.000000</td>\n",
              "      <td>0.000000</td>\n",
              "      <td>0.000000</td>\n",
              "      <td>0.000000</td>\n",
              "      <td>0.000000</td>\n",
              "      <td>0.000000</td>\n",
              "      <td>0.000000</td>\n",
              "      <td>0.000000</td>\n",
              "      <td>0.000000</td>\n",
              "      <td>0.000000</td>\n",
              "      <td>...</td>\n",
              "      <td>0.000000</td>\n",
              "      <td>0.000000</td>\n",
              "      <td>0.000000</td>\n",
              "      <td>0.000000</td>\n",
              "      <td>0.000000</td>\n",
              "      <td>0.000000</td>\n",
              "      <td>0.000000</td>\n",
              "      <td>0.000000</td>\n",
              "      <td>0.000000</td>\n",
              "      <td>0.000000</td>\n",
              "    </tr>\n",
              "    <tr>\n",
              "      <th>25%</th>\n",
              "      <td>0.000000</td>\n",
              "      <td>0.000000</td>\n",
              "      <td>0.000000</td>\n",
              "      <td>0.000000</td>\n",
              "      <td>0.000000</td>\n",
              "      <td>0.000000</td>\n",
              "      <td>0.000000</td>\n",
              "      <td>0.000000</td>\n",
              "      <td>0.000000</td>\n",
              "      <td>0.000000</td>\n",
              "      <td>...</td>\n",
              "      <td>0.000000</td>\n",
              "      <td>0.000000</td>\n",
              "      <td>0.000000</td>\n",
              "      <td>0.000000</td>\n",
              "      <td>0.000000</td>\n",
              "      <td>0.000000</td>\n",
              "      <td>0.000000</td>\n",
              "      <td>0.000000</td>\n",
              "      <td>0.207413</td>\n",
              "      <td>0.107143</td>\n",
              "    </tr>\n",
              "    <tr>\n",
              "      <th>50%</th>\n",
              "      <td>0.000000</td>\n",
              "      <td>0.000000</td>\n",
              "      <td>0.000000</td>\n",
              "      <td>0.000000</td>\n",
              "      <td>0.000000</td>\n",
              "      <td>0.000000</td>\n",
              "      <td>0.000000</td>\n",
              "      <td>0.000000</td>\n",
              "      <td>0.000000</td>\n",
              "      <td>0.000000</td>\n",
              "      <td>...</td>\n",
              "      <td>0.000000</td>\n",
              "      <td>0.000000</td>\n",
              "      <td>0.000000</td>\n",
              "      <td>0.000000</td>\n",
              "      <td>0.000000</td>\n",
              "      <td>0.000000</td>\n",
              "      <td>1.000000</td>\n",
              "      <td>0.000000</td>\n",
              "      <td>0.246724</td>\n",
              "      <td>0.285714</td>\n",
              "    </tr>\n",
              "    <tr>\n",
              "      <th>75%</th>\n",
              "      <td>0.000000</td>\n",
              "      <td>0.000000</td>\n",
              "      <td>0.000000</td>\n",
              "      <td>0.000000</td>\n",
              "      <td>0.000000</td>\n",
              "      <td>0.000000</td>\n",
              "      <td>0.000000</td>\n",
              "      <td>0.000000</td>\n",
              "      <td>0.000000</td>\n",
              "      <td>0.000000</td>\n",
              "      <td>...</td>\n",
              "      <td>0.000000</td>\n",
              "      <td>0.000000</td>\n",
              "      <td>0.000000</td>\n",
              "      <td>0.000000</td>\n",
              "      <td>1.000000</td>\n",
              "      <td>0.000000</td>\n",
              "      <td>1.000000</td>\n",
              "      <td>0.000000</td>\n",
              "      <td>0.484463</td>\n",
              "      <td>0.714286</td>\n",
              "    </tr>\n",
              "    <tr>\n",
              "      <th>max</th>\n",
              "      <td>1.000000</td>\n",
              "      <td>1.000000</td>\n",
              "      <td>1.000000</td>\n",
              "      <td>1.000000</td>\n",
              "      <td>1.000000</td>\n",
              "      <td>1.000000</td>\n",
              "      <td>1.000000</td>\n",
              "      <td>1.000000</td>\n",
              "      <td>1.000000</td>\n",
              "      <td>1.000000</td>\n",
              "      <td>...</td>\n",
              "      <td>1.000000</td>\n",
              "      <td>1.000000</td>\n",
              "      <td>1.000000</td>\n",
              "      <td>1.000000</td>\n",
              "      <td>1.000000</td>\n",
              "      <td>1.000000</td>\n",
              "      <td>1.000000</td>\n",
              "      <td>1.000000</td>\n",
              "      <td>1.000000</td>\n",
              "      <td>1.000000</td>\n",
              "    </tr>\n",
              "  </tbody>\n",
              "</table>\n",
              "<p>8 rows × 538 columns</p>\n",
              "</div>\n",
              "      <button class=\"colab-df-convert\" onclick=\"convertToInteractive('df-e08371f4-6f79-4d70-b551-fe752092d386')\"\n",
              "              title=\"Convert this dataframe to an interactive table.\"\n",
              "              style=\"display:none;\">\n",
              "        \n",
              "  <svg xmlns=\"http://www.w3.org/2000/svg\" height=\"24px\"viewBox=\"0 0 24 24\"\n",
              "       width=\"24px\">\n",
              "    <path d=\"M0 0h24v24H0V0z\" fill=\"none\"/>\n",
              "    <path d=\"M18.56 5.44l.94 2.06.94-2.06 2.06-.94-2.06-.94-.94-2.06-.94 2.06-2.06.94zm-11 1L8.5 8.5l.94-2.06 2.06-.94-2.06-.94L8.5 2.5l-.94 2.06-2.06.94zm10 10l.94 2.06.94-2.06 2.06-.94-2.06-.94-.94-2.06-.94 2.06-2.06.94z\"/><path d=\"M17.41 7.96l-1.37-1.37c-.4-.4-.92-.59-1.43-.59-.52 0-1.04.2-1.43.59L10.3 9.45l-7.72 7.72c-.78.78-.78 2.05 0 2.83L4 21.41c.39.39.9.59 1.41.59.51 0 1.02-.2 1.41-.59l7.78-7.78 2.81-2.81c.8-.78.8-2.07 0-2.86zM5.41 20L4 18.59l7.72-7.72 1.47 1.35L5.41 20z\"/>\n",
              "  </svg>\n",
              "      </button>\n",
              "      \n",
              "  <style>\n",
              "    .colab-df-container {\n",
              "      display:flex;\n",
              "      flex-wrap:wrap;\n",
              "      gap: 12px;\n",
              "    }\n",
              "\n",
              "    .colab-df-convert {\n",
              "      background-color: #E8F0FE;\n",
              "      border: none;\n",
              "      border-radius: 50%;\n",
              "      cursor: pointer;\n",
              "      display: none;\n",
              "      fill: #1967D2;\n",
              "      height: 32px;\n",
              "      padding: 0 0 0 0;\n",
              "      width: 32px;\n",
              "    }\n",
              "\n",
              "    .colab-df-convert:hover {\n",
              "      background-color: #E2EBFA;\n",
              "      box-shadow: 0px 1px 2px rgba(60, 64, 67, 0.3), 0px 1px 3px 1px rgba(60, 64, 67, 0.15);\n",
              "      fill: #174EA6;\n",
              "    }\n",
              "\n",
              "    [theme=dark] .colab-df-convert {\n",
              "      background-color: #3B4455;\n",
              "      fill: #D2E3FC;\n",
              "    }\n",
              "\n",
              "    [theme=dark] .colab-df-convert:hover {\n",
              "      background-color: #434B5C;\n",
              "      box-shadow: 0px 1px 3px 1px rgba(0, 0, 0, 0.15);\n",
              "      filter: drop-shadow(0px 1px 2px rgba(0, 0, 0, 0.3));\n",
              "      fill: #FFFFFF;\n",
              "    }\n",
              "  </style>\n",
              "\n",
              "      <script>\n",
              "        const buttonEl =\n",
              "          document.querySelector('#df-e08371f4-6f79-4d70-b551-fe752092d386 button.colab-df-convert');\n",
              "        buttonEl.style.display =\n",
              "          google.colab.kernel.accessAllowed ? 'block' : 'none';\n",
              "\n",
              "        async function convertToInteractive(key) {\n",
              "          const element = document.querySelector('#df-e08371f4-6f79-4d70-b551-fe752092d386');\n",
              "          const dataTable =\n",
              "            await google.colab.kernel.invokeFunction('convertToInteractive',\n",
              "                                                     [key], {});\n",
              "          if (!dataTable) return;\n",
              "\n",
              "          const docLinkHtml = 'Like what you see? Visit the ' +\n",
              "            '<a target=\"_blank\" href=https://colab.research.google.com/notebooks/data_table.ipynb>data table notebook</a>'\n",
              "            + ' to learn more about interactive tables.';\n",
              "          element.innerHTML = '';\n",
              "          dataTable['output_type'] = 'display_data';\n",
              "          await google.colab.output.renderOutput(dataTable, element);\n",
              "          const docLink = document.createElement('div');\n",
              "          docLink.innerHTML = docLinkHtml;\n",
              "          element.appendChild(docLink);\n",
              "        }\n",
              "      </script>\n",
              "    </div>\n",
              "  </div>\n",
              "  "
            ],
            "text/plain": [
              "               0            1            2            3            4    \\\n",
              "count  5509.000000  5509.000000  5509.000000  5509.000000  5509.000000   \n",
              "mean      0.053186     0.010891     0.049918     0.054819     0.012343   \n",
              "std       0.224424     0.103801     0.217796     0.227648     0.110423   \n",
              "min       0.000000     0.000000     0.000000     0.000000     0.000000   \n",
              "25%       0.000000     0.000000     0.000000     0.000000     0.000000   \n",
              "50%       0.000000     0.000000     0.000000     0.000000     0.000000   \n",
              "75%       0.000000     0.000000     0.000000     0.000000     0.000000   \n",
              "max       1.000000     1.000000     1.000000     1.000000     1.000000   \n",
              "\n",
              "               5            6            7            8            9    ...  \\\n",
              "count  5509.000000  5509.000000  5509.000000  5509.000000  5509.000000  ...   \n",
              "mean      0.083681     0.033944     0.027773     0.009984     0.041568  ...   \n",
              "std       0.276934     0.181103     0.164336     0.099427     0.199619  ...   \n",
              "min       0.000000     0.000000     0.000000     0.000000     0.000000  ...   \n",
              "25%       0.000000     0.000000     0.000000     0.000000     0.000000  ...   \n",
              "50%       0.000000     0.000000     0.000000     0.000000     0.000000  ...   \n",
              "75%       0.000000     0.000000     0.000000     0.000000     0.000000  ...   \n",
              "max       1.000000     1.000000     1.000000     1.000000     1.000000  ...   \n",
              "\n",
              "               528          529          530          531          532  \\\n",
              "count  5509.000000  5509.000000  5509.000000  5509.000000  5509.000000   \n",
              "mean      0.024142     0.015248     0.007261     0.002904     0.366491   \n",
              "std       0.153505     0.122548     0.084908     0.053818     0.481890   \n",
              "min       0.000000     0.000000     0.000000     0.000000     0.000000   \n",
              "25%       0.000000     0.000000     0.000000     0.000000     0.000000   \n",
              "50%       0.000000     0.000000     0.000000     0.000000     0.000000   \n",
              "75%       0.000000     0.000000     0.000000     0.000000     1.000000   \n",
              "max       1.000000     1.000000     1.000000     1.000000     1.000000   \n",
              "\n",
              "               533          534          535          536          537  \n",
              "count  5509.000000  5509.000000  5509.000000  5509.000000  5509.000000  \n",
              "mean      0.002360     0.529316     0.086767     0.333987     0.378420  \n",
              "std       0.048525     0.499185     0.281519     0.230515     0.296871  \n",
              "min       0.000000     0.000000     0.000000     0.000000     0.000000  \n",
              "25%       0.000000     0.000000     0.000000     0.207413     0.107143  \n",
              "50%       0.000000     1.000000     0.000000     0.246724     0.285714  \n",
              "75%       0.000000     1.000000     0.000000     0.484463     0.714286  \n",
              "max       1.000000     1.000000     1.000000     1.000000     1.000000  \n",
              "\n",
              "[8 rows x 538 columns]"
            ]
          },
          "execution_count": 26,
          "metadata": {},
          "output_type": "execute_result"
        }
      ],
      "source": [
        "# como vira um array, estou convertendo de volta para DataFrame para poder usar o describe\n",
        "df_scaled = pd.DataFrame(X_scaled)\n",
        "\n",
        "# agora todos os dados estão dentro do mesmo intervalo 0 e 1\n",
        "df_scaled.describe()"
      ]
    },
    {
      "cell_type": "markdown",
      "metadata": {
        "id": "WVpkPuSp_m5q"
      },
      "source": [
        "<h3>Codificando a variável dependente <b>situacao</b></h3>\n",
        "Assim como os valores das features categóricas em X foram transformados em 0 e 1 o mesmo será feito com y. Como é apenas uma única coluna usa-se o LabelEncoder."
      ]
    },
    {
      "cell_type": "code",
      "execution_count": 40,
      "metadata": {
        "colab": {
          "base_uri": "https://localhost:8080/"
        },
        "id": "jcrMR0B6kPkA",
        "outputId": "e094fead-507a-4c83-eae3-4189272458af"
      },
      "outputs": [
        {
          "data": {
            "text/plain": [
              "array([1, 1, 1, ..., 1, 1, 1])"
            ]
          },
          "execution_count": 40,
          "metadata": {},
          "output_type": "execute_result"
        }
      ],
      "source": [
        "from sklearn.preprocessing import LabelEncoder\n",
        "le = LabelEncoder()\n",
        "y_encoded = le.fit_transform(y)\n",
        "y_encoded"
      ]
    },
    {
      "cell_type": "markdown",
      "metadata": {
        "id": "fp0SMMlICLsv"
      },
      "source": [
        "A varíavel vira um array numpy após esse processo. Podemos converter de volta para DataFrame para observar melhor os valores armazenando em um nova variável. "
      ]
    },
    {
      "cell_type": "code",
      "execution_count": 163,
      "metadata": {
        "colab": {
          "base_uri": "https://localhost:8080/",
          "height": 238
        },
        "id": "Mzeu0KtFAvMt",
        "outputId": "fdf57422-9587-44c2-ad0e-50843adeb353"
      },
      "outputs": [
        {
          "data": {
            "text/html": [
              "\n",
              "  <div id=\"df-2b0fdf75-f164-4e8c-a8ab-57aabad005aa\">\n",
              "    <div class=\"colab-df-container\">\n",
              "      <div>\n",
              "<style scoped>\n",
              "    .dataframe tbody tr th:only-of-type {\n",
              "        vertical-align: middle;\n",
              "    }\n",
              "\n",
              "    .dataframe tbody tr th {\n",
              "        vertical-align: top;\n",
              "    }\n",
              "\n",
              "    .dataframe thead th {\n",
              "        text-align: right;\n",
              "    }\n",
              "</style>\n",
              "<table border=\"1\" class=\"dataframe\">\n",
              "  <thead>\n",
              "    <tr style=\"text-align: right;\">\n",
              "      <th></th>\n",
              "      <th>situacao</th>\n",
              "    </tr>\n",
              "  </thead>\n",
              "  <tbody>\n",
              "    <tr>\n",
              "      <th>0</th>\n",
              "      <td>1</td>\n",
              "    </tr>\n",
              "    <tr>\n",
              "      <th>1</th>\n",
              "      <td>1</td>\n",
              "    </tr>\n",
              "    <tr>\n",
              "      <th>2</th>\n",
              "      <td>1</td>\n",
              "    </tr>\n",
              "    <tr>\n",
              "      <th>3</th>\n",
              "      <td>1</td>\n",
              "    </tr>\n",
              "    <tr>\n",
              "      <th>4</th>\n",
              "      <td>1</td>\n",
              "    </tr>\n",
              "    <tr>\n",
              "      <th>5</th>\n",
              "      <td>0</td>\n",
              "    </tr>\n",
              "  </tbody>\n",
              "</table>\n",
              "</div>\n",
              "      <button class=\"colab-df-convert\" onclick=\"convertToInteractive('df-2b0fdf75-f164-4e8c-a8ab-57aabad005aa')\"\n",
              "              title=\"Convert this dataframe to an interactive table.\"\n",
              "              style=\"display:none;\">\n",
              "        \n",
              "  <svg xmlns=\"http://www.w3.org/2000/svg\" height=\"24px\"viewBox=\"0 0 24 24\"\n",
              "       width=\"24px\">\n",
              "    <path d=\"M0 0h24v24H0V0z\" fill=\"none\"/>\n",
              "    <path d=\"M18.56 5.44l.94 2.06.94-2.06 2.06-.94-2.06-.94-.94-2.06-.94 2.06-2.06.94zm-11 1L8.5 8.5l.94-2.06 2.06-.94-2.06-.94L8.5 2.5l-.94 2.06-2.06.94zm10 10l.94 2.06.94-2.06 2.06-.94-2.06-.94-.94-2.06-.94 2.06-2.06.94z\"/><path d=\"M17.41 7.96l-1.37-1.37c-.4-.4-.92-.59-1.43-.59-.52 0-1.04.2-1.43.59L10.3 9.45l-7.72 7.72c-.78.78-.78 2.05 0 2.83L4 21.41c.39.39.9.59 1.41.59.51 0 1.02-.2 1.41-.59l7.78-7.78 2.81-2.81c.8-.78.8-2.07 0-2.86zM5.41 20L4 18.59l7.72-7.72 1.47 1.35L5.41 20z\"/>\n",
              "  </svg>\n",
              "      </button>\n",
              "      \n",
              "  <style>\n",
              "    .colab-df-container {\n",
              "      display:flex;\n",
              "      flex-wrap:wrap;\n",
              "      gap: 12px;\n",
              "    }\n",
              "\n",
              "    .colab-df-convert {\n",
              "      background-color: #E8F0FE;\n",
              "      border: none;\n",
              "      border-radius: 50%;\n",
              "      cursor: pointer;\n",
              "      display: none;\n",
              "      fill: #1967D2;\n",
              "      height: 32px;\n",
              "      padding: 0 0 0 0;\n",
              "      width: 32px;\n",
              "    }\n",
              "\n",
              "    .colab-df-convert:hover {\n",
              "      background-color: #E2EBFA;\n",
              "      box-shadow: 0px 1px 2px rgba(60, 64, 67, 0.3), 0px 1px 3px 1px rgba(60, 64, 67, 0.15);\n",
              "      fill: #174EA6;\n",
              "    }\n",
              "\n",
              "    [theme=dark] .colab-df-convert {\n",
              "      background-color: #3B4455;\n",
              "      fill: #D2E3FC;\n",
              "    }\n",
              "\n",
              "    [theme=dark] .colab-df-convert:hover {\n",
              "      background-color: #434B5C;\n",
              "      box-shadow: 0px 1px 3px 1px rgba(0, 0, 0, 0.15);\n",
              "      filter: drop-shadow(0px 1px 2px rgba(0, 0, 0, 0.3));\n",
              "      fill: #FFFFFF;\n",
              "    }\n",
              "  </style>\n",
              "\n",
              "      <script>\n",
              "        const buttonEl =\n",
              "          document.querySelector('#df-2b0fdf75-f164-4e8c-a8ab-57aabad005aa button.colab-df-convert');\n",
              "        buttonEl.style.display =\n",
              "          google.colab.kernel.accessAllowed ? 'block' : 'none';\n",
              "\n",
              "        async function convertToInteractive(key) {\n",
              "          const element = document.querySelector('#df-2b0fdf75-f164-4e8c-a8ab-57aabad005aa');\n",
              "          const dataTable =\n",
              "            await google.colab.kernel.invokeFunction('convertToInteractive',\n",
              "                                                     [key], {});\n",
              "          if (!dataTable) return;\n",
              "\n",
              "          const docLinkHtml = 'Like what you see? Visit the ' +\n",
              "            '<a target=\"_blank\" href=https://colab.research.google.com/notebooks/data_table.ipynb>data table notebook</a>'\n",
              "            + ' to learn more about interactive tables.';\n",
              "          element.innerHTML = '';\n",
              "          dataTable['output_type'] = 'display_data';\n",
              "          await google.colab.output.renderOutput(dataTable, element);\n",
              "          const docLink = document.createElement('div');\n",
              "          docLink.innerHTML = docLinkHtml;\n",
              "          element.appendChild(docLink);\n",
              "        }\n",
              "      </script>\n",
              "    </div>\n",
              "  </div>\n",
              "  "
            ],
            "text/plain": [
              "   situacao\n",
              "0         1\n",
              "1         1\n",
              "2         1\n",
              "3         1\n",
              "4         1\n",
              "5         0"
            ]
          },
          "execution_count": 163,
          "metadata": {},
          "output_type": "execute_result"
        }
      ],
      "source": [
        "df = pd.DataFrame(y_encoded, columns = ['situacao'])\n",
        "\n",
        "df.head(6)\n",
        "# concluise que:\n",
        "# E = 1\n",
        "# C = 0"
      ]
    },
    {
      "cell_type": "code",
      "execution_count": 42,
      "metadata": {
        "colab": {
          "base_uri": "https://localhost:8080/"
        },
        "id": "6EWIdfvxC5A_",
        "outputId": "8ec5e244-ca57-4ea6-a839-9cec2497b86f"
      },
      "outputs": [
        {
          "name": "stdout",
          "output_type": "stream",
          "text": [
            "<class 'numpy.ndarray'>\n",
            "<class 'numpy.ndarray'>\n"
          ]
        }
      ],
      "source": [
        "# observando os tipos das variáveis\n",
        "print(type(X_scaled))\n",
        "print(type(y_encoded))"
      ]
    },
    {
      "cell_type": "markdown",
      "metadata": {
        "id": "vQNpmd8NEGtV"
      },
      "source": [
        "<h1>Separando os dados em conjunto de treino e teste</h1>\n",
        "Será utilizado 20% dos dados para teste e 80% para treino."
      ]
    },
    {
      "cell_type": "code",
      "execution_count": 43,
      "metadata": {
        "id": "RYE0vzgyFF_N"
      },
      "outputs": [],
      "source": [
        "from sklearn.model_selection import train_test_split\n",
        "X_train,X_test,y_train,y_test = train_test_split(X_scaled,y_encoded,test_size=0.2,random_state=42)"
      ]
    },
    {
      "cell_type": "code",
      "execution_count": 44,
      "metadata": {
        "colab": {
          "base_uri": "https://localhost:8080/"
        },
        "id": "GWsgb5v7FHRj",
        "outputId": "709b299d-5fff-4e9e-8a97-0bafd5426a90"
      },
      "outputs": [
        {
          "name": "stdout",
          "output_type": "stream",
          "text": [
            "Para X_train tem-se 4407 linhas e 538 colunas:(4407, 538)\n",
            "Para X_test tem-se 1102 linhas e 538 colunas:(1102, 538)\n",
            "Para y_train tem-se 4407 linhas com os valores de classe referentes a cada amostra em X_train:(4407,)\n",
            "Para y_test tem-se 1102 linhas com os valores de classe referentes a cada amostra em X_test:(1102,)\n"
          ]
        }
      ],
      "source": [
        "print(f\"Para X_train tem-se 4407 linhas e 538 colunas:{X_train.shape}\")\n",
        "print(f\"Para X_test tem-se 1102 linhas e 538 colunas:{X_test.shape}\")\n",
        "print(f\"Para y_train tem-se 4407 linhas com os valores de classe referentes a cada amostra em X_train:{y_train.shape}\")\n",
        "print(f\"Para y_test tem-se 1102 linhas com os valores de classe referentes a cada amostra em X_test:{y_test.shape}\")"
      ]
    },
    {
      "cell_type": "code",
      "execution_count": 45,
      "metadata": {
        "colab": {
          "base_uri": "https://localhost:8080/"
        },
        "id": "whpEGmDSKHFn",
        "outputId": "319b3b51-d70d-4674-b375-5ba34a4f3cb0"
      },
      "outputs": [
        {
          "name": "stdout",
          "output_type": "stream",
          "text": [
            "[[0.         0.         0.         ... 0.         0.24672407 0.71428571]\n",
            " [0.         0.         0.         ... 0.         0.24672407 0.71428571]\n",
            " [1.         0.         0.         ... 0.         0.2006739  0.71428571]\n",
            " ...\n",
            " [0.         0.         0.         ... 0.         0.22126544 0.82142857]\n",
            " [0.         0.         0.         ... 0.         0.22126544 0.82142857]\n",
            " [1.         0.         0.         ... 0.         0.2006739  0.71428571]]\n"
          ]
        }
      ],
      "source": [
        "print(X_train)"
      ]
    },
    {
      "cell_type": "code",
      "execution_count": 46,
      "metadata": {
        "colab": {
          "base_uri": "https://localhost:8080/"
        },
        "id": "zL3yV9q3YyKR",
        "outputId": "ea4d46aa-8714-4ba8-cf23-592b36497e78"
      },
      "outputs": [
        {
          "name": "stdout",
          "output_type": "stream",
          "text": [
            "[[0.         0.         0.         ... 0.         0.24672407 0.71428571]\n",
            " [0.         0.         1.         ... 0.         0.20741295 0.89285714]\n",
            " [0.         0.         0.         ... 0.         0.22014227 0.10714286]\n",
            " ...\n",
            " [0.         1.         0.         ... 0.         0.35904156 0.71428571]\n",
            " [0.         0.         0.         ... 0.         0.24672407 0.71428571]\n",
            " [0.         0.         0.         ... 0.         0.25046799 0.14285714]]\n"
          ]
        }
      ],
      "source": [
        "print(X_test)"
      ]
    },
    {
      "cell_type": "code",
      "execution_count": 47,
      "metadata": {
        "colab": {
          "base_uri": "https://localhost:8080/",
          "height": 52
        },
        "id": "EyZGkC_3NP2w",
        "outputId": "01140b2c-04a6-46a6-e9c9-9e471c4ad1c2"
      },
      "outputs": [
        {
          "data": {
            "text/plain": [
              "array([0, 1, 1, ..., 0, 1, 0])"
            ]
          },
          "metadata": {},
          "output_type": "display_data"
        },
        {
          "data": {
            "text/plain": [
              "array([1, 1, 1, ..., 1, 0, 0])"
            ]
          },
          "metadata": {},
          "output_type": "display_data"
        }
      ],
      "source": [
        "display(y_train)\n",
        "display(y_test)"
      ]
    },
    {
      "cell_type": "markdown",
      "metadata": {
        "id": "NmitV1LUNbwz"
      },
      "source": [
        "# Aplicação dos algoritmos"
      ]
    },
    {
      "cell_type": "markdown",
      "metadata": {
        "id": "u2VhVz_mySfK"
      },
      "source": [
        "## KNN classifier"
      ]
    },
    {
      "cell_type": "code",
      "execution_count": 48,
      "metadata": {
        "id": "_ecVoJzHN4vJ"
      },
      "outputs": [],
      "source": [
        "from sklearn.neighbors import KNeighborsClassifier\n",
        "from sklearn import tree\n",
        "from sklearn.ensemble import RandomForestClassifier\n",
        "from sklearn.linear_model import LogisticRegression\n",
        "from scipy import stats\n",
        "from sklearn import model_selection\n",
        "from sklearn import metrics\n",
        "from sklearn.metrics import accuracy_score,  precision_score, f1_score, recall_score,classification_report"
      ]
    },
    {
      "cell_type": "code",
      "execution_count": 49,
      "metadata": {
        "id": "sisOgHSSOpqp"
      },
      "outputs": [],
      "source": [
        "accuracies = [] # lista para guardar as acurácias obtidas em cada valor de k\n",
        "for i in range (1,21):  # testando para 20 valores de k\n",
        "    knn = KNeighborsClassifier(n_neighbors=i, weights = 'uniform', metric='euclidean')\n",
        "    knn.fit(X_train,y_train)\n",
        "    predict_i = knn.predict(X_test)\n",
        "\n",
        "    accuracy = accuracy_score(y_test,predict_i)\n",
        "    accuracy = round(accuracy*100)\n",
        "\n",
        "    accuracies.append(accuracy)"
      ]
    },
    {
      "cell_type": "markdown",
      "metadata": {
        "id": "DZ1kij9EyWKd"
      },
      "source": [
        "#### Achando melhor K"
      ]
    },
    {
      "cell_type": "code",
      "execution_count": 50,
      "metadata": {
        "colab": {
          "base_uri": "https://localhost:8080/",
          "height": 422
        },
        "id": "LOPgr3uGQ9N7",
        "outputId": "0438ae00-8a8a-490c-e291-7cf79b9e1c80"
      },
      "outputs": [
        {
          "data": {
            "image/png": "[encoded data removed]",
            "text/plain": [
              "<Figure size 1000x400 with 1 Axes>"
            ]
          },
          "metadata": {},
          "output_type": "display_data"
        }
      ],
      "source": [
        "# plotando os resultados\n",
        "plt.figure(figsize=(10,4))\n",
        "plt.plot(range(1,21),accuracies,marker=\"o\",markerfacecolor=\"red\", linestyle=\"dashed\", color=\"black\",markersize=15)\n",
        "plt.title(\"Acurácia x Valor K\",fontsize=20)\n",
        "plt.xlabel(\"valores-k\",fontsize=12)\n",
        "plt.ylabel(\"acurácia\",fontsize=12)\n",
        "plt.xticks(range(1,22))\n",
        "plt.show()"
      ]
    },
    {
      "cell_type": "markdown",
      "metadata": {
        "id": "X8lDm215TI7W"
      },
      "source": [
        "O melhor valor de k foi 5"
      ]
    },
    {
      "cell_type": "code",
      "execution_count": 51,
      "metadata": {
        "colab": {
          "base_uri": "https://localhost:8080/",
          "height": 75
        },
        "id": "PO1ewChLNl9F",
        "outputId": "8f2afdf4-7977-400b-c737-5702057f7677"
      },
      "outputs": [
        {
          "data": {
            "text/html": [
              "<style>#sk-container-id-1 {color: black;background-color: white;}#sk-container-id-1 pre{padding: 0;}#sk-container-id-1 div.sk-toggleable {background-color: white;}#sk-container-id-1 label.sk-toggleable__label {cursor: pointer;display: block;width: 100%;margin-bottom: 0;padding: 0.3em;box-sizing: border-box;text-align: center;}#sk-container-id-1 label.sk-toggleable__label-arrow:before {content: \"▸\";float: left;margin-right: 0.25em;color: #696969;}#sk-container-id-1 label.sk-toggleable__label-arrow:hover:before {color: black;}#sk-container-id-1 div.sk-estimator:hover label.sk-toggleable__label-arrow:before {color: black;}#sk-container-id-1 div.sk-toggleable__content {max-height: 0;max-width: 0;overflow: hidden;text-align: left;background-color: #f0f8ff;}#sk-container-id-1 div.sk-toggleable__content pre {margin: 0.2em;color: black;border-radius: 0.25em;background-color: #f0f8ff;}#sk-container-id-1 input.sk-toggleable__control:checked~div.sk-toggleable__content {max-height: 200px;max-width: 100%;overflow: auto;}#sk-container-id-1 input.sk-toggleable__control:checked~label.sk-toggleable__label-arrow:before {content: \"▾\";}#sk-container-id-1 div.sk-estimator input.sk-toggleable__control:checked~label.sk-toggleable__label {background-color: #d4ebff;}#sk-container-id-1 div.sk-label input.sk-toggleable__control:checked~label.sk-toggleable__label {background-color: #d4ebff;}#sk-container-id-1 input.sk-hidden--visually {border: 0;clip: rect(1px 1px 1px 1px);clip: rect(1px, 1px, 1px, 1px);height: 1px;margin: -1px;overflow: hidden;padding: 0;position: absolute;width: 1px;}#sk-container-id-1 div.sk-estimator {font-family: monospace;background-color: #f0f8ff;border: 1px dotted black;border-radius: 0.25em;box-sizing: border-box;margin-bottom: 0.5em;}#sk-container-id-1 div.sk-estimator:hover {background-color: #d4ebff;}#sk-container-id-1 div.sk-parallel-item::after {content: \"\";width: 100%;border-bottom: 1px solid gray;flex-grow: 1;}#sk-container-id-1 div.sk-label:hover label.sk-toggleable__label {background-color: #d4ebff;}#sk-container-id-1 div.sk-serial::before {content: \"\";position: absolute;border-left: 1px solid gray;box-sizing: border-box;top: 0;bottom: 0;left: 50%;z-index: 0;}#sk-container-id-1 div.sk-serial {display: flex;flex-direction: column;align-items: center;background-color: white;padding-right: 0.2em;padding-left: 0.2em;position: relative;}#sk-container-id-1 div.sk-item {position: relative;z-index: 1;}#sk-container-id-1 div.sk-parallel {display: flex;align-items: stretch;justify-content: center;background-color: white;position: relative;}#sk-container-id-1 div.sk-item::before, #sk-container-id-1 div.sk-parallel-item::before {content: \"\";position: absolute;border-left: 1px solid gray;box-sizing: border-box;top: 0;bottom: 0;left: 50%;z-index: -1;}#sk-container-id-1 div.sk-parallel-item {display: flex;flex-direction: column;z-index: 1;position: relative;background-color: white;}#sk-container-id-1 div.sk-parallel-item:first-child::after {align-self: flex-end;width: 50%;}#sk-container-id-1 div.sk-parallel-item:last-child::after {align-self: flex-start;width: 50%;}#sk-container-id-1 div.sk-parallel-item:only-child::after {width: 0;}#sk-container-id-1 div.sk-dashed-wrapped {border: 1px dashed gray;margin: 0 0.4em 0.5em 0.4em;box-sizing: border-box;padding-bottom: 0.4em;background-color: white;}#sk-container-id-1 div.sk-label label {font-family: monospace;font-weight: bold;display: inline-block;line-height: 1.2em;}#sk-container-id-1 div.sk-label-container {text-align: center;}#sk-container-id-1 div.sk-container {/* jupyter's `normalize.less` sets `[hidden] { display: none; }` but bootstrap.min.css set `[hidden] { display: none !important; }` so we also need the `!important` here to be able to override the default hidden behavior on the sphinx rendered scikit-learn.org. See: https://github.com/scikit-learn/scikit-learn/issues/21755 */display: inline-block !important;position: relative;}#sk-container-id-1 div.sk-text-repr-fallback {display: none;}</style><div id=\"sk-container-id-1\" class=\"sk-top-container\"><div class=\"sk-text-repr-fallback\"><pre>KNeighborsClassifier(metric=&#x27;euclidean&#x27;)</pre><b>In a Jupyter environment, please rerun this cell to show the HTML representation or trust the notebook. <br />On GitHub, the HTML representation is unable to render, please try loading this page with nbviewer.org.</b></div><div class=\"sk-container\" hidden><div class=\"sk-item\"><div class=\"sk-estimator sk-toggleable\"><input class=\"sk-toggleable__control sk-hidden--visually\" id=\"sk-estimator-id-1\" type=\"checkbox\" checked><label for=\"sk-estimator-id-1\" class=\"sk-toggleable__label sk-toggleable__label-arrow\">KNeighborsClassifier</label><div class=\"sk-toggleable__content\"><pre>KNeighborsClassifier(metric=&#x27;euclidean&#x27;)</pre></div></div></div></div></div>"
            ],
            "text/plain": [
              "KNeighborsClassifier(metric='euclidean')"
            ]
          },
          "execution_count": 51,
          "metadata": {},
          "output_type": "execute_result"
        }
      ],
      "source": [
        "knn = KNeighborsClassifier(n_neighbors = 5 , weights = 'uniform', metric='euclidean')\n",
        "knn.fit(X_train, y_train)    "
      ]
    },
    {
      "cell_type": "code",
      "execution_count": 52,
      "metadata": {
        "id": "rJhVVzQNOSyW"
      },
      "outputs": [],
      "source": [
        "KNNpredicted = knn.predict(X_test)"
      ]
    },
    {
      "cell_type": "code",
      "execution_count": 53,
      "metadata": {
        "id": "vFVlKAEWTVED"
      },
      "outputs": [],
      "source": [
        "# criando matriz de confusão\n",
        "conf_matrix = confusion_matrix(y_test,KNNpredicted)"
      ]
    },
    {
      "cell_type": "code",
      "execution_count": 54,
      "metadata": {
        "colab": {
          "base_uri": "https://localhost:8080/",
          "height": 466
        },
        "id": "WbpxynY2TxwX",
        "outputId": "26f816ea-291a-45b0-ac8d-a685c674873c"
      },
      "outputs": [
        {
          "data": {
            "text/plain": [
              "<sklearn.metrics._plot.confusion_matrix.ConfusionMatrixDisplay at 0x7f9e15404e80>"
            ]
          },
          "execution_count": 54,
          "metadata": {},
          "output_type": "execute_result"
        },
        {
          "data": {
            "image/png": "[encoded data removed]",
            "text/plain": [
              "<Figure size 640x480 with 2 Axes>"
            ]
          },
          "metadata": {},
          "output_type": "display_data"
        }
      ],
      "source": [
        "disp = ConfusionMatrixDisplay(confusion_matrix = conf_matrix, display_labels = knn.classes_)\n",
        "disp.plot()"
      ]
    },
    {
      "cell_type": "markdown",
      "metadata": {
        "id": "9f5T0_aVXCxf"
      },
      "source": [
        "#### Analisando resultados do KNN"
      ]
    },
    {
      "cell_type": "code",
      "execution_count": 55,
      "metadata": {
        "colab": {
          "base_uri": "https://localhost:8080/"
        },
        "id": "LS_DpILyUKwO",
        "outputId": "b7544d82-be4a-4aa3-8359-05a5a66b5be1"
      },
      "outputs": [
        {
          "data": {
            "text/plain": [
              "array([[170, 136],\n",
              "       [100, 696]])"
            ]
          },
          "execution_count": 55,
          "metadata": {},
          "output_type": "execute_result"
        }
      ],
      "source": [
        "conf_matrix"
      ]
    },
    {
      "cell_type": "code",
      "execution_count": 56,
      "metadata": {
        "colab": {
          "base_uri": "https://localhost:8080/"
        },
        "id": "aYEV1icaUOiZ",
        "outputId": "55a59f3b-1bd2-40c5-f14c-2f0d2ebb832b"
      },
      "outputs": [
        {
          "name": "stdout",
          "output_type": "stream",
          "text": [
            "Previu 696 evadidos (1) corretamente\n",
            "Previu 170 concluintes (0) corretamente\n",
            "Previu incorretamente 136 concluintes quando eram evadidos\n",
            "Previu incorretamente 100 evadidos quando eram concluintes\n"
          ]
        }
      ],
      "source": [
        "print(f'Previu {conf_matrix[1,1]} evadidos (1) corretamente')\n",
        "print(f'Previu {conf_matrix[0,0]} concluintes (0) corretamente')\n",
        "print(f'Previu incorretamente {conf_matrix[0,1]} concluintes quando eram evadidos')\n",
        "print(f'Previu incorretamente {conf_matrix[1,0]} evadidos quando eram concluintes')"
      ]
    },
    {
      "cell_type": "code",
      "execution_count": 57,
      "metadata": {
        "colab": {
          "base_uri": "https://localhost:8080/"
        },
        "id": "rw_KoSPDXGFJ",
        "outputId": "4997f33c-c631-4618-d9d6-8a4199225af1"
      },
      "outputs": [
        {
          "name": "stdout",
          "output_type": "stream",
          "text": [
            "Precisão: 0.84\n",
            "Acurácia: 0.79\n",
            "F1 Score: 0.86\n",
            "Recall Score: 0.87\n",
            "              precision    recall  f1-score   support\n",
            "\n",
            "           0       0.63      0.56      0.59       306\n",
            "           1       0.84      0.87      0.86       796\n",
            "\n",
            "    accuracy                           0.79      1102\n",
            "   macro avg       0.73      0.71      0.72      1102\n",
            "weighted avg       0.78      0.79      0.78      1102\n",
            "\n"
          ]
        }
      ],
      "source": [
        "print('Precisão: %.2f' % precision_score(y_test, KNNpredicted))\n",
        "print('Acurácia: %.2f' % accuracy_score(y_test, KNNpredicted))\n",
        "print('F1 Score: %.2f' % f1_score(y_test, KNNpredicted))\n",
        "print('Recall Score: %.2f' % recall_score(y_test, KNNpredicted))\n",
        "print(classification_report(y_test,KNNpredicted))"
      ]
    },
    {
      "cell_type": "markdown",
      "metadata": {
        "id": "0uzbSkuvXwrU"
      },
      "source": [
        "## Decision Tree"
      ]
    },
    {
      "cell_type": "code",
      "execution_count": 58,
      "metadata": {
        "id": "JRCLLR4pYAJH"
      },
      "outputs": [],
      "source": [
        "from sklearn.metrics import roc_curve, auc"
      ]
    },
    {
      "cell_type": "markdown",
      "metadata": {
        "id": "HVEtxbPoxjEp"
      },
      "source": [
        "Criando uma função para calcular os diferentes índices AUC para os modelos treinados. Essa função será utilizada para encontrar o melhor parâmetro para os modelos de regressão logística e árvores de decisão. Para árovores de decisão o parâmetro a ser ajustado será o **max_depth** e para regressão logística o parâmetro **C**.\n"
      ]
    },
    {
      "cell_type": "code",
      "execution_count": 59,
      "metadata": {
        "id": "-PT29uGBd1Si"
      },
      "outputs": [],
      "source": [
        "def cal_roc_auc_for_train_test(model_name, num_params):\n",
        "  train_results = []\n",
        "  test_results = []\n",
        "  if model_name == 'decision tree':\n",
        "      for max_depth in num_params:\n",
        "        dt = DecisionTreeClassifier(max_depth=max_depth)\n",
        "        dt.fit(X_train, y_train)\n",
        "        # prevendo para os dados de treino\n",
        "        x_train_pred = dt.predict(X_train)\n",
        "\n",
        "        # temos que pegar os thresholds, proporcao de verdadeiros positivos e falsos positivos\n",
        "        # obtidos pela curva roc.\n",
        "        false_positive_rate, true_positive_rate, thresholds = roc_curve(y_train, x_train_pred)\n",
        "        # depois disso podemos calcular o auc\n",
        "        roc_auc = auc(false_positive_rate, true_positive_rate)\n",
        "        # adicionando os resultados da curva roc/auc em train_results\n",
        "        train_results.append(roc_auc)\n",
        "\n",
        "        # prevendo para os dados de teste\n",
        "        y_test_pred = dt.predict(X_test)\n",
        "        false_positive_rate, true_positive_rate, thresholds = roc_curve(y_test, y_test_pred)\n",
        "        roc_auc = auc(false_positive_rate, true_positive_rate)\n",
        "        # adicionando os resultados da curva roc/auc em test_results\n",
        "        test_results.append(roc_auc)\n",
        "      plot_roc_auc_for_train_test(num_params,'max_depth',train_results,test_results)\n",
        "  if model_name == 'logistic regression':\n",
        "      for c in num_params:\n",
        "        lr = LogisticRegression(C=c)\n",
        "        lr.fit(X_train, y_train)\n",
        "   \n",
        "        x_train_pred = lr.predict(X_train)\n",
        "\n",
        "        false_positive_rate, true_positive_rate, thresholds = roc_curve(y_train, x_train_pred)\n",
        "\n",
        "        roc_auc = auc(false_positive_rate, true_positive_rate)\n",
        "\n",
        "        train_results.append(roc_auc)\n",
        "\n",
        "        y_test_pred = lr.predict(X_test)\n",
        "        false_positive_rate, true_positive_rate, thresholds = roc_curve(y_test, y_test_pred)\n",
        "        roc_auc = auc(false_positive_rate, true_positive_rate)\n",
        "\n",
        "        test_results.append(roc_auc)\n",
        "      plot_roc_auc_for_train_test(num_params,'c_value',train_results,test_results)\n",
        "\n",
        "\n",
        "def plot_roc_auc_for_train_test(num_params,x_label_name,train_results,test_results):\n",
        "  plt.plot(num_params, train_results, 'green', label='Train AUC', marker='o'\n",
        "            ,markersize=5,markerfacecolor=\"green\")\n",
        "  plt.plot(num_params, test_results, 'r', label='Test AUC',marker='o'\n",
        "            ,markersize=5,markerfacecolor=\"red\")\n",
        "  plt.legend()\n",
        "  plt.ylabel('AUC score')\n",
        "  plt.xlabel(x_label_name)\n",
        "  plt.show()\n"
      ]
    },
    {
      "cell_type": "markdown",
      "metadata": {
        "id": "6OGz2YC-yn7T"
      },
      "source": [
        "#### Achando o melhor max_depth"
      ]
    },
    {
      "cell_type": "code",
      "execution_count": 60,
      "metadata": {
        "colab": {
          "base_uri": "https://localhost:8080/"
        },
        "id": "RGFEg6KunPda",
        "outputId": "9f59cb9c-f986-44ac-d735-7f1447182119"
      },
      "outputs": [
        {
          "data": {
            "text/plain": [
              "array([ 1,  2,  3,  4,  5,  6,  7,  8,  9, 10, 11, 12, 13, 14, 15, 16, 17,\n",
              "       18, 19, 20, 21, 22, 23, 24, 25])"
            ]
          },
          "execution_count": 60,
          "metadata": {},
          "output_type": "execute_result"
        }
      ],
      "source": [
        "max_depths = np.arange(1, 26)\n",
        "max_depths"
      ]
    },
    {
      "cell_type": "markdown",
      "metadata": {
        "id": "rvzgdMBzLyDt"
      },
      "source": [
        "Quanto maior for o valor de AUC, melhor o nosso modelo está. Através do AUC é possível mensurar o nível de separabilidade do modelo, isto é, o quão bom ele está em prever classes 0 como 0 e classes 1 como 1. Para o nosso caso, quanto maior o AUC, maior a capacidade do modelo em distinguir alunos evadidos (1) de concluintes (0)."
      ]
    },
    {
      "cell_type": "code",
      "execution_count": 61,
      "metadata": {
        "colab": {
          "base_uri": "https://localhost:8080/",
          "height": 450
        },
        "id": "M8hSfGoUmyx8",
        "outputId": "bf367736-c783-4481-a20d-ed74a797ec74"
      },
      "outputs": [
        {
          "data": {
            "image/png": "[encoded data removed]",
            "text/plain": [
              "<Figure size 640x480 with 1 Axes>"
            ]
          },
          "metadata": {},
          "output_type": "display_data"
        }
      ],
      "source": [
        "cal_roc_auc_for_train_test('decision tree', max_depths)"
      ]
    },
    {
      "cell_type": "markdown",
      "metadata": {
        "id": "biiSAeh6yu0V"
      },
      "source": [
        "Parar no 21 parece uma boa ideia, já que depois disso não parece haver tanto ganho olhando para os resultados com os dados de teste."
      ]
    },
    {
      "cell_type": "code",
      "execution_count": 62,
      "metadata": {
        "colab": {
          "base_uri": "https://localhost:8080/",
          "height": 75
        },
        "id": "ptTrf91HX1We",
        "outputId": "3c7ab628-4efe-494d-ccde-b36e9358abd9"
      },
      "outputs": [
        {
          "data": {
            "text/html": [
              "<style>#sk-container-id-2 {color: black;background-color: white;}#sk-container-id-2 pre{padding: 0;}#sk-container-id-2 div.sk-toggleable {background-color: white;}#sk-container-id-2 label.sk-toggleable__label {cursor: pointer;display: block;width: 100%;margin-bottom: 0;padding: 0.3em;box-sizing: border-box;text-align: center;}#sk-container-id-2 label.sk-toggleable__label-arrow:before {content: \"▸\";float: left;margin-right: 0.25em;color: #696969;}#sk-container-id-2 label.sk-toggleable__label-arrow:hover:before {color: black;}#sk-container-id-2 div.sk-estimator:hover label.sk-toggleable__label-arrow:before {color: black;}#sk-container-id-2 div.sk-toggleable__content {max-height: 0;max-width: 0;overflow: hidden;text-align: left;background-color: #f0f8ff;}#sk-container-id-2 div.sk-toggleable__content pre {margin: 0.2em;color: black;border-radius: 0.25em;background-color: #f0f8ff;}#sk-container-id-2 input.sk-toggleable__control:checked~div.sk-toggleable__content {max-height: 200px;max-width: 100%;overflow: auto;}#sk-container-id-2 input.sk-toggleable__control:checked~label.sk-toggleable__label-arrow:before {content: \"▾\";}#sk-container-id-2 div.sk-estimator input.sk-toggleable__control:checked~label.sk-toggleable__label {background-color: #d4ebff;}#sk-container-id-2 div.sk-label input.sk-toggleable__control:checked~label.sk-toggleable__label {background-color: #d4ebff;}#sk-container-id-2 input.sk-hidden--visually {border: 0;clip: rect(1px 1px 1px 1px);clip: rect(1px, 1px, 1px, 1px);height: 1px;margin: -1px;overflow: hidden;padding: 0;position: absolute;width: 1px;}#sk-container-id-2 div.sk-estimator {font-family: monospace;background-color: #f0f8ff;border: 1px dotted black;border-radius: 0.25em;box-sizing: border-box;margin-bottom: 0.5em;}#sk-container-id-2 div.sk-estimator:hover {background-color: #d4ebff;}#sk-container-id-2 div.sk-parallel-item::after {content: \"\";width: 100%;border-bottom: 1px solid gray;flex-grow: 1;}#sk-container-id-2 div.sk-label:hover label.sk-toggleable__label {background-color: #d4ebff;}#sk-container-id-2 div.sk-serial::before {content: \"\";position: absolute;border-left: 1px solid gray;box-sizing: border-box;top: 0;bottom: 0;left: 50%;z-index: 0;}#sk-container-id-2 div.sk-serial {display: flex;flex-direction: column;align-items: center;background-color: white;padding-right: 0.2em;padding-left: 0.2em;position: relative;}#sk-container-id-2 div.sk-item {position: relative;z-index: 1;}#sk-container-id-2 div.sk-parallel {display: flex;align-items: stretch;justify-content: center;background-color: white;position: relative;}#sk-container-id-2 div.sk-item::before, #sk-container-id-2 div.sk-parallel-item::before {content: \"\";position: absolute;border-left: 1px solid gray;box-sizing: border-box;top: 0;bottom: 0;left: 50%;z-index: -1;}#sk-container-id-2 div.sk-parallel-item {display: flex;flex-direction: column;z-index: 1;position: relative;background-color: white;}#sk-container-id-2 div.sk-parallel-item:first-child::after {align-self: flex-end;width: 50%;}#sk-container-id-2 div.sk-parallel-item:last-child::after {align-self: flex-start;width: 50%;}#sk-container-id-2 div.sk-parallel-item:only-child::after {width: 0;}#sk-container-id-2 div.sk-dashed-wrapped {border: 1px dashed gray;margin: 0 0.4em 0.5em 0.4em;box-sizing: border-box;padding-bottom: 0.4em;background-color: white;}#sk-container-id-2 div.sk-label label {font-family: monospace;font-weight: bold;display: inline-block;line-height: 1.2em;}#sk-container-id-2 div.sk-label-container {text-align: center;}#sk-container-id-2 div.sk-container {/* jupyter's `normalize.less` sets `[hidden] { display: none; }` but bootstrap.min.css set `[hidden] { display: none !important; }` so we also need the `!important` here to be able to override the default hidden behavior on the sphinx rendered scikit-learn.org. See: https://github.com/scikit-learn/scikit-learn/issues/21755 */display: inline-block !important;position: relative;}#sk-container-id-2 div.sk-text-repr-fallback {display: none;}</style><div id=\"sk-container-id-2\" class=\"sk-top-container\"><div class=\"sk-text-repr-fallback\"><pre>DecisionTreeClassifier(max_depth=21, random_state=42)</pre><b>In a Jupyter environment, please rerun this cell to show the HTML representation or trust the notebook. <br />On GitHub, the HTML representation is unable to render, please try loading this page with nbviewer.org.</b></div><div class=\"sk-container\" hidden><div class=\"sk-item\"><div class=\"sk-estimator sk-toggleable\"><input class=\"sk-toggleable__control sk-hidden--visually\" id=\"sk-estimator-id-2\" type=\"checkbox\" checked><label for=\"sk-estimator-id-2\" class=\"sk-toggleable__label sk-toggleable__label-arrow\">DecisionTreeClassifier</label><div class=\"sk-toggleable__content\"><pre>DecisionTreeClassifier(max_depth=21, random_state=42)</pre></div></div></div></div></div>"
            ],
            "text/plain": [
              "DecisionTreeClassifier(max_depth=21, random_state=42)"
            ]
          },
          "execution_count": 62,
          "metadata": {},
          "output_type": "execute_result"
        }
      ],
      "source": [
        "decision_tree = DecisionTreeClassifier(max_depth = 21, random_state=42)\n",
        "decision_tree.fit(X_train, y_train)"
      ]
    },
    {
      "cell_type": "markdown",
      "metadata": {
        "id": "aTYaw9JEx7LX"
      },
      "source": [
        "#### Analisando os resultados do Decision Tree"
      ]
    },
    {
      "cell_type": "code",
      "execution_count": 63,
      "metadata": {
        "id": "uO1edD2gEAet"
      },
      "outputs": [],
      "source": [
        "y_pred = decision_tree.predict(X_test)\n",
        "conf_matrix = confusion_matrix(y_test,y_pred)"
      ]
    },
    {
      "cell_type": "code",
      "execution_count": 64,
      "metadata": {
        "colab": {
          "base_uri": "https://localhost:8080/",
          "height": 466
        },
        "id": "Ot1FKVTfEMe4",
        "outputId": "5f11d58f-c6b6-4815-92d4-b7e58de1e09a"
      },
      "outputs": [
        {
          "data": {
            "text/plain": [
              "<sklearn.metrics._plot.confusion_matrix.ConfusionMatrixDisplay at 0x7f9e13c720e0>"
            ]
          },
          "execution_count": 64,
          "metadata": {},
          "output_type": "execute_result"
        },
        {
          "data": {
            "image/png": "[encoded data removed]",
            "text/plain": [
              "<Figure size 640x480 with 2 Axes>"
            ]
          },
          "metadata": {},
          "output_type": "display_data"
        }
      ],
      "source": [
        "disp = ConfusionMatrixDisplay(confusion_matrix = conf_matrix, display_labels = decision_tree.classes_)\n",
        "disp.plot()"
      ]
    },
    {
      "cell_type": "code",
      "execution_count": 65,
      "metadata": {
        "colab": {
          "base_uri": "https://localhost:8080/"
        },
        "id": "diLRCaihD8Ms",
        "outputId": "8dab5ce7-cd3a-49fc-ff17-ae2bec6f30bc"
      },
      "outputs": [
        {
          "name": "stdout",
          "output_type": "stream",
          "text": [
            "Previu 716 evadidos (1) corretamente\n",
            "Previu 129 concluintes (0) corretamente\n",
            "Previu incorretamente 177 concluintes quando eram evadidos\n",
            "Previu incorretamente 80 evadidos quando eram concluintes\n"
          ]
        }
      ],
      "source": [
        "print(f'Previu {conf_matrix[1,1]} evadidos (1) corretamente')\n",
        "print(f'Previu {conf_matrix[0,0]} concluintes (0) corretamente')\n",
        "print(f'Previu incorretamente {conf_matrix[0,1]} concluintes quando eram evadidos')\n",
        "print(f'Previu incorretamente {conf_matrix[1,0]} evadidos quando eram concluintes')"
      ]
    },
    {
      "cell_type": "code",
      "execution_count": 66,
      "metadata": {
        "colab": {
          "base_uri": "https://localhost:8080/"
        },
        "id": "fTj3uUog5apT",
        "outputId": "70aac7ba-fb93-422c-c797-cde25c4279a0"
      },
      "outputs": [
        {
          "name": "stdout",
          "output_type": "stream",
          "text": [
            "              precision    recall  f1-score   support\n",
            "\n",
            "           0       0.62      0.42      0.50       306\n",
            "           1       0.80      0.90      0.85       796\n",
            "\n",
            "    accuracy                           0.77      1102\n",
            "   macro avg       0.71      0.66      0.67      1102\n",
            "weighted avg       0.75      0.77      0.75      1102\n",
            "\n"
          ]
        }
      ],
      "source": [
        "print(classification_report(y_test,y_pred))"
      ]
    },
    {
      "cell_type": "markdown",
      "metadata": {
        "id": "t2vM7LnrUpcW"
      },
      "source": [
        "#### Visualizando a importância das features para Decision Tree"
      ]
    },
    {
      "cell_type": "code",
      "execution_count": 69,
      "metadata": {
        "colab": {
          "base_uri": "https://localhost:8080/",
          "height": 447
        },
        "id": "Fa5gXBp4Nquf",
        "outputId": "6acd626e-2536-4d4d-cfce-dc77b878d90c"
      },
      "outputs": [
        {
          "data": {
            "text/plain": [
              "<Axes: >"
            ]
          },
          "execution_count": 69,
          "metadata": {},
          "output_type": "execute_result"
        },
        {
          "data": {
            "image/png": "[encoded data removed]",
            "text/plain": [
              "<Figure size 640x480 with 1 Axes>"
            ]
          },
          "metadata": {},
          "output_type": "display_data"
        }
      ],
      "source": [
        "feat_importances = pd.Series(decision_tree.feature_importances_, index=X_all.columns)\n",
        "feat_importances.nlargest(10).plot(kind='barh')"
      ]
    },
    {
      "cell_type": "markdown",
      "metadata": {
        "id": "bP_E3KIbUxO8"
      },
      "source": [
        "As features mais importantes foram relacionadas a carga horária, cor parda e branca, eixo tecnológico, faixa etária de 20 até 29 e renda de 0,5 a 1.5."
      ]
    },
    {
      "cell_type": "markdown",
      "metadata": {
        "id": "LoOx5gHEVR6v"
      },
      "source": [
        "## Logistic Regression"
      ]
    },
    {
      "cell_type": "markdown",
      "metadata": {
        "id": "K2EKoAJSyzmM"
      },
      "source": [
        "#### Achando melhor C"
      ]
    },
    {
      "cell_type": "code",
      "execution_count": 70,
      "metadata": {
        "id": "tIPEWs0zVUlG"
      },
      "outputs": [],
      "source": [
        "c_params = [0.0001, 0.001, 0.01, 0.1, 1.0, 10, 100, 1000] # valores para C"
      ]
    },
    {
      "cell_type": "code",
      "execution_count": 71,
      "metadata": {
        "colab": {
          "base_uri": "https://localhost:8080/",
          "height": 450
        },
        "id": "fCi-94LJX9UA",
        "outputId": "8dc9fe7b-784d-4b43-e09b-cece67c9287f"
      },
      "outputs": [
        {
          "data": {
            "image/png": "[encoded data removed]",
            "text/plain": [
              "<Figure size 640x480 with 1 Axes>"
            ]
          },
          "metadata": {},
          "output_type": "display_data"
        }
      ],
      "source": [
        "cal_roc_auc_for_train_test('logistic regression', c_params)"
      ]
    },
    {
      "cell_type": "markdown",
      "metadata": {
        "id": "rPEbUDZDeamm"
      },
      "source": [
        "O AUC mais alto para os dados de teste está no quinto ponto que equivale a C = 1.0"
      ]
    },
    {
      "cell_type": "markdown",
      "metadata": {
        "id": "l4LpIjm_y5iK"
      },
      "source": [
        "#### Treinando a analisando resultados do LogisticRegression"
      ]
    },
    {
      "cell_type": "code",
      "execution_count": 72,
      "metadata": {
        "colab": {
          "base_uri": "https://localhost:8080/",
          "height": 466
        },
        "id": "D9GeqbMbcHS-",
        "outputId": "ecb54935-5764-4262-b14a-eba9fbb811f6"
      },
      "outputs": [
        {
          "data": {
            "text/plain": [
              "<sklearn.metrics._plot.confusion_matrix.ConfusionMatrixDisplay at 0x7f9e158acee0>"
            ]
          },
          "execution_count": 72,
          "metadata": {},
          "output_type": "execute_result"
        },
        {
          "data": {
            "image/png": "[encoded data removed]",
            "text/plain": [
              "<Figure size 640x480 with 2 Axes>"
            ]
          },
          "metadata": {},
          "output_type": "display_data"
        }
      ],
      "source": [
        "logistic_regression = LogisticRegression(C=1.0, random_state=42)\n",
        "logistic_regression.fit(X_train,y_train)\n",
        "y_pred = logistic_regression.predict(X_test)\n",
        "conf_matrix = confusion_matrix(y_test, y_pred)\n",
        "disp = ConfusionMatrixDisplay(confusion_matrix = conf_matrix, display_labels = logistic_regression.classes_)\n",
        "disp.plot()"
      ]
    },
    {
      "cell_type": "code",
      "execution_count": 73,
      "metadata": {
        "colab": {
          "base_uri": "https://localhost:8080/"
        },
        "id": "adsXpwk99xzf",
        "outputId": "d3020872-0c66-4801-a4be-b244f089cf3a"
      },
      "outputs": [
        {
          "name": "stdout",
          "output_type": "stream",
          "text": [
            "Previu 710 evadidos (1) corretamente\n",
            "Previu 167 concluintes (0) corretamente\n",
            "Previu incorretamente 139 concluintes quando eram evadidos\n",
            "Previu incorretamente 86 evadidos quando eram concluintes\n"
          ]
        }
      ],
      "source": [
        "print(f'Previu {conf_matrix[1,1]} evadidos (1) corretamente')\n",
        "print(f'Previu {conf_matrix[0,0]} concluintes (0) corretamente')\n",
        "print(f'Previu incorretamente {conf_matrix[0,1]} concluintes quando eram evadidos')\n",
        "print(f'Previu incorretamente {conf_matrix[1,0]} evadidos quando eram concluintes')"
      ]
    },
    {
      "cell_type": "code",
      "execution_count": 74,
      "metadata": {
        "colab": {
          "base_uri": "https://localhost:8080/"
        },
        "id": "78j-OyH2dWou",
        "outputId": "4798be53-76fe-4e01-ae22-01cb0f32e4af"
      },
      "outputs": [
        {
          "name": "stdout",
          "output_type": "stream",
          "text": [
            "              precision    recall  f1-score   support\n",
            "\n",
            "           0       0.66      0.55      0.60       306\n",
            "           1       0.84      0.89      0.86       796\n",
            "\n",
            "    accuracy                           0.80      1102\n",
            "   macro avg       0.75      0.72      0.73      1102\n",
            "weighted avg       0.79      0.80      0.79      1102\n",
            "\n"
          ]
        }
      ],
      "source": [
        "print(classification_report(y_test,y_pred))"
      ]
    },
    {
      "cell_type": "markdown",
      "metadata": {
        "id": "nJJj0zsnsmfL"
      },
      "source": [
        "## **Comparando os modelos pela curva ROC** "
      ]
    },
    {
      "cell_type": "code",
      "execution_count": 75,
      "metadata": {
        "id": "XHuTkVsCqIt9"
      },
      "outputs": [],
      "source": [
        "def compare_models_by_roc_curve(model,label_name):\n",
        "  # calculando roc\n",
        "  y_pred_probability = model.predict_proba(X_test)[::,1]\n",
        "  # calculando também o auc\n",
        "  fpr, tpr, _ = metrics.roc_curve(y_test,  y_pred_probability)\n",
        "  auc = metrics.roc_auc_score(y_test, y_pred_probability)\n",
        "  plt.plot(fpr,tpr,label=label_name+\",auc=\"+str(auc))"
      ]
    },
    {
      "cell_type": "code",
      "execution_count": 76,
      "metadata": {
        "colab": {
          "base_uri": "https://localhost:8080/",
          "height": 449
        },
        "id": "R7BTXS0ErMY7",
        "outputId": "349cf3d1-a2b7-4aee-b522-75e3d639c996"
      },
      "outputs": [
        {
          "data": {
            "image/png": "[encoded data removed]",
            "text/plain": [
              "<Figure size 640x480 with 1 Axes>"
            ]
          },
          "metadata": {},
          "output_type": "display_data"
        }
      ],
      "source": [
        "compare_models_by_roc_curve(logistic_regression,\"LogisticRegression\")\n",
        "compare_models_by_roc_curve(knn,\"KNNClassifier\")\n",
        "compare_models_by_roc_curve(decision_tree,\"DecisionTree\")\n",
        "plt.legend(loc=4)\n",
        "plt.xlabel(\"False Positive Rate\")\n",
        "plt.ylabel('True Positive Rate')\n",
        "plt.show()"
      ]
    },
    {
      "cell_type": "markdown",
      "metadata": {
        "id": "Rh3Y7vCTsj3g"
      },
      "source": [
        "A Regressão Logística foi melhor que o KNN e o Árvores de Decisão."
      ]
    },
    {
      "cell_type": "markdown",
      "metadata": {
        "id": "wKngL8Rmjt9c"
      },
      "source": [
        "## Support Vector Machine"
      ]
    },
    {
      "cell_type": "code",
      "execution_count": 77,
      "metadata": {
        "id": "m0rOP0XAjxp3"
      },
      "outputs": [],
      "source": [
        "from sklearn.svm import SVC\n",
        "from sklearn.model_selection import GridSearchCV"
      ]
    },
    {
      "cell_type": "markdown",
      "metadata": {
        "id": "_jQRHBR64BVo"
      },
      "source": [
        "Seŕa utilizado o kernel rbf. Para otimizar modelo vamos achar o melhor valor para os parâmetros **C** e **gamma**.\n",
        "\n",
        "Como temos dois parâmetros para otimizar, usaremos o GridSearch. "
      ]
    },
    {
      "cell_type": "markdown",
      "metadata": {
        "id": "DnFxJ2GszkbT"
      },
      "source": [
        "#### Encontrando o melhor C e o melhor gamma"
      ]
    },
    {
      "cell_type": "code",
      "execution_count": 78,
      "metadata": {
        "colab": {
          "base_uri": "https://localhost:8080/"
        },
        "id": "x3rBBDSo34eN",
        "outputId": "640cce8c-f5cb-4fb7-e096-bfc846316cf2"
      },
      "outputs": [
        {
          "name": "stdout",
          "output_type": "stream",
          "text": [
            "{'C': 100, 'gamma': 0.01, 'kernel': 'rbf'}\n"
          ]
        }
      ],
      "source": [
        "param_grid = [\n",
        "    {'C':[0.5,1,10,100], # valores para C\n",
        "    'gamma':['scale',1,0.1,0.01,0.001,0.0001], # valores para gamma\n",
        "    'kernel':['rbf']},\n",
        "]\n",
        "\n",
        "optimal_params = GridSearchCV(\n",
        "    SVC(),\n",
        "    param_grid,\n",
        "    cv = 5,\n",
        "    scoring='accuracy',\n",
        "    verbose=0 \n",
        ")\n",
        "\n",
        "# agora executamos a validação cruzada nos valores\n",
        "# dos parametros usando os dados de treinamento e,\n",
        "# em seguida, imprimimos os melhores parametros.\n",
        "optimal_params.fit(X_train,y_train)\n",
        "print(optimal_params.best_params_)"
      ]
    },
    {
      "cell_type": "markdown",
      "metadata": {
        "id": "CqZE1oT-zqlx"
      },
      "source": [
        "#### Treinando e analisando os resultados do SVM"
      ]
    },
    {
      "cell_type": "code",
      "execution_count": 79,
      "metadata": {
        "colab": {
          "base_uri": "https://localhost:8080/",
          "height": 466
        },
        "id": "fu2eQYER6f_J",
        "outputId": "c01fc3c4-1c21-41d2-a8d6-8f5711e59379"
      },
      "outputs": [
        {
          "data": {
            "text/plain": [
              "<sklearn.metrics._plot.confusion_matrix.ConfusionMatrixDisplay at 0x7f9e15a1e4a0>"
            ]
          },
          "execution_count": 79,
          "metadata": {},
          "output_type": "execute_result"
        },
        {
          "data": {
            "image/png": "[encoded data removed]",
            "text/plain": [
              "<Figure size 640x480 with 2 Axes>"
            ]
          },
          "metadata": {},
          "output_type": "display_data"
        }
      ],
      "source": [
        "clf_svm = SVC(random_state=42,C=100,\n",
        "    kernel='rbf',\n",
        "    gamma=0.01,probability=True)\n",
        "clf_svm.fit(X_train, y_train)\n",
        "y_pred = clf_svm.predict(X_test)\n",
        "conf_matrix = confusion_matrix(y_test, y_pred)\n",
        "disp = ConfusionMatrixDisplay(confusion_matrix = conf_matrix, display_labels = clf_svm.classes_)\n",
        "disp.plot()"
      ]
    },
    {
      "cell_type": "code",
      "execution_count": 80,
      "metadata": {
        "colab": {
          "base_uri": "https://localhost:8080/"
        },
        "id": "uisHE7RU93AY",
        "outputId": "f2f07d05-a3f6-47ef-a8cc-d5bae596af29"
      },
      "outputs": [
        {
          "name": "stdout",
          "output_type": "stream",
          "text": [
            "Previu 696 evadidos (1) corretamente\n",
            "Previu 188 concluintes (0) corretamente\n",
            "Previu incorretamente 118 concluintes quando eram evadidos\n",
            "Previu incorretamente 100 evadidos quando eram concluintes\n"
          ]
        }
      ],
      "source": [
        "print(f'Previu {conf_matrix[1,1]} evadidos (1) corretamente')\n",
        "print(f'Previu {conf_matrix[0,0]} concluintes (0) corretamente')\n",
        "print(f'Previu incorretamente {conf_matrix[0,1]} concluintes quando eram evadidos')\n",
        "print(f'Previu incorretamente {conf_matrix[1,0]} evadidos quando eram concluintes')"
      ]
    },
    {
      "cell_type": "code",
      "execution_count": 81,
      "metadata": {
        "colab": {
          "base_uri": "https://localhost:8080/"
        },
        "id": "tvp4yWy57oRr",
        "outputId": "d1a402c5-99cf-4208-e733-9eecce462291"
      },
      "outputs": [
        {
          "name": "stdout",
          "output_type": "stream",
          "text": [
            "              precision    recall  f1-score   support\n",
            "\n",
            "           0       0.65      0.61      0.63       306\n",
            "           1       0.86      0.87      0.86       796\n",
            "\n",
            "    accuracy                           0.80      1102\n",
            "   macro avg       0.75      0.74      0.75      1102\n",
            "weighted avg       0.80      0.80      0.80      1102\n",
            "\n"
          ]
        }
      ],
      "source": [
        "print(classification_report(y_test,y_pred))"
      ]
    },
    {
      "cell_type": "markdown",
      "metadata": {
        "id": "lNRlDJbRvzk2"
      },
      "source": [
        "# Neural Network"
      ]
    },
    {
      "cell_type": "code",
      "execution_count": 83,
      "metadata": {
        "colab": {
          "base_uri": "https://localhost:8080/"
        },
        "id": "V6GI7FxMcc6h",
        "outputId": "cb5b5ec3-0071-49f2-ac88-23257dfbc1ce"
      },
      "outputs": [
        {
          "name": "stdout",
          "output_type": "stream",
          "text": [
            "Looking in indexes: https://pypi.org/simple, https://us-python.pkg.dev/colab-wheels/public/simple/\n",
            "Collecting ann_visualizer\n",
            "  Downloading ann_visualizer-2.5.tar.gz (4.7 kB)\n",
            "  Preparing metadata (setup.py) ... \u001b[?25l\u001b[?25hdone\n",
            "Building wheels for collected packages: ann_visualizer\n",
            "  Building wheel for ann_visualizer (setup.py) ... \u001b[?25l\u001b[?25hdone\n",
            "  Created wheel for ann_visualizer: filename=ann_visualizer-2.5-py3-none-any.whl size=4167 sha256=5dc899003797195b0c28ebc285cf407e2e49272ee151eeda76bc555f0d7e11c6\n",
            "  Stored in directory: /root/.cache/pip/wheels/6e/0f/ae/f5dba91db71b1b32bf03d0ad18c32e86126093aba5ec6b6488\n",
            "Successfully built ann_visualizer\n",
            "Installing collected packages: ann_visualizer\n",
            "Successfully installed ann_visualizer-2.5\n"
          ]
        }
      ],
      "source": [
        "!pip3 install ann_visualizer"
      ]
    },
    {
      "cell_type": "markdown",
      "metadata": {
        "id": "SKlCOKvoz_j3"
      },
      "source": [
        "#### Iniciando e compilando a rede"
      ]
    },
    {
      "cell_type": "code",
      "execution_count": 84,
      "metadata": {
        "id": "WaWr-fPgHH6b"
      },
      "outputs": [],
      "source": [
        "from ann_visualizer.visualize import ann_viz\n",
        "import graphviz"
      ]
    },
    {
      "cell_type": "code",
      "execution_count": 94,
      "metadata": {
        "id": "8WCw4QuX-e-w"
      },
      "outputs": [],
      "source": [
        "rna = tf.keras.models.Sequential()\n",
        "rna.add(tf.keras.layers.Dense(units=3,activation='relu'))\n",
        "rna.add(tf.keras.layers.Dense(units=3,activation='relu'))\n",
        "rna.add(tf.keras.layers.Dense(units=1,activation='sigmoid'))\n",
        "rna.compile(optimizer='adam',loss='binary_crossentropy',metrics=['accuracy'])"
      ]
    },
    {
      "cell_type": "markdown",
      "metadata": {
        "id": "UT90f8ewwNIq"
      },
      "source": [
        "#### Treinando a Rede"
      ]
    },
    {
      "cell_type": "code",
      "execution_count": 95,
      "metadata": {
        "colab": {
          "base_uri": "https://localhost:8080/"
        },
        "id": "7mR_wtb8c_L1",
        "outputId": "bad12cdd-ade4-4836-ce5d-df3b400caa28"
      },
      "outputs": [
        {
          "data": {
            "text/plain": [
              "<keras.callbacks.History at 0x7f9e0c266410>"
            ]
          },
          "execution_count": 95,
          "metadata": {},
          "output_type": "execute_result"
        }
      ],
      "source": [
        "rna.fit(X_train,y_train,batch_size=20,epochs=10,verbose=0)"
      ]
    },
    {
      "cell_type": "markdown",
      "metadata": {
        "id": "cOApxV2C0Fal"
      },
      "source": [
        "#### Visualizando a estrutura da rede"
      ]
    },
    {
      "cell_type": "code",
      "execution_count": 87,
      "metadata": {
        "id": "Cfpa0E8sdLxG"
      },
      "outputs": [],
      "source": [
        "ann_viz(rna, view=True, title='Artifical Neural Network')"
      ]
    },
    {
      "cell_type": "code",
      "execution_count": 88,
      "metadata": {
        "colab": {
          "base_uri": "https://localhost:8080/",
          "height": 1000
        },
        "id": "92rL3CnBe44-",
        "outputId": "7449a0a8-92c9-48b2-e7d8-cb19c44dc590"
      },
      "outputs": [
        {
          "data": {
            "image/svg+xml": "<?xml version=\"1.0\" encoding=\"UTF-8\" standalone=\"no\"?>\n<!DOCTYPE svg PUBLIC \"-//W3C//DTD SVG 1.1//EN\"\n \"http://www.w3.org/Graphics/SVG/1.1/DTD/svg11.dtd\">\n<!-- Generated by graphviz version 2.43.0 (0)\n -->\n<!-- Title: g Pages: 1 -->\n<svg width=\"1050pt\" height=\"737pt\"\n viewBox=\"0.00 0.00 1050.00 736.99\" xmlns=\"http://www.w3.org/2000/svg\" xmlns:xlink=\"http://www.w3.org/1999/xlink\">\n<g id=\"graph0\" class=\"graph\" transform=\"scale(1 1) rotate(0) translate(4 732.99)\">\n<title>g</title>\n<polygon fill=\"white\" stroke=\"transparent\" points=\"-4,4 -4,-732.99 1046,-732.99 1046,4 -4,4\"/>\n<g id=\"clust1\" class=\"cluster\">\n<title>cluster_input</title>\n<polygon fill=\"none\" stroke=\"white\" points=\"8,-579.99 8,-720.99 1034,-720.99 1034,-579.99 8,-579.99\"/>\n<text text-anchor=\"middle\" x=\"521\" y=\"-705.79\" font-family=\"Times,serif\" font-size=\"14.00\">Artifical Neural Network</text>\n<text text-anchor=\"middle\" x=\"521\" y=\"-642.79\" font-family=\"Times,serif\" font-size=\"14.00\">Input Layer (+528)</text>\n</g>\n<g id=\"clust2\" class=\"cluster\">\n<title>cluster_1</title>\n<polygon fill=\"none\" stroke=\"white\" points=\"382,-396.99 382,-451.99 658,-451.99 658,-396.99 382,-396.99\"/>\n</g>\n<g id=\"clust3\" class=\"cluster\">\n<title>cluster_2</title>\n<polygon fill=\"none\" stroke=\"white\" points=\"382,-214 382,-268.99 658,-268.99 658,-214 382,-214\"/>\n</g>\n<g id=\"clust4\" class=\"cluster\">\n<title>cluster_output</title>\n<polygon fill=\"none\" stroke=\"white\" points=\"476,-8 476,-86 565,-86 565,-8 476,-8\"/>\n<text text-anchor=\"middle\" x=\"520.5\" y=\"-15.8\" font-family=\"Times,serif\" font-size=\"14.00\">Output Layer</text>\n</g>\n<!-- 1 -->\n<g id=\"node1\" class=\"node\">\n<title>1</title>\n<ellipse fill=\"#2ecc71\" stroke=\"#2ecc71\" cx=\"574\" cy=\"-607.49\" rx=\"18\" ry=\"18\"/>\n<text text-anchor=\"middle\" x=\"574\" y=\"-603.79\" font-family=\"Times,serif\" font-size=\"14.00\" fill=\"#2ecc71\">1</text>\n</g>\n<!-- 11 -->\n<g id=\"node11\" class=\"node\">\n<title>11</title>\n<ellipse fill=\"#3498db\" stroke=\"#3498db\" cx=\"409\" cy=\"-424.49\" rx=\"19.5\" ry=\"19.5\"/>\n<text text-anchor=\"middle\" x=\"409\" y=\"-420.79\" font-family=\"Times,serif\" font-size=\"14.00\" fill=\"#3498db\">11</text>\n</g>\n<!-- 1&#45;&gt;11 -->\n<g id=\"edge1\" class=\"edge\">\n<title>1&#45;&gt;11</title>\n<path fill=\"none\" stroke=\"#707070\" d=\"M562.13,-593.47C531.99,-560.4 452.64,-473.37 421.66,-439.37\"/>\n</g>\n<!-- 12 -->\n<g id=\"node12\" class=\"node\">\n<title>12</title>\n<ellipse fill=\"#3498db\" stroke=\"#3498db\" cx=\"631\" cy=\"-424.49\" rx=\"19.5\" ry=\"19.5\"/>\n<text text-anchor=\"middle\" x=\"631\" y=\"-420.79\" font-family=\"Times,serif\" font-size=\"14.00\" fill=\"#3498db\">12</text>\n</g>\n<!-- 1&#45;&gt;12 -->\n<g id=\"edge11\" class=\"edge\">\n<title>1&#45;&gt;12</title>\n<path fill=\"none\" stroke=\"#707070\" d=\"M579.16,-590.11C589.85,-556.17 614.33,-478.42 625.39,-443.3\"/>\n</g>\n<!-- 13 -->\n<g id=\"node13\" class=\"node\">\n<title>13</title>\n<ellipse fill=\"#3498db\" stroke=\"#3498db\" cx=\"520\" cy=\"-424.49\" rx=\"19.5\" ry=\"19.5\"/>\n<text text-anchor=\"middle\" x=\"520\" y=\"-420.79\" font-family=\"Times,serif\" font-size=\"14.00\" fill=\"#3498db\">13</text>\n</g>\n<!-- 1&#45;&gt;13 -->\n<g id=\"edge21\" class=\"edge\">\n<title>1&#45;&gt;13</title>\n<path fill=\"none\" stroke=\"#707070\" d=\"M569.11,-590.11C558.99,-556.17 535.79,-478.42 525.31,-443.3\"/>\n</g>\n<!-- 2 -->\n<g id=\"node2\" class=\"node\">\n<title>2</title>\n<ellipse fill=\"#2ecc71\" stroke=\"#2ecc71\" cx=\"466\" cy=\"-607.49\" rx=\"18\" ry=\"18\"/>\n<text text-anchor=\"middle\" x=\"466\" y=\"-603.79\" font-family=\"Times,serif\" font-size=\"14.00\" fill=\"#2ecc71\">2</text>\n</g>\n<!-- 2&#45;&gt;11 -->\n<g id=\"edge2\" class=\"edge\">\n<title>2&#45;&gt;11</title>\n<path fill=\"none\" stroke=\"#707070\" d=\"M460.84,-590.11C450.15,-556.17 425.67,-478.42 414.61,-443.3\"/>\n</g>\n<!-- 2&#45;&gt;12 -->\n<g id=\"edge12\" class=\"edge\">\n<title>2&#45;&gt;12</title>\n<path fill=\"none\" stroke=\"#707070\" d=\"M477.87,-593.47C508.01,-560.4 587.36,-473.37 618.34,-439.37\"/>\n</g>\n<!-- 2&#45;&gt;13 -->\n<g id=\"edge22\" class=\"edge\">\n<title>2&#45;&gt;13</title>\n<path fill=\"none\" stroke=\"#707070\" d=\"M470.89,-590.11C481.01,-556.17 504.21,-478.42 514.69,-443.3\"/>\n</g>\n<!-- 3 -->\n<g id=\"node3\" class=\"node\">\n<title>3</title>\n<ellipse fill=\"#2ecc71\" stroke=\"#2ecc71\" cx=\"358\" cy=\"-607.49\" rx=\"18\" ry=\"18\"/>\n<text text-anchor=\"middle\" x=\"358\" y=\"-603.79\" font-family=\"Times,serif\" font-size=\"14.00\" fill=\"#2ecc71\">3</text>\n</g>\n<!-- 3&#45;&gt;11 -->\n<g id=\"edge3\" class=\"edge\">\n<title>3&#45;&gt;11</title>\n<path fill=\"none\" stroke=\"#707070\" d=\"M362.71,-589.78C372.3,-555.74 394.04,-478.59 403.93,-443.49\"/>\n</g>\n<!-- 3&#45;&gt;12 -->\n<g id=\"edge13\" class=\"edge\">\n<title>3&#45;&gt;12</title>\n<path fill=\"none\" stroke=\"#707070\" d=\"M372.68,-596.76C419.64,-565.62 565.97,-468.6 614.89,-436.17\"/>\n</g>\n<!-- 3&#45;&gt;13 -->\n<g id=\"edge23\" class=\"edge\">\n<title>3&#45;&gt;13</title>\n<path fill=\"none\" stroke=\"#707070\" d=\"M369.65,-593.47C399.18,-560.48 476.77,-473.79 507.35,-439.63\"/>\n</g>\n<!-- 4 -->\n<g id=\"node4\" class=\"node\">\n<title>4</title>\n<ellipse fill=\"#2ecc71\" stroke=\"#2ecc71\" cx=\"250\" cy=\"-607.49\" rx=\"18\" ry=\"18\"/>\n<text text-anchor=\"middle\" x=\"250\" y=\"-603.79\" font-family=\"Times,serif\" font-size=\"14.00\" fill=\"#2ecc71\">4</text>\n</g>\n<!-- 4&#45;&gt;11 -->\n<g id=\"edge4\" class=\"edge\">\n<title>4&#45;&gt;11</title>\n<path fill=\"none\" stroke=\"#707070\" d=\"M261.43,-593.47C290.42,-560.48 366.57,-473.79 396.58,-439.63\"/>\n</g>\n<!-- 4&#45;&gt;12 -->\n<g id=\"edge14\" class=\"edge\">\n<title>4&#45;&gt;12</title>\n<path fill=\"none\" stroke=\"#707070\" d=\"M265.89,-598.94C327.43,-569.7 549.9,-464.02 613.75,-433.68\"/>\n</g>\n<!-- 4&#45;&gt;13 -->\n<g id=\"edge24\" class=\"edge\">\n<title>4&#45;&gt;13</title>\n<path fill=\"none\" stroke=\"#707070\" d=\"M264.52,-596.76C310.96,-565.62 455.69,-468.6 504.07,-436.17\"/>\n</g>\n<!-- 5 -->\n<g id=\"node5\" class=\"node\">\n<title>5</title>\n<ellipse fill=\"#2ecc71\" stroke=\"#2ecc71\" cx=\"142\" cy=\"-607.49\" rx=\"18\" ry=\"18\"/>\n<text text-anchor=\"middle\" x=\"142\" y=\"-603.79\" font-family=\"Times,serif\" font-size=\"14.00\" fill=\"#2ecc71\">5</text>\n</g>\n<!-- 5&#45;&gt;11 -->\n<g id=\"edge5\" class=\"edge\">\n<title>5&#45;&gt;11</title>\n<path fill=\"none\" stroke=\"#707070\" d=\"M156.74,-596.5C203.09,-565.08 345.67,-468.42 393.31,-436.13\"/>\n</g>\n<!-- 5&#45;&gt;12 -->\n<g id=\"edge15\" class=\"edge\">\n<title>5&#45;&gt;12</title>\n<path fill=\"none\" stroke=\"#707070\" d=\"M158.55,-600.36C232.87,-572.85 535.55,-460.82 612.92,-432.18\"/>\n</g>\n<!-- 5&#45;&gt;13 -->\n<g id=\"edge25\" class=\"edge\">\n<title>5&#45;&gt;13</title>\n<path fill=\"none\" stroke=\"#707070\" d=\"M158.24,-598.71C219.85,-569.21 438.87,-464.34 502.53,-433.86\"/>\n</g>\n<!-- 6 -->\n<g id=\"node6\" class=\"node\">\n<title>6</title>\n<ellipse fill=\"#2ecc71\" stroke=\"#2ecc71\" cx=\"34\" cy=\"-607.49\" rx=\"18\" ry=\"18\"/>\n<text text-anchor=\"middle\" x=\"34\" y=\"-603.79\" font-family=\"Times,serif\" font-size=\"14.00\" fill=\"#2ecc71\">6</text>\n</g>\n<!-- 6&#45;&gt;11 -->\n<g id=\"edge6\" class=\"edge\">\n<title>6&#45;&gt;11</title>\n<path fill=\"none\" stroke=\"#707070\" d=\"M50.11,-598.71C111.24,-569.21 328.51,-464.34 391.67,-433.86\"/>\n</g>\n<!-- 6&#45;&gt;12 -->\n<g id=\"edge16\" class=\"edge\">\n<title>6&#45;&gt;12</title>\n<path fill=\"none\" stroke=\"#707070\" d=\"M51.22,-601.27C137.64,-575.07 523.33,-458.13 612.54,-431.09\"/>\n</g>\n<!-- 6&#45;&gt;13 -->\n<g id=\"edge26\" class=\"edge\">\n<title>6&#45;&gt;13</title>\n<path fill=\"none\" stroke=\"#707070\" d=\"M50.73,-600.26C125.09,-572.56 425.33,-460.75 502.07,-432.17\"/>\n</g>\n<!-- 7 -->\n<g id=\"node7\" class=\"node\">\n<title>7</title>\n<ellipse fill=\"#2ecc71\" stroke=\"#2ecc71\" cx=\"1008\" cy=\"-607.49\" rx=\"18\" ry=\"18\"/>\n<text text-anchor=\"middle\" x=\"1008\" y=\"-603.79\" font-family=\"Times,serif\" font-size=\"14.00\" fill=\"#2ecc71\">7</text>\n</g>\n<!-- 7&#45;&gt;11 -->\n<g id=\"edge7\" class=\"edge\">\n<title>7&#45;&gt;11</title>\n<path fill=\"none\" stroke=\"#707070\" d=\"M991.04,-601.36C904.98,-575.36 517.25,-458.2 427.56,-431.1\"/>\n</g>\n<!-- 7&#45;&gt;12 -->\n<g id=\"edge17\" class=\"edge\">\n<title>7&#45;&gt;12</title>\n<path fill=\"none\" stroke=\"#707070\" d=\"M991.8,-598.71C930.35,-569.21 711.92,-464.34 648.43,-433.86\"/>\n</g>\n<!-- 7&#45;&gt;13 -->\n<g id=\"edge27\" class=\"edge\">\n<title>7&#45;&gt;13</title>\n<path fill=\"none\" stroke=\"#707070\" d=\"M991.2,-600.26C916.54,-572.56 615.06,-460.75 538,-432.17\"/>\n</g>\n<!-- 8 -->\n<g id=\"node8\" class=\"node\">\n<title>8</title>\n<ellipse fill=\"#2ecc71\" stroke=\"#2ecc71\" cx=\"900\" cy=\"-607.49\" rx=\"18\" ry=\"18\"/>\n<text text-anchor=\"middle\" x=\"900\" y=\"-603.79\" font-family=\"Times,serif\" font-size=\"14.00\" fill=\"#2ecc71\">8</text>\n</g>\n<!-- 8&#45;&gt;11 -->\n<g id=\"edge8\" class=\"edge\">\n<title>8&#45;&gt;11</title>\n<path fill=\"none\" stroke=\"#707070\" d=\"M883.38,-600.36C808.75,-572.85 504.84,-460.82 427.15,-432.18\"/>\n</g>\n<!-- 8&#45;&gt;12 -->\n<g id=\"edge18\" class=\"edge\">\n<title>8&#45;&gt;12</title>\n<path fill=\"none\" stroke=\"#707070\" d=\"M885.54,-596.76C839.27,-565.62 695.07,-468.6 646.87,-436.17\"/>\n</g>\n<!-- 8&#45;&gt;13 -->\n<g id=\"edge28\" class=\"edge\">\n<title>8&#45;&gt;13</title>\n<path fill=\"none\" stroke=\"#707070\" d=\"M884.16,-598.94C822.77,-569.7 600.89,-464.02 537.2,-433.68\"/>\n</g>\n<!-- 9 -->\n<g id=\"node9\" class=\"node\">\n<title>9</title>\n<ellipse fill=\"#2ecc71\" stroke=\"#2ecc71\" cx=\"792\" cy=\"-607.49\" rx=\"18\" ry=\"18\"/>\n<text text-anchor=\"middle\" x=\"792\" y=\"-603.79\" font-family=\"Times,serif\" font-size=\"14.00\" fill=\"#2ecc71\">9</text>\n</g>\n<!-- 9&#45;&gt;11 -->\n<g id=\"edge9\" class=\"edge\">\n<title>9&#45;&gt;11</title>\n<path fill=\"none\" stroke=\"#707070\" d=\"M776.03,-598.94C714.16,-569.7 490.53,-464.02 426.34,-433.68\"/>\n</g>\n<!-- 9&#45;&gt;12 -->\n<g id=\"edge19\" class=\"edge\">\n<title>9&#45;&gt;12</title>\n<path fill=\"none\" stroke=\"#707070\" d=\"M780.42,-593.47C751.08,-560.48 673.97,-473.79 643.57,-439.63\"/>\n</g>\n<!-- 9&#45;&gt;13 -->\n<g id=\"edge29\" class=\"edge\">\n<title>9&#45;&gt;13</title>\n<path fill=\"none\" stroke=\"#707070\" d=\"M777.38,-596.76C730.59,-565.62 584.79,-468.6 536.05,-436.17\"/>\n</g>\n<!-- 10 -->\n<g id=\"node10\" class=\"node\">\n<title>10</title>\n<ellipse fill=\"#2ecc71\" stroke=\"#2ecc71\" cx=\"683\" cy=\"-607.49\" rx=\"19.5\" ry=\"19.5\"/>\n<text text-anchor=\"middle\" x=\"683\" y=\"-603.79\" font-family=\"Times,serif\" font-size=\"14.00\" fill=\"#2ecc71\">10</text>\n</g>\n<!-- 10&#45;&gt;11 -->\n<g id=\"edge10\" class=\"edge\">\n<title>10&#45;&gt;11</title>\n<path fill=\"none\" stroke=\"#707070\" d=\"M667.08,-595.97C618.66,-563.98 473.45,-468.06 424.96,-436.03\"/>\n</g>\n<!-- 10&#45;&gt;12 -->\n<g id=\"edge20\" class=\"edge\">\n<title>10&#45;&gt;12</title>\n<path fill=\"none\" stroke=\"#707070\" d=\"M677.82,-588.47C667.86,-553.78 646.11,-478.07 636.16,-443.43\"/>\n</g>\n<!-- 10&#45;&gt;13 -->\n<g id=\"edge30\" class=\"edge\">\n<title>10&#45;&gt;13</title>\n<path fill=\"none\" stroke=\"#707070\" d=\"M670.21,-592.29C639.74,-558.45 563.14,-473.4 532.73,-439.63\"/>\n</g>\n<!-- 14 -->\n<g id=\"node14\" class=\"node\">\n<title>14</title>\n<ellipse fill=\"#3498db\" stroke=\"#3498db\" cx=\"409\" cy=\"-241.49\" rx=\"19.5\" ry=\"19.5\"/>\n<text text-anchor=\"middle\" x=\"409\" y=\"-237.79\" font-family=\"Times,serif\" font-size=\"14.00\" fill=\"#3498db\">14</text>\n</g>\n<!-- 11&#45;&gt;14 -->\n<g id=\"edge31\" class=\"edge\">\n<title>11&#45;&gt;14</title>\n<path fill=\"none\" stroke=\"#707070\" d=\"M409,-404.8C409,-370.03 409,-295.78 409,-261.08\"/>\n</g>\n<!-- 15 -->\n<g id=\"node15\" class=\"node\">\n<title>15</title>\n<ellipse fill=\"#3498db\" stroke=\"#3498db\" cx=\"631\" cy=\"-241.49\" rx=\"19.5\" ry=\"19.5\"/>\n<text text-anchor=\"middle\" x=\"631\" y=\"-237.79\" font-family=\"Times,serif\" font-size=\"14.00\" fill=\"#3498db\">15</text>\n</g>\n<!-- 11&#45;&gt;15 -->\n<g id=\"edge34\" class=\"edge\">\n<title>11&#45;&gt;15</title>\n<path fill=\"none\" stroke=\"#707070\" d=\"M423.91,-411.33C464.35,-378.36 575.79,-287.51 616.15,-254.6\"/>\n</g>\n<!-- 16 -->\n<g id=\"node16\" class=\"node\">\n<title>16</title>\n<ellipse fill=\"#3498db\" stroke=\"#3498db\" cx=\"520\" cy=\"-241.49\" rx=\"19.5\" ry=\"19.5\"/>\n<text text-anchor=\"middle\" x=\"520\" y=\"-237.79\" font-family=\"Times,serif\" font-size=\"14.00\" fill=\"#3498db\">16</text>\n</g>\n<!-- 11&#45;&gt;16 -->\n<g id=\"edge37\" class=\"edge\">\n<title>11&#45;&gt;16</title>\n<path fill=\"none\" stroke=\"#707070\" d=\"M418.85,-407.43C439.91,-373.08 489.13,-292.84 510.17,-258.52\"/>\n</g>\n<!-- 12&#45;&gt;14 -->\n<g id=\"edge32\" class=\"edge\">\n<title>12&#45;&gt;14</title>\n<path fill=\"none\" stroke=\"#707070\" d=\"M616.09,-411.33C575.65,-378.36 464.21,-287.51 423.85,-254.6\"/>\n</g>\n<!-- 12&#45;&gt;15 -->\n<g id=\"edge35\" class=\"edge\">\n<title>12&#45;&gt;15</title>\n<path fill=\"none\" stroke=\"#707070\" d=\"M631,-404.8C631,-370.03 631,-295.78 631,-261.08\"/>\n</g>\n<!-- 12&#45;&gt;16 -->\n<g id=\"edge38\" class=\"edge\">\n<title>12&#45;&gt;16</title>\n<path fill=\"none\" stroke=\"#707070\" d=\"M621.15,-407.43C600.09,-373.08 550.87,-292.84 529.83,-258.52\"/>\n</g>\n<!-- 13&#45;&gt;14 -->\n<g id=\"edge33\" class=\"edge\">\n<title>13&#45;&gt;14</title>\n<path fill=\"none\" stroke=\"#707070\" d=\"M510.15,-407.43C489.09,-373.08 439.87,-292.84 418.83,-258.52\"/>\n</g>\n<!-- 13&#45;&gt;15 -->\n<g id=\"edge36\" class=\"edge\">\n<title>13&#45;&gt;15</title>\n<path fill=\"none\" stroke=\"#707070\" d=\"M529.85,-407.43C550.91,-373.08 600.13,-292.84 621.17,-258.52\"/>\n</g>\n<!-- 13&#45;&gt;16 -->\n<g id=\"edge39\" class=\"edge\">\n<title>13&#45;&gt;16</title>\n<path fill=\"none\" stroke=\"#707070\" d=\"M520,-404.8C520,-370.03 520,-295.78 520,-261.08\"/>\n</g>\n<!-- 17 -->\n<g id=\"node17\" class=\"node\">\n<title>17</title>\n<ellipse fill=\"#e74c3c\" stroke=\"#e74c3c\" cx=\"520\" cy=\"-58.5\" rx=\"19.5\" ry=\"19.5\"/>\n<text text-anchor=\"middle\" x=\"520\" y=\"-54.8\" font-family=\"Times,serif\" font-size=\"14.00\" fill=\"#e74c3c\">17</text>\n</g>\n<!-- 14&#45;&gt;17 -->\n<g id=\"edge40\" class=\"edge\">\n<title>14&#45;&gt;17</title>\n<path fill=\"none\" stroke=\"#707070\" d=\"M418.85,-224.43C439.91,-190.09 489.13,-109.84 510.17,-75.52\"/>\n</g>\n<!-- 15&#45;&gt;17 -->\n<g id=\"edge41\" class=\"edge\">\n<title>15&#45;&gt;17</title>\n<path fill=\"none\" stroke=\"#707070\" d=\"M621.15,-224.43C600.09,-190.09 550.87,-109.84 529.83,-75.52\"/>\n</g>\n<!-- 16&#45;&gt;17 -->\n<g id=\"edge42\" class=\"edge\">\n<title>16&#45;&gt;17</title>\n<path fill=\"none\" stroke=\"#707070\" d=\"M520,-221.81C520,-187.03 520,-112.78 520,-78.08\"/>\n</g>\n</g>\n</svg>\n",
            "text/plain": [
              "<graphviz.sources.Source at 0x7f9e0ce49db0>"
            ]
          },
          "execution_count": 88,
          "metadata": {},
          "output_type": "execute_result"
        }
      ],
      "source": [
        "graph_file = graphviz.Source.from_file('network.gv')\n",
        "graph_file"
      ]
    },
    {
      "cell_type": "markdown",
      "metadata": {
        "id": "UW-8xWSXwYPz"
      },
      "source": [
        "#### Analisando os resultados da rede neural"
      ]
    },
    {
      "cell_type": "code",
      "execution_count": 96,
      "metadata": {
        "colab": {
          "base_uri": "https://localhost:8080/"
        },
        "id": "uWU_-D2WdkNy",
        "outputId": "833ce2ae-836e-420d-b5aa-9c1fc7d403f3"
      },
      "outputs": [
        {
          "name": "stdout",
          "output_type": "stream",
          "text": [
            "35/35 [==============================] - 0s 1ms/step\n",
            "[[ True]\n",
            " [ True]\n",
            " [ True]\n",
            " ...\n",
            " [False]\n",
            " [ True]\n",
            " [False]]\n"
          ]
        }
      ],
      "source": [
        "y_pred = rna.predict(X_test)\n",
        "# pegando os valores preditos acima de 50%\n",
        "y_pred = (y_pred>0.5)\n",
        "print(y_pred)"
      ]
    },
    {
      "cell_type": "code",
      "execution_count": 97,
      "metadata": {
        "colab": {
          "base_uri": "https://localhost:8080/"
        },
        "id": "fYXz4b_DdvEj",
        "outputId": "fdc73a0f-829d-4736-f326-37033107714d"
      },
      "outputs": [
        {
          "name": "stdout",
          "output_type": "stream",
          "text": [
            "[[194 112]\n",
            " [124 672]]\n"
          ]
        }
      ],
      "source": [
        "cm = confusion_matrix(y_test,y_pred)\n",
        "print(cm)"
      ]
    },
    {
      "cell_type": "code",
      "execution_count": 98,
      "metadata": {
        "colab": {
          "base_uri": "https://localhost:8080/"
        },
        "id": "_i301xpN1Oq9",
        "outputId": "781051b4-ba2f-4d4c-e07c-9387de25f77c"
      },
      "outputs": [
        {
          "name": "stdout",
          "output_type": "stream",
          "text": [
            "Precisão: 0.86\n",
            "F1 Score: 0.85\n",
            "Recall Score: 0.84\n",
            "              precision    recall  f1-score   support\n",
            "\n",
            "           0       0.61      0.63      0.62       306\n",
            "           1       0.86      0.84      0.85       796\n",
            "\n",
            "    accuracy                           0.79      1102\n",
            "   macro avg       0.73      0.74      0.74      1102\n",
            "weighted avg       0.79      0.79      0.79      1102\n",
            "\n"
          ]
        }
      ],
      "source": [
        "print('Precisão: %.2f' % precision_score(y_test, y_pred))\n",
        "print('F1 Score: %.2f' % f1_score(y_test, y_pred))\n",
        "print('Recall Score: %.2f' % recall_score(y_test, y_pred))\n",
        "print(classification_report(y_test,y_pred))\n"
      ]
    },
    {
      "cell_type": "markdown",
      "metadata": {
        "id": "nTa5c5EDxdaa"
      },
      "source": [
        "Na matriz de confusão da rede neural nós temos os valores reais no eixo y e os valores preditos no eixo x.\n",
        "\n",
        "Pela base de dados sabemos que 0 é concluinte e 1 é evadido. Sendo assim, o modelo classificou:"
      ]
    },
    {
      "cell_type": "code",
      "execution_count": 99,
      "metadata": {
        "colab": {
          "base_uri": "https://localhost:8080/",
          "height": 622
        },
        "id": "ZkvPpY_8ZSfr",
        "outputId": "e70b1e32-1e18-405e-e605-c0d227513499"
      },
      "outputs": [
        {
          "data": {
            "image/png": "[encoded data removed]",
            "text/plain": [
              "<Figure size 650x650 with 1 Axes>"
            ]
          },
          "metadata": {},
          "output_type": "display_data"
        }
      ],
      "source": [
        "fig, ax = plt.subplots(figsize=(6.5, 6.5))\n",
        "ax.matshow(cm, cmap='viridis', alpha=0.5)\n",
        "for i in range(cm.shape[0]):\n",
        "    for j in range(cm.shape[1]):\n",
        "        ax.text(x=j, y=i,s=cm[i, j], va='center', ha='center', size='xx-large')\n",
        " \n",
        "plt.xlabel('Predições', fontsize=18)\n",
        "plt.ylabel('Valores Reais', fontsize=18)\n",
        "plt.title('Matriz de Confusão RNA', fontsize=18)\n",
        "plt.show()\n"
      ]
    },
    {
      "cell_type": "code",
      "execution_count": 100,
      "metadata": {
        "colab": {
          "base_uri": "https://localhost:8080/"
        },
        "id": "QyhgfJEggsgr",
        "outputId": "261bda98-0bf5-4274-a6dc-d7802879540a"
      },
      "outputs": [
        {
          "name": "stdout",
          "output_type": "stream",
          "text": [
            "Previu 672 evadidos (1) corretamente\n",
            "Previu 194 concluintes (0) corretamente\n",
            "Previu incorretamente 112 concluintes quando eram evadidos\n",
            "Previu incorretamente 124 evadidos quando eram concluintes\n"
          ]
        }
      ],
      "source": [
        "print(f'Previu {cm[1,1]} evadidos (1) corretamente')\n",
        "print(f'Previu {cm[0,0]} concluintes (0) corretamente')\n",
        "print(f'Previu incorretamente {cm[0,1]} concluintes quando eram evadidos')\n",
        "print(f'Previu incorretamente {cm[1,0]} evadidos quando eram concluintes')"
      ]
    },
    {
      "cell_type": "markdown",
      "metadata": {
        "id": "mBCgvOdI0SU3"
      },
      "source": [
        "#### SVM x Logistic Regression x Rede neural"
      ]
    },
    {
      "cell_type": "code",
      "execution_count": 101,
      "metadata": {
        "colab": {
          "base_uri": "https://localhost:8080/",
          "height": 447
        },
        "id": "nx6u0HRxkHsy",
        "outputId": "a52e8ab4-d8e1-45ef-e8ed-6ac8d90a3e86"
      },
      "outputs": [
        {
          "name": "stdout",
          "output_type": "stream",
          "text": [
            "35/35 [==============================] - 0s 2ms/step\n"
          ]
        },
        {
          "data": {
            "image/png": "[encoded data removed]",
            "text/plain": [
              "<Figure size 640x480 with 1 Axes>"
            ]
          },
          "metadata": {},
          "output_type": "display_data"
        }
      ],
      "source": [
        "y_pred_probability = rna.predict(X_test)\n",
        "fpr, tpr, _ = metrics.roc_curve(y_test,  y_pred_probability)\n",
        "auc = metrics.roc_auc_score(y_test, y_pred_probability)\n",
        "plt.plot(fpr,tpr,label=\"RNA, auc=\"+str(auc))\n",
        "\n",
        "y_pred_probability = logistic_regression.predict_proba(X_test)[::,1]\n",
        "fpr, tpr, _ = metrics.roc_curve(y_test,  y_pred_probability)\n",
        "auc = metrics.roc_auc_score(y_test, y_pred_probability)\n",
        "plt.plot(fpr,tpr,label=\"LogisticRegression, auc=\"+str(auc))\n",
        "\n",
        "y_pred_probability = clf_svm.predict_proba(X_test)[::,1]\n",
        "fpr, tpr, _ = metrics.roc_curve(y_test,  y_pred_probability)\n",
        "auc = metrics.roc_auc_score(y_test, y_pred_probability)\n",
        "plt.plot(fpr,tpr,label=\"SVM, auc=\"+str(auc))\n",
        "\n",
        "plt.legend(loc=4)\n",
        "plt.show()"
      ]
    },
    {
      "cell_type": "markdown",
      "metadata": {
        "id": "R-gmzSRF46Nl"
      },
      "source": [
        "## Conclusões"
      ]
    },
    {
      "cell_type": "markdown",
      "metadata": {
        "id": "VPMR-LCt0aZG"
      },
      "source": [
        "A regressão e logística e as redes neurais tiveram desempenhos quase iguais, então qualquer um dos modelos pode ser escolhido como o melhor.\n",
        "\n",
        "Então nosso modelo final é o LogisticRegression."
      ]
    },
    {
      "cell_type": "markdown",
      "metadata": {
        "id": "EnEC6e4j4_VL"
      },
      "source": [
        "#### Salvando o modelo"
      ]
    },
    {
      "cell_type": "code",
      "execution_count": 105,
      "metadata": {
        "id": "n-3y5cJ_2B0Q"
      },
      "outputs": [],
      "source": [
        "import pickle\n",
        "\n",
        "with open ('logistic_model.pkl','wb') as f:\n",
        "  pickle.dump([enc, sc, le, logistic_regression], f)"
      ]
    }
  ],
  "metadata": {
    "colab": {
      "provenance": []
    },
    "kernelspec": {
      "display_name": "Python 3",
      "language": "python",
      "name": "python3"
    },
    "language_info": {
      "name": "python",
      "version": "3.10.9 (main, Dec  7 2022, 01:12:00) [GCC 9.4.0]"
    },
    "vscode": {
      "interpreter": {
        "hash": "8a94588eda9d64d9e9a351ab8144e55b1fabf5113b54e67dd26a8c27df0381b3"
      }
    }
  },
  "nbformat": 4,
  "nbformat_minor": 0
}

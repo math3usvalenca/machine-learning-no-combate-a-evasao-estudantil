{
 "cells": [
  {
   "cell_type": "code",
   "execution_count": 6,
   "metadata": {
    "id": "6mEK7E56bn_U"
   },
   "outputs": [],
   "source": [
    "import pandas as pd\n",
    "\n",
    "import numpy as np\n",
    "import matplotlib.pyplot as plt \n",
    "\n",
    "\n",
    "from sklearn.tree import DecisionTreeClassifier\n",
    "from sklearn.tree import plot_tree\n",
    "from sklearn.neighbors import KNeighborsClassifier\n",
    "from sklearn import tree\n",
    "from sklearn.ensemble import RandomForestClassifier\n",
    "from sklearn.linear_model import LogisticRegression\n",
    "from sklearn.svm import SVC\n",
    "\n",
    "from sklearn.model_selection import train_test_split\n",
    "from sklearn.model_selection import RandomizedSearchCV, cross_val_score\n",
    "from sklearn.preprocessing import OneHotEncoder\n",
    "\n",
    "from scipy import stats\n",
    "from sklearn import model_selection\n",
    "from sklearn import metrics\n",
    "from sklearn.metrics import accuracy_score,  precision_score, f1_score, recall_score,classification_report\n",
    "\n",
    "from sklearn.metrics import confusion_matrix\n",
    "from sklearn.metrics import ConfusionMatrixDisplay\n",
    "\n",
    "\n",
    "import warnings\n",
    "warnings.filterwarnings(\"ignore\")"
   ]
  },
  {
   "cell_type": "markdown",
   "metadata": {
    "id": "QzEWIp4C3jaT"
   },
   "source": [
    "# Pré-processamento dos dados\n",
    "\n",
    "\n",
    "\n",
    "\n"
   ]
  },
  {
   "cell_type": "markdown",
   "metadata": {
    "id": "9ejheQrb4Xd9"
   },
   "source": [
    "Lendo a base de dados e dispensando as colunas desnecessárias."
   ]
  },
  {
   "cell_type": "code",
   "execution_count": 3,
   "metadata": {
    "colab": {
     "base_uri": "https://localhost:8080/",
     "height": 250
    },
    "id": "0iqe9CT4jmmu",
    "outputId": "9d1652dc-a1ca-4525-e5bc-4dfddc6f62e4"
   },
   "outputs": [
    {
     "data": {
      "text/html": [
       "<div>\n",
       "<style scoped>\n",
       "    .dataframe tbody tr th:only-of-type {\n",
       "        vertical-align: middle;\n",
       "    }\n",
       "\n",
       "    .dataframe tbody tr th {\n",
       "        vertical-align: top;\n",
       "    }\n",
       "\n",
       "    .dataframe thead th {\n",
       "        text-align: right;\n",
       "    }\n",
       "</style>\n",
       "<table border=\"1\" class=\"dataframe\">\n",
       "  <thead>\n",
       "    <tr style=\"text-align: right;\">\n",
       "      <th></th>\n",
       "      <th>nome_do_curso</th>\n",
       "      <th>carga_horaria_do_curso</th>\n",
       "      <th>eixo_tecnologico</th>\n",
       "      <th>fator_de_esforco_de_curso</th>\n",
       "      <th>tipo_de_curso</th>\n",
       "      <th>turno</th>\n",
       "      <th>codigo_sistec</th>\n",
       "      <th>categoria_de_situacao</th>\n",
       "      <th>data_de_inicio_do_ciclo</th>\n",
       "      <th>data_de_fim_previsto_do_ciclo</th>\n",
       "      <th>vagas_ofertadas</th>\n",
       "      <th>mes_de_ocorrencia_da_situacao</th>\n",
       "      <th>renda</th>\n",
       "      <th>sexo</th>\n",
       "      <th>faixa_etaria</th>\n",
       "      <th>idade</th>\n",
       "      <th>cor</th>\n",
       "      <th>unidade_de_ensino</th>\n",
       "    </tr>\n",
       "  </thead>\n",
       "  <tbody>\n",
       "    <tr>\n",
       "      <th>0</th>\n",
       "      <td>engenharia mecanica</td>\n",
       "      <td>4147</td>\n",
       "      <td>controle e processos industriais</td>\n",
       "      <td>1.07</td>\n",
       "      <td>bacharelado</td>\n",
       "      <td>integral</td>\n",
       "      <td>2809</td>\n",
       "      <td>E</td>\n",
       "      <td>26/08/2019</td>\n",
       "      <td>26/08/2024</td>\n",
       "      <td>41.0</td>\n",
       "      <td>01/01/2021</td>\n",
       "      <td>0,5&lt;RFP&lt;=1,0</td>\n",
       "      <td>F</td>\n",
       "      <td>20-24</td>\n",
       "      <td>24</td>\n",
       "      <td>parda</td>\n",
       "      <td>Campus João Pessoa</td>\n",
       "    </tr>\n",
       "    <tr>\n",
       "      <th>1</th>\n",
       "      <td>engenharia mecanica</td>\n",
       "      <td>4147</td>\n",
       "      <td>controle e processos industriais</td>\n",
       "      <td>1.07</td>\n",
       "      <td>bacharelado</td>\n",
       "      <td>integral</td>\n",
       "      <td>2809</td>\n",
       "      <td>E</td>\n",
       "      <td>26/08/2019</td>\n",
       "      <td>26/08/2024</td>\n",
       "      <td>41.0</td>\n",
       "      <td>01/01/2021</td>\n",
       "      <td>0,5&lt;RFP&lt;=1,0</td>\n",
       "      <td>M</td>\n",
       "      <td>20-24</td>\n",
       "      <td>23</td>\n",
       "      <td>branca</td>\n",
       "      <td>Campus João Pessoa</td>\n",
       "    </tr>\n",
       "    <tr>\n",
       "      <th>2</th>\n",
       "      <td>engenharia mecanica</td>\n",
       "      <td>4147</td>\n",
       "      <td>controle e processos industriais</td>\n",
       "      <td>1.07</td>\n",
       "      <td>bacharelado</td>\n",
       "      <td>integral</td>\n",
       "      <td>2809</td>\n",
       "      <td>E</td>\n",
       "      <td>26/08/2019</td>\n",
       "      <td>26/08/2024</td>\n",
       "      <td>41.0</td>\n",
       "      <td>01/01/2021</td>\n",
       "      <td>RFP&gt;3,5</td>\n",
       "      <td>M</td>\n",
       "      <td>20-24</td>\n",
       "      <td>21</td>\n",
       "      <td>parda</td>\n",
       "      <td>Campus João Pessoa</td>\n",
       "    </tr>\n",
       "    <tr>\n",
       "      <th>3</th>\n",
       "      <td>engenharia mecanica</td>\n",
       "      <td>4147</td>\n",
       "      <td>controle e processos industriais</td>\n",
       "      <td>1.07</td>\n",
       "      <td>bacharelado</td>\n",
       "      <td>integral</td>\n",
       "      <td>2809</td>\n",
       "      <td>E</td>\n",
       "      <td>26/08/2019</td>\n",
       "      <td>26/08/2024</td>\n",
       "      <td>41.0</td>\n",
       "      <td>01/01/2021</td>\n",
       "      <td>0&lt;RFP&lt;=0,5</td>\n",
       "      <td>M</td>\n",
       "      <td>15-19</td>\n",
       "      <td>19</td>\n",
       "      <td>branca</td>\n",
       "      <td>Campus João Pessoa</td>\n",
       "    </tr>\n",
       "    <tr>\n",
       "      <th>4</th>\n",
       "      <td>engenharia mecanica</td>\n",
       "      <td>4147</td>\n",
       "      <td>controle e processos industriais</td>\n",
       "      <td>1.07</td>\n",
       "      <td>bacharelado</td>\n",
       "      <td>integral</td>\n",
       "      <td>2809</td>\n",
       "      <td>E</td>\n",
       "      <td>26/08/2019</td>\n",
       "      <td>26/08/2024</td>\n",
       "      <td>41.0</td>\n",
       "      <td>01/01/2021</td>\n",
       "      <td>0&lt;RFP&lt;=0,5</td>\n",
       "      <td>M</td>\n",
       "      <td>15-19</td>\n",
       "      <td>19</td>\n",
       "      <td>branca</td>\n",
       "      <td>Campus João Pessoa</td>\n",
       "    </tr>\n",
       "  </tbody>\n",
       "</table>\n",
       "</div>"
      ],
      "text/plain": [
       "         nome_do_curso  carga_horaria_do_curso  \\\n",
       "0  engenharia mecanica                    4147   \n",
       "1  engenharia mecanica                    4147   \n",
       "2  engenharia mecanica                    4147   \n",
       "3  engenharia mecanica                    4147   \n",
       "4  engenharia mecanica                    4147   \n",
       "\n",
       "                   eixo_tecnologico  fator_de_esforco_de_curso tipo_de_curso  \\\n",
       "0  controle e processos industriais                       1.07   bacharelado   \n",
       "1  controle e processos industriais                       1.07   bacharelado   \n",
       "2  controle e processos industriais                       1.07   bacharelado   \n",
       "3  controle e processos industriais                       1.07   bacharelado   \n",
       "4  controle e processos industriais                       1.07   bacharelado   \n",
       "\n",
       "      turno  codigo_sistec categoria_de_situacao data_de_inicio_do_ciclo  \\\n",
       "0  integral           2809                     E              26/08/2019   \n",
       "1  integral           2809                     E              26/08/2019   \n",
       "2  integral           2809                     E              26/08/2019   \n",
       "3  integral           2809                     E              26/08/2019   \n",
       "4  integral           2809                     E              26/08/2019   \n",
       "\n",
       "  data_de_fim_previsto_do_ciclo  vagas_ofertadas  \\\n",
       "0                    26/08/2024             41.0   \n",
       "1                    26/08/2024             41.0   \n",
       "2                    26/08/2024             41.0   \n",
       "3                    26/08/2024             41.0   \n",
       "4                    26/08/2024             41.0   \n",
       "\n",
       "  mes_de_ocorrencia_da_situacao         renda sexo faixa_etaria  idade  \\\n",
       "0                    01/01/2021  0,5<RFP<=1,0    F        20-24     24   \n",
       "1                    01/01/2021  0,5<RFP<=1,0    M        20-24     23   \n",
       "2                    01/01/2021       RFP>3,5    M        20-24     21   \n",
       "3                    01/01/2021    0<RFP<=0,5    M        15-19     19   \n",
       "4                    01/01/2021    0<RFP<=0,5    M        15-19     19   \n",
       "\n",
       "         cor   unidade_de_ensino  \n",
       "0  parda      Campus João Pessoa  \n",
       "1  branca     Campus João Pessoa  \n",
       "2  parda      Campus João Pessoa  \n",
       "3  branca     Campus João Pessoa  \n",
       "4  branca     Campus João Pessoa  "
      ]
     },
     "execution_count": 3,
     "metadata": {},
     "output_type": "execute_result"
    }
   ],
   "source": [
    "data = pd.read_csv('student_data.csv',sep=',', usecols = lambda column:column not in ['cod_curso','codigo_da_matricula','codigo_do_ciclo_matricula'])\n",
    "data.head()"
   ]
  },
  {
   "cell_type": "markdown",
   "metadata": {
    "id": "sK9stzk54m-S"
   },
   "source": [
    "Separando os dados. \n",
    "\n",
    "\n",
    "*   X = features de cada aluno na base\n",
    "*   y = variável preditora (coluna **categoria_de_situacao**)\n",
    "\n"
   ]
  },
  {
   "cell_type": "code",
   "execution_count": 4,
   "metadata": {
    "colab": {
     "base_uri": "https://localhost:8080/",
     "height": 143
    },
    "id": "N4SKZ7gWHWxE",
    "outputId": "36d8abc5-96a8-4fdf-af58-22aa876bc43c"
   },
   "outputs": [
    {
     "data": {
      "text/html": [
       "<div>\n",
       "<style scoped>\n",
       "    .dataframe tbody tr th:only-of-type {\n",
       "        vertical-align: middle;\n",
       "    }\n",
       "\n",
       "    .dataframe tbody tr th {\n",
       "        vertical-align: top;\n",
       "    }\n",
       "\n",
       "    .dataframe thead th {\n",
       "        text-align: right;\n",
       "    }\n",
       "</style>\n",
       "<table border=\"1\" class=\"dataframe\">\n",
       "  <thead>\n",
       "    <tr style=\"text-align: right;\">\n",
       "      <th></th>\n",
       "      <th>nome_do_curso</th>\n",
       "      <th>carga_horaria_do_curso</th>\n",
       "      <th>eixo_tecnologico</th>\n",
       "      <th>fator_de_esforco_de_curso</th>\n",
       "      <th>tipo_de_curso</th>\n",
       "      <th>turno</th>\n",
       "      <th>data_de_inicio_do_ciclo</th>\n",
       "      <th>data_de_fim_previsto_do_ciclo</th>\n",
       "      <th>renda</th>\n",
       "      <th>sexo</th>\n",
       "      <th>idade</th>\n",
       "      <th>unidade_de_ensino</th>\n",
       "      <th>mes_de_ocorrencia_da_situacao</th>\n",
       "      <th>faixa_etaria</th>\n",
       "      <th>cor</th>\n",
       "    </tr>\n",
       "  </thead>\n",
       "  <tbody>\n",
       "    <tr>\n",
       "      <th>0</th>\n",
       "      <td>engenharia mecanica</td>\n",
       "      <td>4147</td>\n",
       "      <td>controle e processos industriais</td>\n",
       "      <td>1.07</td>\n",
       "      <td>bacharelado</td>\n",
       "      <td>integral</td>\n",
       "      <td>26/08/2019</td>\n",
       "      <td>26/08/2024</td>\n",
       "      <td>0,5&lt;RFP&lt;=1,0</td>\n",
       "      <td>F</td>\n",
       "      <td>24</td>\n",
       "      <td>Campus João Pessoa</td>\n",
       "      <td>01/01/2021</td>\n",
       "      <td>20-24</td>\n",
       "      <td>parda</td>\n",
       "    </tr>\n",
       "    <tr>\n",
       "      <th>1</th>\n",
       "      <td>engenharia mecanica</td>\n",
       "      <td>4147</td>\n",
       "      <td>controle e processos industriais</td>\n",
       "      <td>1.07</td>\n",
       "      <td>bacharelado</td>\n",
       "      <td>integral</td>\n",
       "      <td>26/08/2019</td>\n",
       "      <td>26/08/2024</td>\n",
       "      <td>0,5&lt;RFP&lt;=1,0</td>\n",
       "      <td>M</td>\n",
       "      <td>23</td>\n",
       "      <td>Campus João Pessoa</td>\n",
       "      <td>01/01/2021</td>\n",
       "      <td>20-24</td>\n",
       "      <td>branca</td>\n",
       "    </tr>\n",
       "    <tr>\n",
       "      <th>2</th>\n",
       "      <td>engenharia mecanica</td>\n",
       "      <td>4147</td>\n",
       "      <td>controle e processos industriais</td>\n",
       "      <td>1.07</td>\n",
       "      <td>bacharelado</td>\n",
       "      <td>integral</td>\n",
       "      <td>26/08/2019</td>\n",
       "      <td>26/08/2024</td>\n",
       "      <td>RFP&gt;3,5</td>\n",
       "      <td>M</td>\n",
       "      <td>21</td>\n",
       "      <td>Campus João Pessoa</td>\n",
       "      <td>01/01/2021</td>\n",
       "      <td>20-24</td>\n",
       "      <td>parda</td>\n",
       "    </tr>\n",
       "  </tbody>\n",
       "</table>\n",
       "</div>"
      ],
      "text/plain": [
       "         nome_do_curso  carga_horaria_do_curso  \\\n",
       "0  engenharia mecanica                    4147   \n",
       "1  engenharia mecanica                    4147   \n",
       "2  engenharia mecanica                    4147   \n",
       "\n",
       "                   eixo_tecnologico  fator_de_esforco_de_curso tipo_de_curso  \\\n",
       "0  controle e processos industriais                       1.07   bacharelado   \n",
       "1  controle e processos industriais                       1.07   bacharelado   \n",
       "2  controle e processos industriais                       1.07   bacharelado   \n",
       "\n",
       "      turno data_de_inicio_do_ciclo data_de_fim_previsto_do_ciclo  \\\n",
       "0  integral              26/08/2019                    26/08/2024   \n",
       "1  integral              26/08/2019                    26/08/2024   \n",
       "2  integral              26/08/2019                    26/08/2024   \n",
       "\n",
       "          renda sexo  idade   unidade_de_ensino mes_de_ocorrencia_da_situacao  \\\n",
       "0  0,5<RFP<=1,0    F     24  Campus João Pessoa                    01/01/2021   \n",
       "1  0,5<RFP<=1,0    M     23  Campus João Pessoa                    01/01/2021   \n",
       "2       RFP>3,5    M     21  Campus João Pessoa                    01/01/2021   \n",
       "\n",
       "  faixa_etaria        cor  \n",
       "0        20-24  parda      \n",
       "1        20-24  branca     \n",
       "2        20-24  parda      "
      ]
     },
     "execution_count": 4,
     "metadata": {},
     "output_type": "execute_result"
    }
   ],
   "source": [
    "X = data.loc[:,['nome_do_curso',\n",
    " 'carga_horaria_do_curso',\n",
    " 'eixo_tecnologico',\n",
    " 'fator_de_esforco_de_curso',\n",
    " 'tipo_de_curso',\n",
    " 'turno',\n",
    " 'data_de_inicio_do_ciclo',\n",
    " 'data_de_fim_previsto_do_ciclo',\n",
    " 'renda',\n",
    " 'sexo',\n",
    " 'idade',\n",
    " 'unidade_de_ensino',\n",
    " 'mes_de_ocorrencia_da_situacao',\n",
    " 'faixa_etaria',\n",
    " 'cor']]\n",
    "X.head(3)"
   ]
  },
  {
   "cell_type": "code",
   "execution_count": 5,
   "metadata": {
    "colab": {
     "base_uri": "https://localhost:8080/",
     "height": 143
    },
    "id": "O_MQqyLtJ9EN",
    "outputId": "f70ab89a-a3f1-4f95-df30-3922a7cb1b7e"
   },
   "outputs": [
    {
     "data": {
      "text/html": [
       "<div>\n",
       "<style scoped>\n",
       "    .dataframe tbody tr th:only-of-type {\n",
       "        vertical-align: middle;\n",
       "    }\n",
       "\n",
       "    .dataframe tbody tr th {\n",
       "        vertical-align: top;\n",
       "    }\n",
       "\n",
       "    .dataframe thead th {\n",
       "        text-align: right;\n",
       "    }\n",
       "</style>\n",
       "<table border=\"1\" class=\"dataframe\">\n",
       "  <thead>\n",
       "    <tr style=\"text-align: right;\">\n",
       "      <th></th>\n",
       "      <th>categoria_de_situacao</th>\n",
       "    </tr>\n",
       "  </thead>\n",
       "  <tbody>\n",
       "    <tr>\n",
       "      <th>0</th>\n",
       "      <td>E</td>\n",
       "    </tr>\n",
       "    <tr>\n",
       "      <th>1</th>\n",
       "      <td>E</td>\n",
       "    </tr>\n",
       "    <tr>\n",
       "      <th>2</th>\n",
       "      <td>E</td>\n",
       "    </tr>\n",
       "  </tbody>\n",
       "</table>\n",
       "</div>"
      ],
      "text/plain": [
       "  categoria_de_situacao\n",
       "0                     E\n",
       "1                     E\n",
       "2                     E"
      ]
     },
     "execution_count": 5,
     "metadata": {},
     "output_type": "execute_result"
    }
   ],
   "source": [
    "y = data.loc[:,['categoria_de_situacao']]\n",
    "y.head(3)"
   ]
  },
  {
   "cell_type": "markdown",
   "metadata": {
    "id": "tQS4KSsQ6ZFw"
   },
   "source": [
    " <h2>\n",
    "    Variáveis dummy/fictícias.\n",
    "  </h2>\n",
    "Para trabalhar com os algortimos as variáveis categóricas serão transformadas em valores 0 ou 1. O número de variáveis fictícias criadas é de k-1, onde k são os valores possíveis que uma variável categórica pode assumir.\n",
    "\n",
    "Tendo na coluna **tipo_curso** os valores de:\n",
    "\n",
    "\n",
    "*   bacharelado\n",
    "*   tecnologia\n",
    "*   licenciatura\n",
    "\n",
    "então tem-se k = 3. E então duas variáveis fictícias são criadas para a coluna tipo_curso. Isso serve para evitar o problema de multicolinearidade que faz com que nossas variáveis fiquem altamente correlacionadas.\n",
    "\n",
    "Para realizar esse processo usaremos o método OneHotEncoder do sklearn com o parâmetro `drop = first` para criar k-1 variáveis em cada coluna especificada.\n"
   ]
  },
  {
   "cell_type": "code",
   "execution_count": 7,
   "metadata": {
    "id": "7_0xkeJmEuUt"
   },
   "outputs": [],
   "source": [
    "enc = OneHotEncoder(handle_unknown='ignore',drop='first') # encoder"
   ]
  },
  {
   "cell_type": "code",
   "execution_count": 8,
   "metadata": {
    "colab": {
     "base_uri": "https://localhost:8080/",
     "height": 424
    },
    "id": "EvOVG6LDHZ2i",
    "outputId": "dd2fbcff-f0be-42f9-a4f4-5625d39f1ca5"
   },
   "outputs": [
    {
     "data": {
      "text/html": [
       "<div>\n",
       "<style scoped>\n",
       "    .dataframe tbody tr th:only-of-type {\n",
       "        vertical-align: middle;\n",
       "    }\n",
       "\n",
       "    .dataframe tbody tr th {\n",
       "        vertical-align: top;\n",
       "    }\n",
       "\n",
       "    .dataframe thead th {\n",
       "        text-align: right;\n",
       "    }\n",
       "</style>\n",
       "<table border=\"1\" class=\"dataframe\">\n",
       "  <thead>\n",
       "    <tr style=\"text-align: right;\">\n",
       "      <th></th>\n",
       "      <th>nome_do_curso</th>\n",
       "      <th>eixo_tecnologico</th>\n",
       "      <th>tipo_de_curso</th>\n",
       "      <th>turno</th>\n",
       "      <th>data_de_inicio_do_ciclo</th>\n",
       "      <th>data_de_fim_previsto_do_ciclo</th>\n",
       "      <th>renda</th>\n",
       "      <th>sexo</th>\n",
       "      <th>faixa_etaria</th>\n",
       "      <th>cor</th>\n",
       "      <th>unidade_de_ensino</th>\n",
       "      <th>mes_de_ocorrencia_da_situacao</th>\n",
       "    </tr>\n",
       "  </thead>\n",
       "  <tbody>\n",
       "    <tr>\n",
       "      <th>0</th>\n",
       "      <td>engenharia mecanica</td>\n",
       "      <td>controle e processos industriais</td>\n",
       "      <td>bacharelado</td>\n",
       "      <td>integral</td>\n",
       "      <td>26/08/2019</td>\n",
       "      <td>26/08/2024</td>\n",
       "      <td>0,5&lt;RFP&lt;=1,0</td>\n",
       "      <td>F</td>\n",
       "      <td>20-24</td>\n",
       "      <td>parda</td>\n",
       "      <td>Campus João Pessoa</td>\n",
       "      <td>01/01/2021</td>\n",
       "    </tr>\n",
       "    <tr>\n",
       "      <th>1</th>\n",
       "      <td>engenharia mecanica</td>\n",
       "      <td>controle e processos industriais</td>\n",
       "      <td>bacharelado</td>\n",
       "      <td>integral</td>\n",
       "      <td>26/08/2019</td>\n",
       "      <td>26/08/2024</td>\n",
       "      <td>0,5&lt;RFP&lt;=1,0</td>\n",
       "      <td>M</td>\n",
       "      <td>20-24</td>\n",
       "      <td>branca</td>\n",
       "      <td>Campus João Pessoa</td>\n",
       "      <td>01/01/2021</td>\n",
       "    </tr>\n",
       "    <tr>\n",
       "      <th>2</th>\n",
       "      <td>engenharia mecanica</td>\n",
       "      <td>controle e processos industriais</td>\n",
       "      <td>bacharelado</td>\n",
       "      <td>integral</td>\n",
       "      <td>26/08/2019</td>\n",
       "      <td>26/08/2024</td>\n",
       "      <td>RFP&gt;3,5</td>\n",
       "      <td>M</td>\n",
       "      <td>20-24</td>\n",
       "      <td>parda</td>\n",
       "      <td>Campus João Pessoa</td>\n",
       "      <td>01/01/2021</td>\n",
       "    </tr>\n",
       "  </tbody>\n",
       "</table>\n",
       "</div>"
      ],
      "text/plain": [
       "         nome_do_curso                  eixo_tecnologico tipo_de_curso  \\\n",
       "0  engenharia mecanica  controle e processos industriais   bacharelado   \n",
       "1  engenharia mecanica  controle e processos industriais   bacharelado   \n",
       "2  engenharia mecanica  controle e processos industriais   bacharelado   \n",
       "\n",
       "      turno data_de_inicio_do_ciclo data_de_fim_previsto_do_ciclo  \\\n",
       "0  integral              26/08/2019                    26/08/2024   \n",
       "1  integral              26/08/2019                    26/08/2024   \n",
       "2  integral              26/08/2019                    26/08/2024   \n",
       "\n",
       "          renda sexo faixa_etaria        cor   unidade_de_ensino  \\\n",
       "0  0,5<RFP<=1,0    F        20-24  parda      Campus João Pessoa   \n",
       "1  0,5<RFP<=1,0    M        20-24  branca     Campus João Pessoa   \n",
       "2       RFP>3,5    M        20-24  parda      Campus João Pessoa   \n",
       "\n",
       "  mes_de_ocorrencia_da_situacao  \n",
       "0                    01/01/2021  \n",
       "1                    01/01/2021  \n",
       "2                    01/01/2021  "
      ]
     },
     "execution_count": 8,
     "metadata": {},
     "output_type": "execute_result"
    }
   ],
   "source": [
    "# guardando as varáveis categóricas\n",
    "X_cat = X[['nome_do_curso','eixo_tecnologico',\n",
    "           'tipo_de_curso','turno','data_de_inicio_do_ciclo','data_de_fim_previsto_do_ciclo','renda','sexo','faixa_etaria','cor',\n",
    "           'unidade_de_ensino','mes_de_ocorrencia_da_situacao']]\n",
    "X_cat.head(3)"
   ]
  },
  {
   "cell_type": "code",
   "execution_count": 9,
   "metadata": {
    "id": "6lkIvKHeTrJN"
   },
   "outputs": [],
   "source": [
    "X_encoded = enc.fit_transform(X_cat).toarray() # codificando as variáveis categóricas"
   ]
  },
  {
   "cell_type": "code",
   "execution_count": 10,
   "metadata": {
    "colab": {
     "base_uri": "https://localhost:8080/"
    },
    "id": "B7So91RmWYaX",
    "outputId": "7abfccca-fad3-46c0-dcd2-176437b2e660"
   },
   "outputs": [
    {
     "data": {
      "text/plain": [
       "[array(['administracao', 'agroecologia', 'alimentos',\n",
       "        'analise e desenvolvimento de sistemas', 'automacao industrial',\n",
       "        'ciencias biologicas', 'construcao de edificios',\n",
       "        'design de interiores', 'design grafico', 'educacao fisica',\n",
       "        'engenharia civil', 'engenharia de computacao',\n",
       "        'engenharia de controle e automacao', 'engenharia eletronica',\n",
       "        'engenharia mecanica', 'fisica', 'geoprocessamento',\n",
       "        'gestao ambiental', 'gestao comercial', 'informatica',\n",
       "        'letras - lingua portuguesa', 'matematica', 'medicina veterinaria',\n",
       "        'negocios imobiliarios', 'quimica', 'redes de computadores',\n",
       "        'seguranca no trabalho', 'sistemas de telecomunicacoes',\n",
       "        'sistemas para internet', 'telematica'], dtype=object),\n",
       " array(['ambiente e saude', 'controle e processos industriais',\n",
       "        'desenvolvimento educacional e social', 'gestao e negocios',\n",
       "        'informacao e comunicacao', 'infraestrutura',\n",
       "        'producao alimenticia', 'producao cultural e design',\n",
       "        'recursos naturais', 'seguranca'], dtype=object)]"
      ]
     },
     "execution_count": 10,
     "metadata": {},
     "output_type": "execute_result"
    }
   ],
   "source": [
    "enc.categories_[:2]"
   ]
  },
  {
   "cell_type": "code",
   "execution_count": 11,
   "metadata": {
    "id": "NXQ3jqYUWA7V"
   },
   "outputs": [],
   "source": [
    "X_encoded = pd.DataFrame(X_encoded) # transformando em DataFrame\n",
    "X_encoded.columns = enc.get_feature_names_out() # renomeando as colunas"
   ]
  },
  {
   "cell_type": "code",
   "execution_count": 12,
   "metadata": {
    "colab": {
     "base_uri": "https://localhost:8080/",
     "height": 334
    },
    "id": "EqccDFKeEnBL",
    "outputId": "09d118fa-00fd-4d34-b06c-50faa9c52984"
   },
   "outputs": [
    {
     "data": {
      "text/html": [
       "<div>\n",
       "<style scoped>\n",
       "    .dataframe tbody tr th:only-of-type {\n",
       "        vertical-align: middle;\n",
       "    }\n",
       "\n",
       "    .dataframe tbody tr th {\n",
       "        vertical-align: top;\n",
       "    }\n",
       "\n",
       "    .dataframe thead th {\n",
       "        text-align: right;\n",
       "    }\n",
       "</style>\n",
       "<table border=\"1\" class=\"dataframe\">\n",
       "  <thead>\n",
       "    <tr style=\"text-align: right;\">\n",
       "      <th></th>\n",
       "      <th>nome_do_curso_agroecologia</th>\n",
       "      <th>nome_do_curso_alimentos</th>\n",
       "      <th>nome_do_curso_analise e desenvolvimento de sistemas</th>\n",
       "      <th>nome_do_curso_automacao industrial</th>\n",
       "      <th>nome_do_curso_ciencias biologicas</th>\n",
       "      <th>nome_do_curso_construcao de edificios</th>\n",
       "      <th>nome_do_curso_design de interiores</th>\n",
       "      <th>nome_do_curso_design grafico</th>\n",
       "      <th>nome_do_curso_educacao fisica</th>\n",
       "      <th>nome_do_curso_engenharia civil</th>\n",
       "      <th>...</th>\n",
       "      <th>mes_de_ocorrencia_da_situacao_27/02/2020</th>\n",
       "      <th>mes_de_ocorrencia_da_situacao_27/10/2021</th>\n",
       "      <th>mes_de_ocorrencia_da_situacao_27/12/2018</th>\n",
       "      <th>mes_de_ocorrencia_da_situacao_28/10/2021</th>\n",
       "      <th>mes_de_ocorrencia_da_situacao_29/07/2021</th>\n",
       "      <th>mes_de_ocorrencia_da_situacao_30/01/2018</th>\n",
       "      <th>mes_de_ocorrencia_da_situacao_30/08/2021</th>\n",
       "      <th>mes_de_ocorrencia_da_situacao_30/10/2021</th>\n",
       "      <th>mes_de_ocorrencia_da_situacao_30/11/2021</th>\n",
       "      <th>mes_de_ocorrencia_da_situacao_30/12/2018</th>\n",
       "    </tr>\n",
       "  </thead>\n",
       "  <tbody>\n",
       "    <tr>\n",
       "      <th>0</th>\n",
       "      <td>0.0</td>\n",
       "      <td>0.0</td>\n",
       "      <td>0.0</td>\n",
       "      <td>0.0</td>\n",
       "      <td>0.0</td>\n",
       "      <td>0.0</td>\n",
       "      <td>0.0</td>\n",
       "      <td>0.0</td>\n",
       "      <td>0.0</td>\n",
       "      <td>0.0</td>\n",
       "      <td>...</td>\n",
       "      <td>0.0</td>\n",
       "      <td>0.0</td>\n",
       "      <td>0.0</td>\n",
       "      <td>0.0</td>\n",
       "      <td>0.0</td>\n",
       "      <td>0.0</td>\n",
       "      <td>0.0</td>\n",
       "      <td>0.0</td>\n",
       "      <td>0.0</td>\n",
       "      <td>0.0</td>\n",
       "    </tr>\n",
       "    <tr>\n",
       "      <th>1</th>\n",
       "      <td>0.0</td>\n",
       "      <td>0.0</td>\n",
       "      <td>0.0</td>\n",
       "      <td>0.0</td>\n",
       "      <td>0.0</td>\n",
       "      <td>0.0</td>\n",
       "      <td>0.0</td>\n",
       "      <td>0.0</td>\n",
       "      <td>0.0</td>\n",
       "      <td>0.0</td>\n",
       "      <td>...</td>\n",
       "      <td>0.0</td>\n",
       "      <td>0.0</td>\n",
       "      <td>0.0</td>\n",
       "      <td>0.0</td>\n",
       "      <td>0.0</td>\n",
       "      <td>0.0</td>\n",
       "      <td>0.0</td>\n",
       "      <td>0.0</td>\n",
       "      <td>0.0</td>\n",
       "      <td>0.0</td>\n",
       "    </tr>\n",
       "    <tr>\n",
       "      <th>2</th>\n",
       "      <td>0.0</td>\n",
       "      <td>0.0</td>\n",
       "      <td>0.0</td>\n",
       "      <td>0.0</td>\n",
       "      <td>0.0</td>\n",
       "      <td>0.0</td>\n",
       "      <td>0.0</td>\n",
       "      <td>0.0</td>\n",
       "      <td>0.0</td>\n",
       "      <td>0.0</td>\n",
       "      <td>...</td>\n",
       "      <td>0.0</td>\n",
       "      <td>0.0</td>\n",
       "      <td>0.0</td>\n",
       "      <td>0.0</td>\n",
       "      <td>0.0</td>\n",
       "      <td>0.0</td>\n",
       "      <td>0.0</td>\n",
       "      <td>0.0</td>\n",
       "      <td>0.0</td>\n",
       "      <td>0.0</td>\n",
       "    </tr>\n",
       "  </tbody>\n",
       "</table>\n",
       "<p>3 rows × 721 columns</p>\n",
       "</div>"
      ],
      "text/plain": [
       "   nome_do_curso_agroecologia  nome_do_curso_alimentos  \\\n",
       "0                         0.0                      0.0   \n",
       "1                         0.0                      0.0   \n",
       "2                         0.0                      0.0   \n",
       "\n",
       "   nome_do_curso_analise e desenvolvimento de sistemas  \\\n",
       "0                                                0.0     \n",
       "1                                                0.0     \n",
       "2                                                0.0     \n",
       "\n",
       "   nome_do_curso_automacao industrial  nome_do_curso_ciencias biologicas  \\\n",
       "0                                 0.0                                0.0   \n",
       "1                                 0.0                                0.0   \n",
       "2                                 0.0                                0.0   \n",
       "\n",
       "   nome_do_curso_construcao de edificios  nome_do_curso_design de interiores  \\\n",
       "0                                    0.0                                 0.0   \n",
       "1                                    0.0                                 0.0   \n",
       "2                                    0.0                                 0.0   \n",
       "\n",
       "   nome_do_curso_design grafico  nome_do_curso_educacao fisica  \\\n",
       "0                           0.0                            0.0   \n",
       "1                           0.0                            0.0   \n",
       "2                           0.0                            0.0   \n",
       "\n",
       "   nome_do_curso_engenharia civil  ...  \\\n",
       "0                             0.0  ...   \n",
       "1                             0.0  ...   \n",
       "2                             0.0  ...   \n",
       "\n",
       "   mes_de_ocorrencia_da_situacao_27/02/2020  \\\n",
       "0                                       0.0   \n",
       "1                                       0.0   \n",
       "2                                       0.0   \n",
       "\n",
       "   mes_de_ocorrencia_da_situacao_27/10/2021  \\\n",
       "0                                       0.0   \n",
       "1                                       0.0   \n",
       "2                                       0.0   \n",
       "\n",
       "   mes_de_ocorrencia_da_situacao_27/12/2018  \\\n",
       "0                                       0.0   \n",
       "1                                       0.0   \n",
       "2                                       0.0   \n",
       "\n",
       "   mes_de_ocorrencia_da_situacao_28/10/2021  \\\n",
       "0                                       0.0   \n",
       "1                                       0.0   \n",
       "2                                       0.0   \n",
       "\n",
       "   mes_de_ocorrencia_da_situacao_29/07/2021  \\\n",
       "0                                       0.0   \n",
       "1                                       0.0   \n",
       "2                                       0.0   \n",
       "\n",
       "   mes_de_ocorrencia_da_situacao_30/01/2018  \\\n",
       "0                                       0.0   \n",
       "1                                       0.0   \n",
       "2                                       0.0   \n",
       "\n",
       "   mes_de_ocorrencia_da_situacao_30/08/2021  \\\n",
       "0                                       0.0   \n",
       "1                                       0.0   \n",
       "2                                       0.0   \n",
       "\n",
       "   mes_de_ocorrencia_da_situacao_30/10/2021  \\\n",
       "0                                       0.0   \n",
       "1                                       0.0   \n",
       "2                                       0.0   \n",
       "\n",
       "   mes_de_ocorrencia_da_situacao_30/11/2021  \\\n",
       "0                                       0.0   \n",
       "1                                       0.0   \n",
       "2                                       0.0   \n",
       "\n",
       "   mes_de_ocorrencia_da_situacao_30/12/2018  \n",
       "0                                       0.0  \n",
       "1                                       0.0  \n",
       "2                                       0.0  \n",
       "\n",
       "[3 rows x 721 columns]"
      ]
     },
     "execution_count": 12,
     "metadata": {},
     "output_type": "execute_result"
    }
   ],
   "source": [
    "X_encoded.head(3)"
   ]
  },
  {
   "cell_type": "code",
   "execution_count": 13,
   "metadata": {
    "colab": {
     "base_uri": "https://localhost:8080/",
     "height": 143
    },
    "id": "F4FiY8xVkudY",
    "outputId": "28ff534a-910d-4a24-eede-a483e5361532"
   },
   "outputs": [
    {
     "data": {
      "text/html": [
       "<div>\n",
       "<style scoped>\n",
       "    .dataframe tbody tr th:only-of-type {\n",
       "        vertical-align: middle;\n",
       "    }\n",
       "\n",
       "    .dataframe tbody tr th {\n",
       "        vertical-align: top;\n",
       "    }\n",
       "\n",
       "    .dataframe thead th {\n",
       "        text-align: right;\n",
       "    }\n",
       "</style>\n",
       "<table border=\"1\" class=\"dataframe\">\n",
       "  <thead>\n",
       "    <tr style=\"text-align: right;\">\n",
       "      <th></th>\n",
       "      <th>carga_horaria_do_curso</th>\n",
       "      <th>fator_de_esforco_de_curso</th>\n",
       "      <th>idade</th>\n",
       "    </tr>\n",
       "  </thead>\n",
       "  <tbody>\n",
       "    <tr>\n",
       "      <th>0</th>\n",
       "      <td>4147</td>\n",
       "      <td>1.07</td>\n",
       "      <td>24</td>\n",
       "    </tr>\n",
       "    <tr>\n",
       "      <th>1</th>\n",
       "      <td>4147</td>\n",
       "      <td>1.07</td>\n",
       "      <td>23</td>\n",
       "    </tr>\n",
       "    <tr>\n",
       "      <th>2</th>\n",
       "      <td>4147</td>\n",
       "      <td>1.07</td>\n",
       "      <td>21</td>\n",
       "    </tr>\n",
       "  </tbody>\n",
       "</table>\n",
       "</div>"
      ],
      "text/plain": [
       "   carga_horaria_do_curso  fator_de_esforco_de_curso  idade\n",
       "0                    4147                       1.07     24\n",
       "1                    4147                       1.07     23\n",
       "2                    4147                       1.07     21"
      ]
     },
     "execution_count": 13,
     "metadata": {},
     "output_type": "execute_result"
    }
   ],
   "source": [
    "X_numerical = data[['carga_horaria_do_curso','fator_de_esforco_de_curso','idade']] # guardando as variáveis numéricas\n",
    "X_numerical.head(3)"
   ]
  },
  {
   "cell_type": "code",
   "execution_count": 14,
   "metadata": {
    "colab": {
     "base_uri": "https://localhost:8080/",
     "height": 334
    },
    "id": "b-vaTvpRk6yC",
    "outputId": "7db3ff8f-5e90-463b-fa92-f8dfb0accf41"
   },
   "outputs": [
    {
     "data": {
      "text/html": [
       "<div>\n",
       "<style scoped>\n",
       "    .dataframe tbody tr th:only-of-type {\n",
       "        vertical-align: middle;\n",
       "    }\n",
       "\n",
       "    .dataframe tbody tr th {\n",
       "        vertical-align: top;\n",
       "    }\n",
       "\n",
       "    .dataframe thead th {\n",
       "        text-align: right;\n",
       "    }\n",
       "</style>\n",
       "<table border=\"1\" class=\"dataframe\">\n",
       "  <thead>\n",
       "    <tr style=\"text-align: right;\">\n",
       "      <th></th>\n",
       "      <th>nome_do_curso_agroecologia</th>\n",
       "      <th>nome_do_curso_alimentos</th>\n",
       "      <th>nome_do_curso_analise e desenvolvimento de sistemas</th>\n",
       "      <th>nome_do_curso_automacao industrial</th>\n",
       "      <th>nome_do_curso_ciencias biologicas</th>\n",
       "      <th>nome_do_curso_construcao de edificios</th>\n",
       "      <th>nome_do_curso_design de interiores</th>\n",
       "      <th>nome_do_curso_design grafico</th>\n",
       "      <th>nome_do_curso_educacao fisica</th>\n",
       "      <th>nome_do_curso_engenharia civil</th>\n",
       "      <th>...</th>\n",
       "      <th>mes_de_ocorrencia_da_situacao_28/10/2021</th>\n",
       "      <th>mes_de_ocorrencia_da_situacao_29/07/2021</th>\n",
       "      <th>mes_de_ocorrencia_da_situacao_30/01/2018</th>\n",
       "      <th>mes_de_ocorrencia_da_situacao_30/08/2021</th>\n",
       "      <th>mes_de_ocorrencia_da_situacao_30/10/2021</th>\n",
       "      <th>mes_de_ocorrencia_da_situacao_30/11/2021</th>\n",
       "      <th>mes_de_ocorrencia_da_situacao_30/12/2018</th>\n",
       "      <th>carga_horaria_do_curso</th>\n",
       "      <th>fator_de_esforco_de_curso</th>\n",
       "      <th>idade</th>\n",
       "    </tr>\n",
       "  </thead>\n",
       "  <tbody>\n",
       "    <tr>\n",
       "      <th>0</th>\n",
       "      <td>0.0</td>\n",
       "      <td>0.0</td>\n",
       "      <td>0.0</td>\n",
       "      <td>0.0</td>\n",
       "      <td>0.0</td>\n",
       "      <td>0.0</td>\n",
       "      <td>0.0</td>\n",
       "      <td>0.0</td>\n",
       "      <td>0.0</td>\n",
       "      <td>0.0</td>\n",
       "      <td>...</td>\n",
       "      <td>0.0</td>\n",
       "      <td>0.0</td>\n",
       "      <td>0.0</td>\n",
       "      <td>0.0</td>\n",
       "      <td>0.0</td>\n",
       "      <td>0.0</td>\n",
       "      <td>0.0</td>\n",
       "      <td>4147</td>\n",
       "      <td>1.07</td>\n",
       "      <td>24</td>\n",
       "    </tr>\n",
       "    <tr>\n",
       "      <th>1</th>\n",
       "      <td>0.0</td>\n",
       "      <td>0.0</td>\n",
       "      <td>0.0</td>\n",
       "      <td>0.0</td>\n",
       "      <td>0.0</td>\n",
       "      <td>0.0</td>\n",
       "      <td>0.0</td>\n",
       "      <td>0.0</td>\n",
       "      <td>0.0</td>\n",
       "      <td>0.0</td>\n",
       "      <td>...</td>\n",
       "      <td>0.0</td>\n",
       "      <td>0.0</td>\n",
       "      <td>0.0</td>\n",
       "      <td>0.0</td>\n",
       "      <td>0.0</td>\n",
       "      <td>0.0</td>\n",
       "      <td>0.0</td>\n",
       "      <td>4147</td>\n",
       "      <td>1.07</td>\n",
       "      <td>23</td>\n",
       "    </tr>\n",
       "    <tr>\n",
       "      <th>2</th>\n",
       "      <td>0.0</td>\n",
       "      <td>0.0</td>\n",
       "      <td>0.0</td>\n",
       "      <td>0.0</td>\n",
       "      <td>0.0</td>\n",
       "      <td>0.0</td>\n",
       "      <td>0.0</td>\n",
       "      <td>0.0</td>\n",
       "      <td>0.0</td>\n",
       "      <td>0.0</td>\n",
       "      <td>...</td>\n",
       "      <td>0.0</td>\n",
       "      <td>0.0</td>\n",
       "      <td>0.0</td>\n",
       "      <td>0.0</td>\n",
       "      <td>0.0</td>\n",
       "      <td>0.0</td>\n",
       "      <td>0.0</td>\n",
       "      <td>4147</td>\n",
       "      <td>1.07</td>\n",
       "      <td>21</td>\n",
       "    </tr>\n",
       "    <tr>\n",
       "      <th>3</th>\n",
       "      <td>0.0</td>\n",
       "      <td>0.0</td>\n",
       "      <td>0.0</td>\n",
       "      <td>0.0</td>\n",
       "      <td>0.0</td>\n",
       "      <td>0.0</td>\n",
       "      <td>0.0</td>\n",
       "      <td>0.0</td>\n",
       "      <td>0.0</td>\n",
       "      <td>0.0</td>\n",
       "      <td>...</td>\n",
       "      <td>0.0</td>\n",
       "      <td>0.0</td>\n",
       "      <td>0.0</td>\n",
       "      <td>0.0</td>\n",
       "      <td>0.0</td>\n",
       "      <td>0.0</td>\n",
       "      <td>0.0</td>\n",
       "      <td>4147</td>\n",
       "      <td>1.07</td>\n",
       "      <td>19</td>\n",
       "    </tr>\n",
       "    <tr>\n",
       "      <th>4</th>\n",
       "      <td>0.0</td>\n",
       "      <td>0.0</td>\n",
       "      <td>0.0</td>\n",
       "      <td>0.0</td>\n",
       "      <td>0.0</td>\n",
       "      <td>0.0</td>\n",
       "      <td>0.0</td>\n",
       "      <td>0.0</td>\n",
       "      <td>0.0</td>\n",
       "      <td>0.0</td>\n",
       "      <td>...</td>\n",
       "      <td>0.0</td>\n",
       "      <td>0.0</td>\n",
       "      <td>0.0</td>\n",
       "      <td>0.0</td>\n",
       "      <td>0.0</td>\n",
       "      <td>0.0</td>\n",
       "      <td>0.0</td>\n",
       "      <td>4147</td>\n",
       "      <td>1.07</td>\n",
       "      <td>19</td>\n",
       "    </tr>\n",
       "  </tbody>\n",
       "</table>\n",
       "<p>5 rows × 724 columns</p>\n",
       "</div>"
      ],
      "text/plain": [
       "   nome_do_curso_agroecologia  nome_do_curso_alimentos  \\\n",
       "0                         0.0                      0.0   \n",
       "1                         0.0                      0.0   \n",
       "2                         0.0                      0.0   \n",
       "3                         0.0                      0.0   \n",
       "4                         0.0                      0.0   \n",
       "\n",
       "   nome_do_curso_analise e desenvolvimento de sistemas  \\\n",
       "0                                                0.0     \n",
       "1                                                0.0     \n",
       "2                                                0.0     \n",
       "3                                                0.0     \n",
       "4                                                0.0     \n",
       "\n",
       "   nome_do_curso_automacao industrial  nome_do_curso_ciencias biologicas  \\\n",
       "0                                 0.0                                0.0   \n",
       "1                                 0.0                                0.0   \n",
       "2                                 0.0                                0.0   \n",
       "3                                 0.0                                0.0   \n",
       "4                                 0.0                                0.0   \n",
       "\n",
       "   nome_do_curso_construcao de edificios  nome_do_curso_design de interiores  \\\n",
       "0                                    0.0                                 0.0   \n",
       "1                                    0.0                                 0.0   \n",
       "2                                    0.0                                 0.0   \n",
       "3                                    0.0                                 0.0   \n",
       "4                                    0.0                                 0.0   \n",
       "\n",
       "   nome_do_curso_design grafico  nome_do_curso_educacao fisica  \\\n",
       "0                           0.0                            0.0   \n",
       "1                           0.0                            0.0   \n",
       "2                           0.0                            0.0   \n",
       "3                           0.0                            0.0   \n",
       "4                           0.0                            0.0   \n",
       "\n",
       "   nome_do_curso_engenharia civil  ...  \\\n",
       "0                             0.0  ...   \n",
       "1                             0.0  ...   \n",
       "2                             0.0  ...   \n",
       "3                             0.0  ...   \n",
       "4                             0.0  ...   \n",
       "\n",
       "   mes_de_ocorrencia_da_situacao_28/10/2021  \\\n",
       "0                                       0.0   \n",
       "1                                       0.0   \n",
       "2                                       0.0   \n",
       "3                                       0.0   \n",
       "4                                       0.0   \n",
       "\n",
       "   mes_de_ocorrencia_da_situacao_29/07/2021  \\\n",
       "0                                       0.0   \n",
       "1                                       0.0   \n",
       "2                                       0.0   \n",
       "3                                       0.0   \n",
       "4                                       0.0   \n",
       "\n",
       "   mes_de_ocorrencia_da_situacao_30/01/2018  \\\n",
       "0                                       0.0   \n",
       "1                                       0.0   \n",
       "2                                       0.0   \n",
       "3                                       0.0   \n",
       "4                                       0.0   \n",
       "\n",
       "   mes_de_ocorrencia_da_situacao_30/08/2021  \\\n",
       "0                                       0.0   \n",
       "1                                       0.0   \n",
       "2                                       0.0   \n",
       "3                                       0.0   \n",
       "4                                       0.0   \n",
       "\n",
       "   mes_de_ocorrencia_da_situacao_30/10/2021  \\\n",
       "0                                       0.0   \n",
       "1                                       0.0   \n",
       "2                                       0.0   \n",
       "3                                       0.0   \n",
       "4                                       0.0   \n",
       "\n",
       "   mes_de_ocorrencia_da_situacao_30/11/2021  \\\n",
       "0                                       0.0   \n",
       "1                                       0.0   \n",
       "2                                       0.0   \n",
       "3                                       0.0   \n",
       "4                                       0.0   \n",
       "\n",
       "   mes_de_ocorrencia_da_situacao_30/12/2018  carga_horaria_do_curso  \\\n",
       "0                                       0.0                    4147   \n",
       "1                                       0.0                    4147   \n",
       "2                                       0.0                    4147   \n",
       "3                                       0.0                    4147   \n",
       "4                                       0.0                    4147   \n",
       "\n",
       "   fator_de_esforco_de_curso  idade  \n",
       "0                       1.07     24  \n",
       "1                       1.07     23  \n",
       "2                       1.07     21  \n",
       "3                       1.07     19  \n",
       "4                       1.07     19  \n",
       "\n",
       "[5 rows x 724 columns]"
      ]
     },
     "execution_count": 14,
     "metadata": {},
     "output_type": "execute_result"
    }
   ],
   "source": [
    "X_all = pd.concat([X_encoded, X_numerical],axis=1) # concatenando os dataframes\n",
    "X_all.head()"
   ]
  },
  {
   "cell_type": "markdown",
   "metadata": {
    "id": "eCZdn10hOsGw"
   },
   "source": [
    "<h1>Lidando com as diferenças nos valores</h1>\n",
    "\n",
    "Se observamos os valores a maioria deles está como 0 ou 1. Porém existem duas colunas numéricas na base que são **carga_horaria_do_curso** e **fator_de_esforco_de_curso** que diferem muito disso."
   ]
  },
  {
   "cell_type": "code",
   "execution_count": 15,
   "metadata": {
    "id": "3viAdGutlJL0"
   },
   "outputs": [],
   "source": [
    "from sklearn.preprocessing import MinMaxScaler\n",
    "sc = MinMaxScaler((0,1)) # scaler\n",
    "X_scaled = sc.fit_transform(X_all) # escolando as variáveis numéricas"
   ]
  },
  {
   "cell_type": "code",
   "execution_count": 16,
   "metadata": {
    "colab": {
     "base_uri": "https://localhost:8080/",
     "height": 394
    },
    "id": "yYz3WmKmliNv",
    "outputId": "27e3e37b-f116-47c1-ce1e-b0f3ea002774"
   },
   "outputs": [
    {
     "data": {
      "text/html": [
       "<div>\n",
       "<style scoped>\n",
       "    .dataframe tbody tr th:only-of-type {\n",
       "        vertical-align: middle;\n",
       "    }\n",
       "\n",
       "    .dataframe tbody tr th {\n",
       "        vertical-align: top;\n",
       "    }\n",
       "\n",
       "    .dataframe thead th {\n",
       "        text-align: right;\n",
       "    }\n",
       "</style>\n",
       "<table border=\"1\" class=\"dataframe\">\n",
       "  <thead>\n",
       "    <tr style=\"text-align: right;\">\n",
       "      <th></th>\n",
       "      <th>0</th>\n",
       "      <th>1</th>\n",
       "      <th>2</th>\n",
       "      <th>3</th>\n",
       "      <th>4</th>\n",
       "      <th>5</th>\n",
       "      <th>6</th>\n",
       "      <th>7</th>\n",
       "      <th>8</th>\n",
       "      <th>9</th>\n",
       "      <th>...</th>\n",
       "      <th>714</th>\n",
       "      <th>715</th>\n",
       "      <th>716</th>\n",
       "      <th>717</th>\n",
       "      <th>718</th>\n",
       "      <th>719</th>\n",
       "      <th>720</th>\n",
       "      <th>721</th>\n",
       "      <th>722</th>\n",
       "      <th>723</th>\n",
       "    </tr>\n",
       "  </thead>\n",
       "  <tbody>\n",
       "    <tr>\n",
       "      <th>count</th>\n",
       "      <td>6586.000000</td>\n",
       "      <td>6586.000000</td>\n",
       "      <td>6586.000000</td>\n",
       "      <td>6586.000000</td>\n",
       "      <td>6586.000000</td>\n",
       "      <td>6586.000000</td>\n",
       "      <td>6586.000000</td>\n",
       "      <td>6586.000000</td>\n",
       "      <td>6586.000000</td>\n",
       "      <td>6586.000000</td>\n",
       "      <td>...</td>\n",
       "      <td>6586.000000</td>\n",
       "      <td>6586.000000</td>\n",
       "      <td>6586.000000</td>\n",
       "      <td>6586.000000</td>\n",
       "      <td>6586.000000</td>\n",
       "      <td>6586.000000</td>\n",
       "      <td>6586.000000</td>\n",
       "      <td>6586.000000</td>\n",
       "      <td>6586.000000</td>\n",
       "      <td>6586.000000</td>\n",
       "    </tr>\n",
       "    <tr>\n",
       "      <th>mean</th>\n",
       "      <td>0.044488</td>\n",
       "      <td>0.009110</td>\n",
       "      <td>0.041755</td>\n",
       "      <td>0.045855</td>\n",
       "      <td>0.010325</td>\n",
       "      <td>0.069997</td>\n",
       "      <td>0.028394</td>\n",
       "      <td>0.023231</td>\n",
       "      <td>0.008351</td>\n",
       "      <td>0.034771</td>\n",
       "      <td>...</td>\n",
       "      <td>0.001215</td>\n",
       "      <td>0.000759</td>\n",
       "      <td>0.000607</td>\n",
       "      <td>0.000456</td>\n",
       "      <td>0.000152</td>\n",
       "      <td>0.000456</td>\n",
       "      <td>0.001670</td>\n",
       "      <td>0.424507</td>\n",
       "      <td>0.395097</td>\n",
       "      <td>0.227730</td>\n",
       "    </tr>\n",
       "    <tr>\n",
       "      <th>std</th>\n",
       "      <td>0.206193</td>\n",
       "      <td>0.095019</td>\n",
       "      <td>0.200045</td>\n",
       "      <td>0.209186</td>\n",
       "      <td>0.101093</td>\n",
       "      <td>0.255161</td>\n",
       "      <td>0.166107</td>\n",
       "      <td>0.150648</td>\n",
       "      <td>0.091009</td>\n",
       "      <td>0.183212</td>\n",
       "      <td>...</td>\n",
       "      <td>0.034834</td>\n",
       "      <td>0.027545</td>\n",
       "      <td>0.024639</td>\n",
       "      <td>0.021339</td>\n",
       "      <td>0.012322</td>\n",
       "      <td>0.021339</td>\n",
       "      <td>0.040837</td>\n",
       "      <td>0.191199</td>\n",
       "      <td>0.341202</td>\n",
       "      <td>0.157888</td>\n",
       "    </tr>\n",
       "    <tr>\n",
       "      <th>min</th>\n",
       "      <td>0.000000</td>\n",
       "      <td>0.000000</td>\n",
       "      <td>0.000000</td>\n",
       "      <td>0.000000</td>\n",
       "      <td>0.000000</td>\n",
       "      <td>0.000000</td>\n",
       "      <td>0.000000</td>\n",
       "      <td>0.000000</td>\n",
       "      <td>0.000000</td>\n",
       "      <td>0.000000</td>\n",
       "      <td>...</td>\n",
       "      <td>0.000000</td>\n",
       "      <td>0.000000</td>\n",
       "      <td>0.000000</td>\n",
       "      <td>0.000000</td>\n",
       "      <td>0.000000</td>\n",
       "      <td>0.000000</td>\n",
       "      <td>0.000000</td>\n",
       "      <td>0.000000</td>\n",
       "      <td>0.000000</td>\n",
       "      <td>0.000000</td>\n",
       "    </tr>\n",
       "    <tr>\n",
       "      <th>25%</th>\n",
       "      <td>0.000000</td>\n",
       "      <td>0.000000</td>\n",
       "      <td>0.000000</td>\n",
       "      <td>0.000000</td>\n",
       "      <td>0.000000</td>\n",
       "      <td>0.000000</td>\n",
       "      <td>0.000000</td>\n",
       "      <td>0.000000</td>\n",
       "      <td>0.000000</td>\n",
       "      <td>0.000000</td>\n",
       "      <td>...</td>\n",
       "      <td>0.000000</td>\n",
       "      <td>0.000000</td>\n",
       "      <td>0.000000</td>\n",
       "      <td>0.000000</td>\n",
       "      <td>0.000000</td>\n",
       "      <td>0.000000</td>\n",
       "      <td>0.000000</td>\n",
       "      <td>0.284419</td>\n",
       "      <td>0.000000</td>\n",
       "      <td>0.113208</td>\n",
       "    </tr>\n",
       "    <tr>\n",
       "      <th>50%</th>\n",
       "      <td>0.000000</td>\n",
       "      <td>0.000000</td>\n",
       "      <td>0.000000</td>\n",
       "      <td>0.000000</td>\n",
       "      <td>0.000000</td>\n",
       "      <td>0.000000</td>\n",
       "      <td>0.000000</td>\n",
       "      <td>0.000000</td>\n",
       "      <td>0.000000</td>\n",
       "      <td>0.000000</td>\n",
       "      <td>...</td>\n",
       "      <td>0.000000</td>\n",
       "      <td>0.000000</td>\n",
       "      <td>0.000000</td>\n",
       "      <td>0.000000</td>\n",
       "      <td>0.000000</td>\n",
       "      <td>0.000000</td>\n",
       "      <td>0.000000</td>\n",
       "      <td>0.412357</td>\n",
       "      <td>0.357143</td>\n",
       "      <td>0.188679</td>\n",
       "    </tr>\n",
       "    <tr>\n",
       "      <th>75%</th>\n",
       "      <td>0.000000</td>\n",
       "      <td>0.000000</td>\n",
       "      <td>0.000000</td>\n",
       "      <td>0.000000</td>\n",
       "      <td>0.000000</td>\n",
       "      <td>0.000000</td>\n",
       "      <td>0.000000</td>\n",
       "      <td>0.000000</td>\n",
       "      <td>0.000000</td>\n",
       "      <td>0.000000</td>\n",
       "      <td>...</td>\n",
       "      <td>0.000000</td>\n",
       "      <td>0.000000</td>\n",
       "      <td>0.000000</td>\n",
       "      <td>0.000000</td>\n",
       "      <td>0.000000</td>\n",
       "      <td>0.000000</td>\n",
       "      <td>0.000000</td>\n",
       "      <td>0.521491</td>\n",
       "      <td>0.714286</td>\n",
       "      <td>0.301887</td>\n",
       "    </tr>\n",
       "    <tr>\n",
       "      <th>max</th>\n",
       "      <td>1.000000</td>\n",
       "      <td>1.000000</td>\n",
       "      <td>1.000000</td>\n",
       "      <td>1.000000</td>\n",
       "      <td>1.000000</td>\n",
       "      <td>1.000000</td>\n",
       "      <td>1.000000</td>\n",
       "      <td>1.000000</td>\n",
       "      <td>1.000000</td>\n",
       "      <td>1.000000</td>\n",
       "      <td>...</td>\n",
       "      <td>1.000000</td>\n",
       "      <td>1.000000</td>\n",
       "      <td>1.000000</td>\n",
       "      <td>1.000000</td>\n",
       "      <td>1.000000</td>\n",
       "      <td>1.000000</td>\n",
       "      <td>1.000000</td>\n",
       "      <td>1.000000</td>\n",
       "      <td>1.000000</td>\n",
       "      <td>1.000000</td>\n",
       "    </tr>\n",
       "  </tbody>\n",
       "</table>\n",
       "<p>8 rows × 724 columns</p>\n",
       "</div>"
      ],
      "text/plain": [
       "               0            1            2            3            4    \\\n",
       "count  6586.000000  6586.000000  6586.000000  6586.000000  6586.000000   \n",
       "mean      0.044488     0.009110     0.041755     0.045855     0.010325   \n",
       "std       0.206193     0.095019     0.200045     0.209186     0.101093   \n",
       "min       0.000000     0.000000     0.000000     0.000000     0.000000   \n",
       "25%       0.000000     0.000000     0.000000     0.000000     0.000000   \n",
       "50%       0.000000     0.000000     0.000000     0.000000     0.000000   \n",
       "75%       0.000000     0.000000     0.000000     0.000000     0.000000   \n",
       "max       1.000000     1.000000     1.000000     1.000000     1.000000   \n",
       "\n",
       "               5            6            7            8            9    ...  \\\n",
       "count  6586.000000  6586.000000  6586.000000  6586.000000  6586.000000  ...   \n",
       "mean      0.069997     0.028394     0.023231     0.008351     0.034771  ...   \n",
       "std       0.255161     0.166107     0.150648     0.091009     0.183212  ...   \n",
       "min       0.000000     0.000000     0.000000     0.000000     0.000000  ...   \n",
       "25%       0.000000     0.000000     0.000000     0.000000     0.000000  ...   \n",
       "50%       0.000000     0.000000     0.000000     0.000000     0.000000  ...   \n",
       "75%       0.000000     0.000000     0.000000     0.000000     0.000000  ...   \n",
       "max       1.000000     1.000000     1.000000     1.000000     1.000000  ...   \n",
       "\n",
       "               714          715          716          717          718  \\\n",
       "count  6586.000000  6586.000000  6586.000000  6586.000000  6586.000000   \n",
       "mean      0.001215     0.000759     0.000607     0.000456     0.000152   \n",
       "std       0.034834     0.027545     0.024639     0.021339     0.012322   \n",
       "min       0.000000     0.000000     0.000000     0.000000     0.000000   \n",
       "25%       0.000000     0.000000     0.000000     0.000000     0.000000   \n",
       "50%       0.000000     0.000000     0.000000     0.000000     0.000000   \n",
       "75%       0.000000     0.000000     0.000000     0.000000     0.000000   \n",
       "max       1.000000     1.000000     1.000000     1.000000     1.000000   \n",
       "\n",
       "               719          720          721          722          723  \n",
       "count  6586.000000  6586.000000  6586.000000  6586.000000  6586.000000  \n",
       "mean      0.000456     0.001670     0.424507     0.395097     0.227730  \n",
       "std       0.021339     0.040837     0.191199     0.341202     0.157888  \n",
       "min       0.000000     0.000000     0.000000     0.000000     0.000000  \n",
       "25%       0.000000     0.000000     0.284419     0.000000     0.113208  \n",
       "50%       0.000000     0.000000     0.412357     0.357143     0.188679  \n",
       "75%       0.000000     0.000000     0.521491     0.714286     0.301887  \n",
       "max       1.000000     1.000000     1.000000     1.000000     1.000000  \n",
       "\n",
       "[8 rows x 724 columns]"
      ]
     },
     "execution_count": 16,
     "metadata": {},
     "output_type": "execute_result"
    }
   ],
   "source": [
    "# como vira um array, estou convertendo de volta para DataFrame para poder usar o describe\n",
    "df_scaled = pd.DataFrame(X_scaled)\n",
    "\n",
    "# agora todos os dados estão dentro do mesmo intervalo 0 e 1\n",
    "df_scaled.describe()"
   ]
  },
  {
   "cell_type": "markdown",
   "metadata": {
    "id": "WVpkPuSp_m5q"
   },
   "source": [
    "<h3>Codificando a variável dependente <b>categoria_de_situacao</b></h3>\n",
    "Assim como os valores das features categóricas em X foram transformados em 0 e 1 o mesmo será feito com y. Como é apenas uma única coluna usa-se o LabelEncoder."
   ]
  },
  {
   "cell_type": "code",
   "execution_count": 17,
   "metadata": {
    "colab": {
     "base_uri": "https://localhost:8080/"
    },
    "id": "jcrMR0B6kPkA",
    "outputId": "e094fead-507a-4c83-eae3-4189272458af"
   },
   "outputs": [
    {
     "data": {
      "text/plain": [
       "array([1, 1, 1, ..., 1, 0, 1])"
      ]
     },
     "execution_count": 17,
     "metadata": {},
     "output_type": "execute_result"
    }
   ],
   "source": [
    "from sklearn.preprocessing import LabelEncoder\n",
    "le = LabelEncoder()\n",
    "y_encoded = le.fit_transform(y)\n",
    "y_encoded"
   ]
  },
  {
   "cell_type": "markdown",
   "metadata": {
    "id": "fp0SMMlICLsv"
   },
   "source": [
    "A varíavel vira um array numpy após esse processo. Podemos converter de volta para DataFrame para observar melhor os valores armazenando em um nova variável. "
   ]
  },
  {
   "cell_type": "code",
   "execution_count": 19,
   "metadata": {
    "colab": {
     "base_uri": "https://localhost:8080/",
     "height": 238
    },
    "id": "Mzeu0KtFAvMt",
    "outputId": "fdf57422-9587-44c2-ad0e-50843adeb353"
   },
   "outputs": [
    {
     "data": {
      "text/html": [
       "<div>\n",
       "<style scoped>\n",
       "    .dataframe tbody tr th:only-of-type {\n",
       "        vertical-align: middle;\n",
       "    }\n",
       "\n",
       "    .dataframe tbody tr th {\n",
       "        vertical-align: top;\n",
       "    }\n",
       "\n",
       "    .dataframe thead th {\n",
       "        text-align: right;\n",
       "    }\n",
       "</style>\n",
       "<table border=\"1\" class=\"dataframe\">\n",
       "  <thead>\n",
       "    <tr style=\"text-align: right;\">\n",
       "      <th></th>\n",
       "      <th>categoria_de_situacao</th>\n",
       "    </tr>\n",
       "  </thead>\n",
       "  <tbody>\n",
       "    <tr>\n",
       "      <th>0</th>\n",
       "      <td>1</td>\n",
       "    </tr>\n",
       "    <tr>\n",
       "      <th>1</th>\n",
       "      <td>1</td>\n",
       "    </tr>\n",
       "    <tr>\n",
       "      <th>2</th>\n",
       "      <td>1</td>\n",
       "    </tr>\n",
       "    <tr>\n",
       "      <th>3</th>\n",
       "      <td>1</td>\n",
       "    </tr>\n",
       "    <tr>\n",
       "      <th>4</th>\n",
       "      <td>1</td>\n",
       "    </tr>\n",
       "    <tr>\n",
       "      <th>5</th>\n",
       "      <td>1</td>\n",
       "    </tr>\n",
       "  </tbody>\n",
       "</table>\n",
       "</div>"
      ],
      "text/plain": [
       "   categoria_de_situacao\n",
       "0                      1\n",
       "1                      1\n",
       "2                      1\n",
       "3                      1\n",
       "4                      1\n",
       "5                      1"
      ]
     },
     "execution_count": 19,
     "metadata": {},
     "output_type": "execute_result"
    }
   ],
   "source": [
    "df = pd.DataFrame(y_encoded, columns = ['categoria_de_situacao'])\n",
    "\n",
    "df.head(6)\n",
    "# concluise que:\n",
    "# E = 1\n",
    "# C = 0"
   ]
  },
  {
   "cell_type": "code",
   "execution_count": 20,
   "metadata": {
    "colab": {
     "base_uri": "https://localhost:8080/"
    },
    "id": "6EWIdfvxC5A_",
    "outputId": "8ec5e244-ca57-4ea6-a839-9cec2497b86f"
   },
   "outputs": [
    {
     "name": "stdout",
     "output_type": "stream",
     "text": [
      "<class 'numpy.ndarray'>\n",
      "<class 'numpy.ndarray'>\n"
     ]
    }
   ],
   "source": [
    "# observando os tipos das variáveis\n",
    "print(type(X_scaled))\n",
    "print(type(y_encoded))"
   ]
  },
  {
   "cell_type": "markdown",
   "metadata": {
    "id": "vQNpmd8NEGtV"
   },
   "source": [
    "<h1>Separando os dados em conjunto de treino e teste</h1>\n",
    "Será utilizado 20% dos dados para teste e 80% para treino."
   ]
  },
  {
   "cell_type": "code",
   "execution_count": 22,
   "metadata": {
    "id": "RYE0vzgyFF_N"
   },
   "outputs": [],
   "source": [
    "from sklearn.model_selection import train_test_split\n",
    "X_train,X_test,y_train,y_test = train_test_split(X_scaled,y_encoded,test_size=0.2,random_state=42)"
   ]
  },
  {
   "cell_type": "code",
   "execution_count": 24,
   "metadata": {
    "colab": {
     "base_uri": "https://localhost:8080/"
    },
    "id": "GWsgb5v7FHRj",
    "outputId": "709b299d-5fff-4e9e-8a97-0bafd5426a90"
   },
   "outputs": [
    {
     "name": "stdout",
     "output_type": "stream",
     "text": [
      "Para X_train tem-se 5268 linhas e 724 colunas:(5268, 724)\n",
      "Para X_test tem-se 1318 linhas e 724 colunas:(1318, 724)\n",
      "Para y_train tem-se 5268 linhas com os valores de classe referentes a cada amostra em X_train:(5268,)\n",
      "Para y_test tem-se 5268 linhas com os valores de classe referentes a cada amostra em X_test:(1318,)\n"
     ]
    }
   ],
   "source": [
    "print(f\"Para X_train tem-se {X_train.shape[0]} linhas e {X_train.shape[1]} colunas:{X_train.shape}\")\n",
    "print(f\"Para X_test tem-se {X_test.shape[0]} linhas e {X_test.shape[1]} colunas:{X_test.shape}\")\n",
    "print(f\"Para y_train tem-se {y_train.shape[0]} linhas com os valores de classe referentes a cada amostra em X_train:{y_train.shape}\")\n",
    "print(f\"Para y_test tem-se {y_train.shape[0]} linhas com os valores de classe referentes a cada amostra em X_test:{y_test.shape}\")"
   ]
  },
  {
   "cell_type": "code",
   "execution_count": 29,
   "metadata": {
    "colab": {
     "base_uri": "https://localhost:8080/"
    },
    "id": "whpEGmDSKHFn",
    "outputId": "319b3b51-d70d-4674-b375-5ba34a4f3cb0"
   },
   "outputs": [
    {
     "name": "stdout",
     "output_type": "stream",
     "text": [
      "[[0.         0.         0.         ... 0.24546676 0.10714286 0.37735849]\n",
      " [0.         0.         0.         ... 0.5486904  0.         0.33962264]\n",
      " [0.         0.         0.         ... 0.5486904  0.         0.11320755]\n",
      " ...\n",
      " [0.         0.         0.         ... 0.18132975 0.53571429 0.09433962]\n",
      " [0.         0.         0.         ... 0.1450638  0.         0.24528302]\n",
      " [0.         0.         0.         ... 0.         0.         0.24528302]]\n"
     ]
    }
   ],
   "source": [
    "print(X_train)"
   ]
  },
  {
   "cell_type": "code",
   "execution_count": 30,
   "metadata": {
    "colab": {
     "base_uri": "https://localhost:8080/"
    },
    "id": "zL3yV9q3YyKR",
    "outputId": "ea4d46aa-8714-4ba8-cf23-592b36497e78"
   },
   "outputs": [
    {
     "name": "stdout",
     "output_type": "stream",
     "text": [
      "[[0.         0.         0.         ... 0.79214238 0.35714286 0.18867925]\n",
      " [0.         0.         0.         ... 0.49126931 0.         0.35849057]\n",
      " [0.         0.         0.         ... 1.         0.75       0.16981132]\n",
      " ...\n",
      " [0.         0.         0.         ... 1.         0.75       0.13207547]\n",
      " [0.         0.         0.         ... 0.28441907 0.82142857 0.16981132]\n",
      " [0.         0.         0.         ... 0.32303559 0.39285714 0.09433962]]\n"
     ]
    }
   ],
   "source": [
    "print(X_test)"
   ]
  },
  {
   "cell_type": "code",
   "execution_count": 32,
   "metadata": {
    "colab": {
     "base_uri": "https://localhost:8080/",
     "height": 52
    },
    "id": "EyZGkC_3NP2w",
    "outputId": "01140b2c-04a6-46a6-e9c9-9e471c4ad1c2"
   },
   "outputs": [
    {
     "name": "stdout",
     "output_type": "stream",
     "text": [
      "[1 0 1 ... 0 0 1]\n",
      "[1 1 1 ... 1 1 1]\n"
     ]
    }
   ],
   "source": [
    "print(y_train)\n",
    "print(y_test)"
   ]
  },
  {
   "cell_type": "markdown",
   "metadata": {
    "id": "NmitV1LUNbwz"
   },
   "source": [
    "# Aplicação dos algoritmos"
   ]
  },
  {
   "cell_type": "markdown",
   "metadata": {},
   "source": [
    "Definindo os hiperparâmetros para cada modelo"
   ]
  },
  {
   "cell_type": "code",
   "execution_count": 34,
   "metadata": {},
   "outputs": [],
   "source": [
    "# Logistic Regression\n",
    "logistic_params = {\n",
    "    'C': np.linspace(0.1, 10, 20),\n",
    "    'penalty': ['l1', 'l2'],\n",
    "    'class_weight': ['balanced', None],\n",
    "    'random_state': [42],\n",
    "    'solver': ['liblinear']\n",
    "}\n",
    "\n",
    "# Decision Trees\n",
    "decision_tree_params = {\n",
    "    'criterion': ['entropy', 'gini'],\n",
    "    'max_depth': [3, 5, 10, 20],\n",
    "    'max_features': np.arange(1, X_train.shape[1]),\n",
    "    'class_weight': ['balanced', None],\n",
    "    'random_state': [42]\n",
    "}\n",
    "\n",
    "# KNN\n",
    "knn_params= {\n",
    "    'weights':['uniform','distance'],\n",
    "    'n_neighbors': np.arange(1,21),\n",
    "    'metric':['minkowski','euclidean']\n",
    "}\n",
    "\n",
    "# SVM\n",
    "svm_params = {\n",
    "    'C': np.linspace(0.1, 10, 20),\n",
    "    'kernel': ['rbf','sigmoid'],\n",
    "    'class_weight':[None,'balanced'],\n",
    "    'gamma':['scale',1,0.1,0.01,0.001,0.0001]\n",
    "}"
   ]
  },
  {
   "cell_type": "markdown",
   "metadata": {},
   "source": [
    "Definindo os classificadores"
   ]
  },
  {
   "cell_type": "code",
   "execution_count": 36,
   "metadata": {},
   "outputs": [],
   "source": [
    "classifiers = {\n",
    "    'LogisticRegression': {\n",
    "        'model_name': LogisticRegression(),\n",
    "        'params': logistic_params\n",
    "    },\n",
    "    'DecisionTree': {\n",
    "        'model_name': DecisionTreeClassifier(),\n",
    "        'params': decision_tree_params\n",
    "    },\n",
    "    'KNN': {\n",
    "        'model_name': KNeighborsClassifier(),\n",
    "        'params': knn_params\n",
    "    },\n",
    "    'SVM': {\n",
    "        'model_name': SVC(),\n",
    "        'params': svm_params\n",
    "    }\n",
    "}"
   ]
  },
  {
   "cell_type": "markdown",
   "metadata": {},
   "source": [
    "## Encontrando os melhores hiperparâmetros"
   ]
  },
  {
   "cell_type": "markdown",
   "metadata": {},
   "source": [
    "Quanto maior for o valor de **AUC**, melhor o nosso modelo está. Através do AUC é possível mensurar o nível de separabilidade do modelo, isto é, o quão bom ele está em prever classes 0 como 0 e classes 1 como 1. Para o nosso caso, quanto maior o AUC, maior a capacidade do modelo em distinguir alunos evadidos (1) de concluintes (0).\n",
    "\n",
    "Vamos utilizar `RandomizedSearchCV` para encontrar os melhores parâmetros para cada modelo visando o **AUC** como métrica de avaliação primária."
   ]
  },
  {
   "cell_type": "code",
   "execution_count": 39,
   "metadata": {},
   "outputs": [],
   "source": [
    "def serch_for_best_params(classifiers, x, y,scoring='roc_auc', cv=9, n_iter=10):\n",
    "\n",
    "  for model_name, model_attributes in classifiers.items():\n",
    "\n",
    "        rnd_search = RandomizedSearchCV(model_attributes['model_name'], model_attributes['params'], \n",
    "                                                        scoring=scoring, cv=cv,\n",
    "                                                random_state=42, n_iter=n_iter)\n",
    "        rnd_search.fit(x, y)\n",
    "\n",
    "        col_names = [x for x,i in rnd_search.best_params_.items()]\n",
    "\n",
    "        results = pd.DataFrame(rnd_search.best_params_, columns=col_names, index=[0])\n",
    "        print(f'Para {model_name}:')\n",
    "        print(f' Best score:{rnd_search.best_score_}')\n",
    "        display(results)"
   ]
  },
  {
   "cell_type": "code",
   "execution_count": 40,
   "metadata": {
    "scrolled": false
   },
   "outputs": [
    {
     "name": "stdout",
     "output_type": "stream",
     "text": [
      "Para LogisticRegression:\n",
      " Best score:0.8657232424098256\n"
     ]
    },
    {
     "data": {
      "text/html": [
       "<div>\n",
       "<style scoped>\n",
       "    .dataframe tbody tr th:only-of-type {\n",
       "        vertical-align: middle;\n",
       "    }\n",
       "\n",
       "    .dataframe tbody tr th {\n",
       "        vertical-align: top;\n",
       "    }\n",
       "\n",
       "    .dataframe thead th {\n",
       "        text-align: right;\n",
       "    }\n",
       "</style>\n",
       "<table border=\"1\" class=\"dataframe\">\n",
       "  <thead>\n",
       "    <tr style=\"text-align: right;\">\n",
       "      <th></th>\n",
       "      <th>solver</th>\n",
       "      <th>random_state</th>\n",
       "      <th>penalty</th>\n",
       "      <th>class_weight</th>\n",
       "      <th>C</th>\n",
       "    </tr>\n",
       "  </thead>\n",
       "  <tbody>\n",
       "    <tr>\n",
       "      <th>0</th>\n",
       "      <td>liblinear</td>\n",
       "      <td>42</td>\n",
       "      <td>l2</td>\n",
       "      <td>NaN</td>\n",
       "      <td>3.747368</td>\n",
       "    </tr>\n",
       "  </tbody>\n",
       "</table>\n",
       "</div>"
      ],
      "text/plain": [
       "      solver  random_state penalty class_weight         C\n",
       "0  liblinear            42      l2          NaN  3.747368"
      ]
     },
     "metadata": {},
     "output_type": "display_data"
    },
    {
     "name": "stdout",
     "output_type": "stream",
     "text": [
      "Para DecisionTree:\n",
      " Best score:0.7547199903506874\n"
     ]
    },
    {
     "data": {
      "text/html": [
       "<div>\n",
       "<style scoped>\n",
       "    .dataframe tbody tr th:only-of-type {\n",
       "        vertical-align: middle;\n",
       "    }\n",
       "\n",
       "    .dataframe tbody tr th {\n",
       "        vertical-align: top;\n",
       "    }\n",
       "\n",
       "    .dataframe thead th {\n",
       "        text-align: right;\n",
       "    }\n",
       "</style>\n",
       "<table border=\"1\" class=\"dataframe\">\n",
       "  <thead>\n",
       "    <tr style=\"text-align: right;\">\n",
       "      <th></th>\n",
       "      <th>random_state</th>\n",
       "      <th>max_features</th>\n",
       "      <th>max_depth</th>\n",
       "      <th>criterion</th>\n",
       "      <th>class_weight</th>\n",
       "    </tr>\n",
       "  </thead>\n",
       "  <tbody>\n",
       "    <tr>\n",
       "      <th>0</th>\n",
       "      <td>42</td>\n",
       "      <td>518</td>\n",
       "      <td>20</td>\n",
       "      <td>gini</td>\n",
       "      <td>balanced</td>\n",
       "    </tr>\n",
       "  </tbody>\n",
       "</table>\n",
       "</div>"
      ],
      "text/plain": [
       "   random_state  max_features  max_depth criterion class_weight\n",
       "0            42           518         20      gini     balanced"
      ]
     },
     "metadata": {},
     "output_type": "display_data"
    },
    {
     "name": "stdout",
     "output_type": "stream",
     "text": [
      "Para KNN:\n",
      " Best score:0.8330429495313241\n"
     ]
    },
    {
     "data": {
      "text/html": [
       "<div>\n",
       "<style scoped>\n",
       "    .dataframe tbody tr th:only-of-type {\n",
       "        vertical-align: middle;\n",
       "    }\n",
       "\n",
       "    .dataframe tbody tr th {\n",
       "        vertical-align: top;\n",
       "    }\n",
       "\n",
       "    .dataframe thead th {\n",
       "        text-align: right;\n",
       "    }\n",
       "</style>\n",
       "<table border=\"1\" class=\"dataframe\">\n",
       "  <thead>\n",
       "    <tr style=\"text-align: right;\">\n",
       "      <th></th>\n",
       "      <th>weights</th>\n",
       "      <th>n_neighbors</th>\n",
       "      <th>metric</th>\n",
       "    </tr>\n",
       "  </thead>\n",
       "  <tbody>\n",
       "    <tr>\n",
       "      <th>0</th>\n",
       "      <td>uniform</td>\n",
       "      <td>12</td>\n",
       "      <td>minkowski</td>\n",
       "    </tr>\n",
       "  </tbody>\n",
       "</table>\n",
       "</div>"
      ],
      "text/plain": [
       "   weights  n_neighbors     metric\n",
       "0  uniform           12  minkowski"
      ]
     },
     "metadata": {},
     "output_type": "display_data"
    },
    {
     "name": "stdout",
     "output_type": "stream",
     "text": [
      "Para SVM:\n",
      " Best score:0.8426572328526024\n"
     ]
    },
    {
     "data": {
      "text/html": [
       "<div>\n",
       "<style scoped>\n",
       "    .dataframe tbody tr th:only-of-type {\n",
       "        vertical-align: middle;\n",
       "    }\n",
       "\n",
       "    .dataframe tbody tr th {\n",
       "        vertical-align: top;\n",
       "    }\n",
       "\n",
       "    .dataframe thead th {\n",
       "        text-align: right;\n",
       "    }\n",
       "</style>\n",
       "<table border=\"1\" class=\"dataframe\">\n",
       "  <thead>\n",
       "    <tr style=\"text-align: right;\">\n",
       "      <th></th>\n",
       "      <th>kernel</th>\n",
       "      <th>gamma</th>\n",
       "      <th>class_weight</th>\n",
       "      <th>C</th>\n",
       "    </tr>\n",
       "  </thead>\n",
       "  <tbody>\n",
       "    <tr>\n",
       "      <th>0</th>\n",
       "      <td>rbf</td>\n",
       "      <td>0.01</td>\n",
       "      <td>NaN</td>\n",
       "      <td>8.957895</td>\n",
       "    </tr>\n",
       "  </tbody>\n",
       "</table>\n",
       "</div>"
      ],
      "text/plain": [
       "  kernel  gamma class_weight         C\n",
       "0    rbf   0.01          NaN  8.957895"
      ]
     },
     "metadata": {},
     "output_type": "display_data"
    }
   ],
   "source": [
    "serch_for_best_params(classifiers, X_train, y_train)"
   ]
  },
  {
   "cell_type": "markdown",
   "metadata": {},
   "source": [
    "## Treinando os modelos e avaliando os resultados"
   ]
  },
  {
   "cell_type": "code",
   "execution_count": 41,
   "metadata": {},
   "outputs": [],
   "source": [
    "# instanciando os modelos com os parâmetros encontrados\n",
    "knn_clf = KNeighborsClassifier(n_neighbors = 12 , weights = 'uniform', metric='minkowski')\n",
    "svm_clf = SVC(probability=True, random_state=42, kernel='rbf',gamma=0.01, C=8.957895)\n",
    "logreg_clf = LogisticRegression(solver='liblinear',penalty='l2',C=3.747368,random_state=42)\n",
    "tree_clf = DecisionTreeClassifier(max_features=518,max_depth=20,criterion='gini',class_weight='balanced',random_state=42)"
   ]
  },
  {
   "cell_type": "code",
   "execution_count": 42,
   "metadata": {},
   "outputs": [
    {
     "data": {
      "text/plain": [
       "DecisionTreeClassifier(class_weight='balanced', max_depth=20, max_features=518,\n",
       "                       random_state=42)"
      ]
     },
     "execution_count": 42,
     "metadata": {},
     "output_type": "execute_result"
    }
   ],
   "source": [
    "# treinando os modelos\n",
    "knn_clf.fit(X_train, y_train)\n",
    "svm_clf.fit(X_train, y_train)\n",
    "logreg_clf.fit(X_train, y_train)\n",
    "tree_clf.fit(X_train, y_train)"
   ]
  },
  {
   "cell_type": "code",
   "execution_count": 43,
   "metadata": {},
   "outputs": [],
   "source": [
    "# função para plotar os resultados\n",
    "def plot_conf_matrix_and_metrics(y_pred,conf_matrix,model,model_name):\n",
    "  fig, axs = plt.subplots(1,2, constrained_layout=True,figsize=(9,5))\n",
    "  \n",
    "  disp = ConfusionMatrixDisplay(confusion_matrix = conf_matrix, display_labels = model.classes_)\n",
    "  axs[0].set_title(f'Matriz de confusão - {model_name}')\n",
    "  disp.plot(ax=axs[0],colorbar=False)\n",
    "\n",
    "  axs[1].axis('off')\n",
    "  axs[1].set_title(f'Resultados do {model_name}',fontsize=15)\n",
    "  axs[1].text(0.15,0.8,f'Previu {conf_matrix[1,1]} evadidos corretamente',color='green',va='center',fontsize=10, weight='bold')\n",
    "  axs[1].text(0.15,0.75,f'Previu {conf_matrix[0,0]} concluintes corretamente',color='green',va='center',fontsize=10, weight='bold')\n",
    "  axs[1].text(0.15,0.70,f'Previu {conf_matrix[0,1]} como concluintes quando eram evadidos',color='red',va='center',fontsize=10, weight='bold')\n",
    "  axs[1].text(0.15,0.65,f'Previu {conf_matrix[1,0]} como evadidos quando eram concluintes',color='red',va='center',fontsize=10, weight='bold')\n",
    "\n",
    "  axs[1].text(0.15,0.50,'Precisão: %.2f' % precision_score(y_test, y_pred),va='center',fontsize=10, weight='bold')\n",
    "  axs[1].text(0.15,0.45,'Acurácia: %.2f' % accuracy_score(y_test, y_pred),va='center',fontsize=10, weight='bold')\n",
    "  axs[1].text(0.15,0.40,'F1 Score: %.2f' % f1_score(y_test, y_pred),va='center',fontsize=10, weight='bold')\n",
    "  axs[1].text(0.15,0.35,'Recall Score: %.2f' % recall_score(y_test, y_pred),va='center',fontsize=10, weight='bold')\n",
    "\n",
    "  fig.show()\n"
   ]
  },
  {
   "cell_type": "markdown",
   "metadata": {},
   "source": [
    "Desempenho do KNN"
   ]
  },
  {
   "cell_type": "code",
   "execution_count": 45,
   "metadata": {},
   "outputs": [
    {
     "data": {
      "image/png": "[encoded data removed]",
      "text/plain": [
       "<Figure size 900x500 with 2 Axes>"
      ]
     },
     "metadata": {},
     "output_type": "display_data"
    }
   ],
   "source": [
    "KNNpredicted = knn_clf.predict(X_test)\n",
    "conf_matrix = confusion_matrix(y_test,KNNpredicted)\n",
    "plot_conf_matrix_and_metrics(KNNpredicted,conf_matrix,knn_clf,'KNN')"
   ]
  },
  {
   "cell_type": "markdown",
   "metadata": {},
   "source": [
    "Desempenho do Decision Tree"
   ]
  },
  {
   "cell_type": "code",
   "execution_count": 49,
   "metadata": {},
   "outputs": [
    {
     "data": {
      "image/png": "[encoded data removed]",
      "text/plain": [
       "<Figure size 900x500 with 2 Axes>"
      ]
     },
     "metadata": {},
     "output_type": "display_data"
    }
   ],
   "source": [
    "tree_predicted = tree_clf.predict(X_test)\n",
    "conf_matrix = confusion_matrix(y_test,tree_predicted)\n",
    "plot_conf_matrix_and_metrics(tree_predicted,conf_matrix,tree_clf,'Decision Tree')"
   ]
  },
  {
   "cell_type": "markdown",
   "metadata": {},
   "source": [
    "Desempenho do SVM"
   ]
  },
  {
   "cell_type": "code",
   "execution_count": 50,
   "metadata": {},
   "outputs": [
    {
     "data": {
      "image/png": "[encoded data removed]",
      "text/plain": [
       "<Figure size 900x500 with 2 Axes>"
      ]
     },
     "metadata": {},
     "output_type": "display_data"
    }
   ],
   "source": [
    "svm_predicted = svm_clf.predict(X_test)\n",
    "conf_matrix = confusion_matrix(y_test,svm_predicted)\n",
    "plot_conf_matrix_and_metrics(svm_predicted,conf_matrix,svm_clf,'SVM')"
   ]
  },
  {
   "cell_type": "markdown",
   "metadata": {},
   "source": [
    "Desempenho do Logistic Regression"
   ]
  },
  {
   "cell_type": "code",
   "execution_count": 51,
   "metadata": {},
   "outputs": [
    {
     "data": {
      "image/png": "[encoded data removed]",
      "text/plain": [
       "<Figure size 900x500 with 2 Axes>"
      ]
     },
     "metadata": {},
     "output_type": "display_data"
    }
   ],
   "source": [
    "logreg_predicted = logreg_clf.predict(X_test)\n",
    "conf_matrix = confusion_matrix(y_test,logreg_predicted)\n",
    "plot_conf_matrix_and_metrics(logreg_predicted,conf_matrix,logreg_clf,'Logistic Regression')"
   ]
  },
  {
   "cell_type": "markdown",
   "metadata": {},
   "source": [
    "Visualizando a importância das features para o Decision Tree"
   ]
  },
  {
   "cell_type": "code",
   "execution_count": 78,
   "metadata": {},
   "outputs": [
    {
     "data": {
      "text/plain": [
       "<AxesSubplot:>"
      ]
     },
     "execution_count": 78,
     "metadata": {},
     "output_type": "execute_result"
    },
    {
     "data": {
      "image/png": "[encoded data removed]",
      "text/plain": [
       "<Figure size 640x480 with 1 Axes>"
      ]
     },
     "metadata": {},
     "output_type": "display_data"
    }
   ],
   "source": [
    "feat_importances = pd.Series(tree_clf.feature_importances_, index=X_all.columns)\n",
    "feat_importances.nlargest(10).plot(kind='barh')"
   ]
  },
  {
   "cell_type": "markdown",
   "metadata": {},
   "source": [
    "## Comparando os modelos pela curva ROC"
   ]
  },
  {
   "cell_type": "code",
   "execution_count": 70,
   "metadata": {},
   "outputs": [],
   "source": [
    "def compare_models_by_roc_curve(model,label_name):\n",
    " # fig, ax = plt.subplots()\n",
    "  # calculando roc\n",
    "  y_pred_probability = model.predict_proba(X_test)[::,1]\n",
    "  # calculando também o auc\n",
    "  fpr, tpr, _ = metrics.roc_curve(y_test,  y_pred_probability)\n",
    "  auc = metrics.roc_auc_score(y_test, y_pred_probability)\n",
    "  plt.plot(fpr,tpr,label=label_name+\",auc=\"+str(auc))\n",
    "  plt.legend(loc=4)\n",
    "  plt.xlabel(\"False Positive Rate\")\n",
    "  plt.ylabel('True Positive Rate')"
   ]
  },
  {
   "cell_type": "code",
   "execution_count": 71,
   "metadata": {},
   "outputs": [
    {
     "data": {
      "image/png": "[encoded data removed]",
      "text/plain": [
       "<Figure size 640x480 with 1 Axes>"
      ]
     },
     "metadata": {},
     "output_type": "display_data"
    }
   ],
   "source": [
    "compare_models_by_roc_curve(logreg_clf,\"LogisticRegression\")\n",
    "compare_models_by_roc_curve(knn_clf,\"KNNClassifier\")\n",
    "compare_models_by_roc_curve(tree_clf,\"DecisionTree\")\n",
    "compare_models_by_roc_curve(svm_clf,\"SVMClassifier\")"
   ]
  },
  {
   "cell_type": "markdown",
   "metadata": {},
   "source": [
    "Logistic Regression apresentou o melhor AUC, então este será o nosso modelo final."
   ]
  },
  {
   "cell_type": "markdown",
   "metadata": {},
   "source": [
    "## Salvando o modelo"
   ]
  },
  {
   "cell_type": "code",
   "execution_count": 73,
   "metadata": {},
   "outputs": [],
   "source": [
    "import pickle"
   ]
  },
  {
   "cell_type": "code",
   "execution_count": 74,
   "metadata": {},
   "outputs": [],
   "source": [
    "with open ('logreg_model.pkl','wb') as f:\n",
    "  pickle.dump([enc, sc, le, logreg_clf], f)"
   ]
  }
 ],
 "metadata": {
  "colab": {
   "provenance": []
  },
  "kernelspec": {
   "display_name": "Python 3 (ipykernel)",
   "language": "python",
   "name": "python3"
  },
  "language_info": {
   "codemirror_mode": {
    "name": "ipython",
    "version": 3
   },
   "file_extension": ".py",
   "mimetype": "text/x-python",
   "name": "python",
   "nbconvert_exporter": "python",
   "pygments_lexer": "ipython3",
   "version": "3.9.13"
  },
  "vscode": {
   "interpreter": {
    "hash": "8a94588eda9d64d9e9a351ab8144e55b1fabf5113b54e67dd26a8c27df0381b3"
   }
  }
 },
 "nbformat": 4,
 "nbformat_minor": 1
}
